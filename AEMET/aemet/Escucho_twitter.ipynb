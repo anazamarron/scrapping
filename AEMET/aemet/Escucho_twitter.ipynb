{
 "metadata": {
  "name": "",
  "signature": "sha256:c3df5c974f2652c027b3f61a2799ade0651b3ece83fb3d1ec3c6c3ff319d69bc"
 },
 "nbformat": 3,
 "nbformat_minor": 0,
 "worksheets": [
  {
   "cells": [
    {
     "cell_type": "code",
     "collapsed": false,
     "input": [
      "import time\n",
      "from tweepy import Stream\n",
      "from tweepy import OAuthHandler\n",
      "from tweepy.streaming import StreamListener\n",
      "import os"
     ],
     "language": "python",
     "metadata": {},
     "outputs": [],
     "prompt_number": 5
    },
    {
     "cell_type": "code",
     "collapsed": false,
     "input": [
      "ckey = 'RMNErsbyNWgPP2vEpsSBG6Gr9'\n",
      "consumer_secret = 'AfttMkzkROoiOgNn340QdjBu8WseuTOjyKPG0hbWFzSstULiCo'\n",
      "access_token_key = '285008880-CXc7m5CranacCoLN5rqjS84WfAsuNOvT006rNpKa'\n",
      "access_token_secret = 'qEIk8pzuHbt2plyx2xKMkezwX3zS3fY7HwKpc1m5GpYYa'\n",
      " \n",
      " \n",
      "start_time = time.time() #grabs the system time\n",
      "\n",
      "keyword_list = ['hacking team'] #track list\n"
     ],
     "language": "python",
     "metadata": {},
     "outputs": [],
     "prompt_number": 12
    },
    {
     "cell_type": "code",
     "collapsed": false,
     "input": [
      "import tweepy\n",
      "import sys\n",
      "import pika\n",
      "import json\n",
      "import time\n",
      "import pprint\n",
      "pp = pprint.PrettyPrinter(indent=1)\n",
      "\n",
      "#get your own twitter credentials at dev.twitter.com\n",
      "consumer_key = ckey\n",
      "consumer_secret = consumer_secret\n",
      "access_token = access_token_key\n",
      "access_token_secret = access_token_secret\n",
      "\n",
      "auth = tweepy.OAuthHandler(consumer_key, consumer_secret)\n",
      "auth.set_access_token(access_token, access_token_secret)\n",
      "api = tweepy.API(auth)\n",
      "\n",
      "class CustomStreamListener(tweepy.StreamListener):\n",
      "    def __init__(self, api):\n",
      "        self.api = api\n",
      "        super(tweepy.StreamListener, self).__init__()\n",
      "\n",
      "        #setup rabbitMQ Connection\n",
      "        connection = pika.BlockingConnection(\n",
      "            pika.ConnectionParameters(host='localhost')\n",
      "        )\n",
      "        self.channel = connection.channel()\n",
      "\n",
      "        #set max queue size\n",
      "        args = {\"x-max-length\": 2000}\n",
      "\n",
      "        self.channel.queue_declare(queue='twitter_topic_feed', arguments=args)\n",
      "\n",
      "    def on_status(self, status):\n",
      "        print status.text\n",
      "        print 'Localizaci\u00f3n: ', status.geo\n",
      "        print 'Source: ' , status.source\n",
      "        print 'Created at:' , status.created_at\n",
      "        print \"Lang: \", status.lang\n",
      "        \n",
      "        print\n",
      "        \n",
      "        print\n",
      "\n",
      "        data = {}\n",
      "        data['text'] = status.text\n",
      "        data['created_at'] = time.mktime(status.created_at.timetuple())\n",
      "        data['geo'] = status.coordinates\n",
      "        data['source'] = status.source\n",
      " \n",
      "        \n",
      "        #queue the tweet\n",
      "        self.channel.basic_publish(exchange='',\n",
      "                                    routing_key='twitter_topic_feed',\n",
      "                                    body=json.dumps(data))\n",
      "\n",
      "    def on_error(self, status_code):\n",
      "        print 'Encountered error with status code:', status_code\n",
      "        print >> sys.stderr, 'Encountered error with status code:', status_code\n",
      "        return True  # Don't kill the stream\n",
      "\n",
      "    def on_timeout(self):\n",
      "        print >> sys.stderr, 'Timeout...'\n",
      "        return True  # Don't kill the stream\n"
     ],
     "language": "python",
     "metadata": {},
     "outputs": [],
     "prompt_number": 13
    },
    {
     "cell_type": "code",
     "collapsed": false,
     "input": [
      "\n",
      "sapi = tweepy.streaming.Stream(auth, CustomStreamListener(api))\n",
      "# my keyword today is chelsea as the team just had a big win\n",
      "sapi.filter(track=keyword_list)  "
     ],
     "language": "python",
     "metadata": {},
     "outputs": [
      {
       "output_type": "stream",
       "stream": "stdout",
       "text": [
        "RT @_JohnLeonard: Hacking Team MD used 'Passw0rd' as password \u2013 for every system http://t.co/s6ACw4XJaB via @Computing_News\n",
        "Localizaci\u00f3n:  None\n",
        "Source:  Tweetbot for i\u039fS\n",
        "Created at: 2015-07-06 11:40:26\n",
        "Lang:  en\n",
        "\n",
        "\n",
        "#HackingTeam hacked as tables turn on notorious surveillance company http://t.co/Bk9sDqrdXF #CyberSecurity"
       ]
      },
      {
       "output_type": "stream",
       "stream": "stdout",
       "text": [
        "\n",
        "Localizaci\u00f3n:  None\n",
        "Source:  Twitter Web Client\n",
        "Created at: 2015-07-06 11:40:26\n",
        "Lang:  en\n",
        "\n",
        "\n",
        "Hacking Team pirat\u00e9 \u2013 400 GB de donn\u00e9es dans la nature http://t.co/1HlzDUQ1aU #geeks #feedly"
       ]
      },
      {
       "output_type": "stream",
       "stream": "stdout",
       "text": [
        "\n",
        "Localizaci\u00f3n:  None\n",
        "Source:  Twitter Web Client\n",
        "Created at: 2015-07-06 11:40:29\n",
        "Lang:  fr\n",
        "\n",
        "\n",
        "Hacking Team hacked, attackers claim 400GB in dumped data http://t.co/ul7RK4v3CP via @csoonline"
       ]
      },
      {
       "output_type": "stream",
       "stream": "stdout",
       "text": [
        "\n",
        "Localizaci\u00f3n:  None\n",
        "Source:  Twitter Web Client\n",
        "Created at: 2015-07-06 11:40:30\n",
        "Lang:  en\n",
        "\n",
        "\n",
        "RT @rubin: The Intercept publie les manuels des logiciels de surveillance de Hacking Team : https://t.co/plvxLZhjwq cc @sachaqs @parizot"
       ]
      },
      {
       "output_type": "stream",
       "stream": "stdout",
       "text": [
        "\n",
        "Localizaci\u00f3n:  None\n",
        "Source:  Twitter for Mac\n",
        "Created at: 2015-07-06 11:40:31\n",
        "Lang:  fr\n",
        "\n",
        "\n",
        "RT @runasand: The NSA wants $1,000 to process a #FOIA concerning contracts with @hackingteam: https://t.co/7CLYZWeXuT"
       ]
      },
      {
       "output_type": "stream",
       "stream": "stdout",
       "text": [
        "\n",
        "Localizaci\u00f3n:  None\n",
        "Source:  Twitter for Android\n",
        "Created at: 2015-07-06 11:40:31\n",
        "Lang:  en\n",
        "\n",
        "\n",
        "RT @bortzmeyer: En fait, ce leak de Hacking Team, c'\u00e9tait juste un complot des auteurs de logiciels Bit Torrent, pour tester dans des condi\u2026"
       ]
      },
      {
       "output_type": "stream",
       "stream": "stdout",
       "text": [
        "\n",
        "Localizaci\u00f3n:  None\n",
        "Source:  Twidere for Android #2\n",
        "Created at: 2015-07-06 11:40:31\n",
        "Lang:  fr\n",
        "\n",
        "\n",
        "@paoloacos 400 gigas * . Alguien en Colombia utiliz\u00f3 los servicios de Hacking Team. No se sabe quien. Esto podr\u00eda aclarar\n",
        "Localizaci\u00f3n:  None\n",
        "Source:  Twitter for iPhone\n",
        "Created at: 2015-07-06 11:40:31\n",
        "Lang:  es\n",
        "\n",
        "\n",
        "Hackean Hacking Team, la empresa que usan los estados para vigilar y espiar en Internet http://t.co/feFWxNBvUd"
       ]
      },
      {
       "output_type": "stream",
       "stream": "stdout",
       "text": [
        "\n",
        "Localizaci\u00f3n:  None\n",
        "Source:  dlvr.it\n",
        "Created at: 2015-07-06 11:40:34\n",
        "Lang:  es\n",
        "\n",
        "\n",
        "RT @mikko: Big news: Hacking Team (a major manufacturer of malware for governmental use) has been hacked. See their Twitter account: @hacki\u2026"
       ]
      },
      {
       "output_type": "stream",
       "stream": "stdout",
       "text": [
        "\n",
        "Localizaci\u00f3n:  None\n",
        "Source:  Twitter for iPhone\n",
        "Created at: 2015-07-06 11:40:35\n",
        "Lang:  en\n",
        "\n",
        "\n",
        "RT @mikko: Big news: Hacking Team (a major manufacturer of malware for governmental use) has been hacked. See their Twitter account: @hacki\u2026"
       ]
      },
      {
       "output_type": "stream",
       "stream": "stdout",
       "text": [
        "\n",
        "Localizaci\u00f3n:  None\n",
        "Source:  Twitter for Android\n",
        "Created at: 2015-07-06 11:40:39\n",
        "Lang:  en\n",
        "\n",
        "\n",
        "RT @CSOonline: Hacking Team hacked, attackers claim 400GB in dumped data http://t.co/UHCo6uxSWX | via .@SteveD3"
       ]
      },
      {
       "output_type": "stream",
       "stream": "stdout",
       "text": [
        "\n",
        "Localizaci\u00f3n:  None\n",
        "Source:  Twitter for Android\n",
        "Created at: 2015-07-06 11:40:39\n",
        "Lang:  en\n",
        "\n",
        "\n",
        "RT @ZDNet: Hacking Team breach: A 400GB corporate data dump and online mockery http://t.co/a3a8yNTm0Z by @ZDNetCharlie"
       ]
      },
      {
       "output_type": "stream",
       "stream": "stdout",
       "text": [
        "\n",
        "Localizaci\u00f3n:  None\n",
        "Source:  Twitter for iPhone\n",
        "Created at: 2015-07-06 11:40:40\n",
        "Lang:  en\n",
        "\n",
        "\n",
        "#\u00dcberwachungssoftware: Aus #Hacking Team wurde #Hacked Team - heise online http://t.co/MCApzchn2a"
       ]
      },
      {
       "output_type": "stream",
       "stream": "stdout",
       "text": [
        "\n",
        "Localizaci\u00f3n:  None\n",
        "Source:  Twitter Web Client\n",
        "Created at: 2015-07-06 11:40:41\n",
        "Lang:  de\n",
        "\n",
        "\n",
        "Spy Tech Company 'Hacking Team' Gets Hacked http://t.co/uF3uGmWwhg"
       ]
      },
      {
       "output_type": "stream",
       "stream": "stdout",
       "text": [
        "\n",
        "Localizaci\u00f3n:  None\n",
        "Source:  Twitter Web Client\n",
        "Created at: 2015-07-06 11:40:41\n",
        "Lang:  en\n",
        "\n",
        "\n",
        "[Hacker News]'Hacking Team' Gets Hacked! 500GB of Data Dumped Over the Internet: 'Hacking Team' Gets Hacked! 5... http://t.co/V0vOflcWJi\n",
        "Localizaci\u00f3n:  None\n",
        "Source:  twitterfeed\n",
        "Created at: 2015-07-06 11:40:41\n",
        "Lang:  en\n",
        "\n",
        "\n",
        "RT @bezker1: @violet6femme per una panoramica dell'accaduto #HackingTeam \n",
        "https://t.co/deAigFFa0u"
       ]
      },
      {
       "output_type": "stream",
       "stream": "stdout",
       "text": [
        "\n",
        "Localizaci\u00f3n:  None\n",
        "Source:  TweetDeck\n",
        "Created at: 2015-07-06 11:40:43\n",
        "Lang:  it\n",
        "\n",
        "\n",
        "Hacking Team Hacked: Documents Show Company Sold Exploits And Spyware To UN-Blacklisted Governments http://t.co/MtXkcSKwK3\n",
        "Localizaci\u00f3n:  None\n",
        "Source:  twitterfeed\n",
        "Created at: 2015-07-06 11:40:43\n",
        "Lang:  en\n",
        "\n",
        "\n",
        "Hacking Team hacked, attackers claim 400GB in dumped data http://t.co/mA0ArMgwFN via @csoonline\n",
        "Localizaci\u00f3n:  None\n",
        "Source:  Twitter Web Client\n",
        "Created at: 2015-07-06 11:40:43\n",
        "Lang:  en\n",
        "\n",
        "\n",
        "Hacking Team Breach Exposes Insecurities Of A Controversial Surveillance Dealer http://t.co/kARz6I2tC2 \u2026 \u2026 \u2026 \u2026 http://t.co/ngMFdacvHb"
       ]
      },
      {
       "output_type": "stream",
       "stream": "stdout",
       "text": [
        "\n",
        "Localizaci\u00f3n:  None\n",
        "Source:  IFTTT\n",
        "Created at: 2015-07-06 11:40:44\n",
        "Lang:  en\n",
        "\n",
        "\n",
        "RT @ioerror: #HackingTeamTransparencyReport: \"This file contains information about TREVOR (Egypt) Anonymizers assigned by Hacking Team.\""
       ]
      },
      {
       "output_type": "stream",
       "stream": "stdout",
       "text": [
        "\n",
        "Localizaci\u00f3n:  None\n",
        "Source:  Twitter Web Client\n",
        "Created at: 2015-07-06 11:40:45\n",
        "Lang:  en\n",
        "\n",
        "\n",
        "RT @AyyildizOrg: Hacking Team hacklendi, 400 GB veri s\u0131zd\u0131r\u0131ld\u0131. Belgelerde T\u00fcrk Polisi de var.\n",
        "#HackingTeam http://t.co/3RtunB9lJC"
       ]
      },
      {
       "output_type": "stream",
       "stream": "stdout",
       "text": [
        "\n",
        "Localizaci\u00f3n:  None\n",
        "Source:  Twitter for Android\n",
        "Created at: 2015-07-06 11:40:46\n",
        "Lang:  tr\n",
        "\n",
        "\n",
        "RT @ZDNet: Hacking Team breach: A 400GB corporate data dump and online mockery http://t.co/a3a8yNTm0Z by @ZDNetCharlie"
       ]
      },
      {
       "output_type": "stream",
       "stream": "stdout",
       "text": [
        "\n",
        "Localizaci\u00f3n:  None\n",
        "Source:  Twitter for Android\n",
        "Created at: 2015-07-06 11:40:47\n",
        "Lang:  en\n",
        "\n",
        "\n",
        "RT @1001ptsIT: Hanno hackerato l'Hacking Team: mail e documenti postati su Twitter (repubblica.it) http://t.co/mHtiIWyeLu http://t.co/7lHry\u2026"
       ]
      },
      {
       "output_type": "stream",
       "stream": "stdout",
       "text": [
        "\n",
        "Localizaci\u00f3n:  None\n",
        "Source:  Twitter for Windows Phone\n",
        "Created at: 2015-07-06 11:40:48\n",
        "Lang:  it\n",
        "\n",
        "\n",
        "Hacking Team spyware company hacked, embarrassing emails revealed http://t.co/DIMZSLlk8J"
       ]
      },
      {
       "output_type": "stream",
       "stream": "stdout",
       "text": [
        "\n",
        "Localizaci\u00f3n:  None\n",
        "Source:  Nextgen Reader for Windows\n",
        "Created at: 2015-07-06 11:40:50\n",
        "Lang:  en\n",
        "\n",
        "\n",
        "RT @HackHispano: El Gobierno de Espa\u00f1a era cliente de Hacking Team http://t.co/XKsWicZVaw v\u00eda @redeszone"
       ]
      },
      {
       "output_type": "stream",
       "stream": "stdout",
       "text": [
        "\n",
        "Localizaci\u00f3n:  None\n",
        "Source:  Twitter for iPhone\n",
        "Created at: 2015-07-06 11:40:51\n",
        "Lang:  es\n",
        "\n",
        "\n",
        "RT @bezker1: @violet6femme qui invece si parla di fondi della @LombardiaOnLine dati a @hackingteam. #hackedteam #HackingTeam \n",
        "https://t.co/\u2026\n",
        "Localizaci\u00f3n:  None\n",
        "Source:  TweetDeck\n",
        "Created at: 2015-07-06 11:40:51\n",
        "Lang:  it\n",
        "\n",
        "\n",
        "RT @motherboard: Hacking Team, the company that sells malware to governments, just got megahacked: http://t.co/VvlxowY7tx http://t.co/wYiyq\u2026"
       ]
      },
      {
       "output_type": "stream",
       "stream": "stdout",
       "text": [
        "\n",
        "Localizaci\u00f3n:  None\n",
        "Source:  Twitter for iPhone\n",
        "Created at: 2015-07-06 11:40:52\n",
        "Lang:  en\n",
        "\n",
        "\n",
        "Hacking Team spyware company hacked, embarrassing emails revealed http://t.co/U5g0BAdLjo via @verge"
       ]
      },
      {
       "output_type": "stream",
       "stream": "stdout",
       "text": [
        "\n",
        "Localizaci\u00f3n:  None\n",
        "Source:  Mobile Web\n",
        "Created at: 2015-07-06 11:40:53\n",
        "Lang:  en\n",
        "\n",
        "\n",
        "Hacking Team, Which Sells Surveillance Tech To Governments, Exposed By Major Hack http://t.co/pKkpNUigPW via @instapaper"
       ]
      },
      {
       "output_type": "stream",
       "stream": "stdout",
       "text": [
        "\n",
        "Localizaci\u00f3n:  None\n",
        "Source:  Instapaper\n",
        "Created at: 2015-07-06 11:40:56\n",
        "Lang:  en\n",
        "\n",
        "\n",
        "Hacking Team: Hacker-Attacke auf Entwickler von \u00dcberwachungssoftware http://t.co/Ct8DUvbood"
       ]
      },
      {
       "output_type": "stream",
       "stream": "stdout",
       "text": [
        "\n",
        "Localizaci\u00f3n:  None\n",
        "Source:  twitterfeed\n",
        "Created at: 2015-07-06 11:40:56\n",
        "Lang:  de\n",
        "\n",
        "\n",
        "Hacking Team, el sistema de vigilancia de muchos pa\u00edses, ha sido hackeado http://t.co/TVpHuVMs71"
       ]
      },
      {
       "output_type": "stream",
       "stream": "stdout",
       "text": [
        "\n",
        "Localizaci\u00f3n:  None\n",
        "Source:  Twitter Web Client\n",
        "Created at: 2015-07-06 11:40:59\n",
        "Lang:  es\n",
        "\n",
        "\n",
        "RT @elEconomistaes: Hackean 'Hacking Team', la empresa que usan los estados para vigilar Internet http://t.co/UtYk5NP340 http://t.co/EmiSIQ\u2026"
       ]
      },
      {
       "output_type": "stream",
       "stream": "stdout",
       "text": [
        "\n",
        "Localizaci\u00f3n:  None\n",
        "Source:  Twitter for iPhone\n",
        "Created at: 2015-07-06 11:40:59\n",
        "Lang:  es\n",
        "\n",
        "\n",
        "RT @bbhorne: \"Someone in Italy is about to have a very bad day\" http://t.co/sEz64KlZ6b"
       ]
      },
      {
       "output_type": "stream",
       "stream": "stdout",
       "text": [
        "\n",
        "Localizaci\u00f3n:  None\n",
        "Source:  TweetCaster for Android\n",
        "Created at: 2015-07-06 11:41:01\n",
        "Lang:  en\n",
        "\n",
        "\n",
        "RT @bortzmeyer: En fait, ce leak de Hacking Team, c'\u00e9tait juste un complot des auteurs de logiciels Bit Torrent, pour tester dans des condi\u2026"
       ]
      },
      {
       "output_type": "stream",
       "stream": "stdout",
       "text": [
        "\n",
        "Localizaci\u00f3n:  None\n",
        "Source:  Twitter Web Client\n",
        "Created at: 2015-07-06 11:41:02\n",
        "Lang:  fr\n",
        "\n",
        "\n",
        "RT @SteveD3: I've now updated the Hacking Team story 7 times, including the latest updates on passwords, VPNs and more. http://t.co/YQRutEe\u2026"
       ]
      },
      {
       "output_type": "stream",
       "stream": "stdout",
       "text": [
        "\n",
        "Localizaci\u00f3n:  None\n",
        "Source:  Twitter for Android\n",
        "Created at: 2015-07-06 11:41:04\n",
        "Lang:  en\n",
        "\n",
        "\n",
        "RT @rkeuper: Spy Tech Company 'Hacking Team' Gets Hacked http://t.co/uF3uGmWwhg"
       ]
      },
      {
       "output_type": "stream",
       "stream": "stdout",
       "text": [
        "\n",
        "Localizaci\u00f3n:  None\n",
        "Source:  Twitter Web Client\n",
        "Created at: 2015-07-06 11:41:04\n",
        "Lang:  en\n",
        "\n",
        "\n",
        "#Maroc #Android le petit renouvellement de licence du Conseil Supr\u00eame de la D\u00e9fense Nationale avec Hacking Team http://t.co/orvJ7OUiKK"
       ]
      },
      {
       "output_type": "stream",
       "stream": "stdout",
       "text": [
        "\n",
        "Localizaci\u00f3n:  None\n",
        "Source:  Twitter Web Client\n",
        "Created at: 2015-07-06 11:41:06\n",
        "Lang:  fr\n",
        "\n",
        "\n",
        "Hackean Hacking Team, la empresa que usan los estados para vigilar y espiar en Internet http://t.co/FmfEixEZC9"
       ]
      },
      {
       "output_type": "stream",
       "stream": "stdout",
       "text": [
        "\n",
        "Localizaci\u00f3n:  None\n",
        "Source:  dlvr.it\n",
        "Created at: 2015-07-06 11:41:08\n",
        "Lang:  es\n",
        "\n",
        "\n",
        "RT @runasand: The NSA wants $1,000 to process a #FOIA concerning contracts with @hackingteam: https://t.co/7CLYZWeXuT"
       ]
      },
      {
       "output_type": "stream",
       "stream": "stdout",
       "text": [
        "\n",
        "Localizaci\u00f3n:  None\n",
        "Source:  Tweetium for Windows\n",
        "Created at: 2015-07-06 11:41:08\n",
        "Lang:  en\n",
        "\n",
        "\n",
        "RT @KohoStreet: Major Government Spying Service Supplier Hacked, 400GB of Data Stolen: An Italian company called Hacking Team,... http://t.\u2026"
       ]
      },
      {
       "output_type": "stream",
       "stream": "stdout",
       "text": [
        "\n",
        "Localizaci\u00f3n:  None\n",
        "Source:  Twitter Web Client\n",
        "Created at: 2015-07-06 11:41:10\n",
        "Lang:  en\n",
        "\n",
        "\n",
        "Hacking Team, Which Sells Surveillance Tech To Governments, Exposed By Major Hack - http://t.co/FXYfDm0DOv"
       ]
      },
      {
       "output_type": "stream",
       "stream": "stdout",
       "text": [
        "\n",
        "Localizaci\u00f3n:  None\n",
        "Source:  Twidere for Android #4\n",
        "Created at: 2015-07-06 11:41:13\n",
        "Lang:  en\n",
        "\n",
        "\n",
        "Hacking Team got hacked. http://t.co/UK6gGtdwn5"
       ]
      },
      {
       "output_type": "stream",
       "stream": "stdout",
       "text": [
        "\n",
        "Localizaci\u00f3n:  None\n",
        "Source:  iOS\n",
        "Created at: 2015-07-06 11:41:14\n",
        "Lang:  en\n",
        "\n",
        "\n",
        "#HackingTeamTransparencyReport: This file contains information about (Lebanon) Anonymizers assigned by Hacking Team.\n",
        "https://t.co/V5lXKkTk8x"
       ]
      },
      {
       "output_type": "stream",
       "stream": "stdout",
       "text": [
        "\n",
        "Localizaci\u00f3n:  None\n",
        "Source:  TweetDeck\n",
        "Created at: 2015-07-06 11:41:14\n",
        "Lang:  en\n",
        "\n",
        "\n",
        "RT @empiricalerror: #BREAKING: In an effort to improve their cyber security posture, Hacking Team announces new, more secure name H4ck1ng T\u2026"
       ]
      },
      {
       "output_type": "stream",
       "stream": "stdout",
       "text": [
        "\n",
        "Localizaci\u00f3n:  None\n",
        "Source:  Twitter for Android\n",
        "Created at: 2015-07-06 11:41:15\n",
        "Lang:  en\n",
        "\n",
        "\n",
        "Hackean Hacking Team, la empresa que usan los estados para vigilar y espiar en Internet http://t.co/qbqC5a0eZm"
       ]
      },
      {
       "output_type": "stream",
       "stream": "stdout",
       "text": [
        "\n",
        "Localizaci\u00f3n:  None\n",
        "Source:  dlvr.it\n",
        "Created at: 2015-07-06 11:41:18\n",
        "Lang:  es\n",
        "\n",
        "\n",
        "RT @MarocTopNews: Je suis s\u00fbr, \u00e7a doit \u00eatre un marocain de derb ghallef qui a fait saut\u00e9 la Hacking Team :) http://t.co/b0JkkLlXDe"
       ]
      },
      {
       "output_type": "stream",
       "stream": "stdout",
       "text": [
        "\n",
        "Localizaci\u00f3n:  None\n",
        "Source:  Twitter Web Client\n",
        "Created at: 2015-07-06 11:41:21\n",
        "Lang:  fr\n",
        "\n",
        "\n",
        "Hacking Team hacked, attackers claim 400GB in dumped data http://t.co/n3bVYarQfs"
       ]
      },
      {
       "output_type": "stream",
       "stream": "stdout",
       "text": [
        "\n",
        "Localizaci\u00f3n:  None\n",
        "Source:  Facebook\n",
        "Created at: 2015-07-06 11:41:26\n",
        "Lang:  en\n",
        "\n",
        "\n",
        "RT @motherboard: Hacking Team, the company that sells malware to governments, just got megahacked: http://t.co/VvlxowY7tx http://t.co/wYiyq\u2026"
       ]
      },
      {
       "output_type": "stream",
       "stream": "stdout",
       "text": [
        "\n",
        "Localizaci\u00f3n:  None\n",
        "Source:  Twitter for Android\n",
        "Created at: 2015-07-06 11:41:34\n",
        "Lang:  en\n",
        "\n",
        "\n",
        "RT @Hipertextual: Hacking Team, el sistema de vigilancia de muchos pa\u00edses, ha sido hackeado http://t.co/NRTK6Ggl93 http://t.co/Td3DIxTqMf"
       ]
      },
      {
       "output_type": "stream",
       "stream": "stdout",
       "text": [
        "\n",
        "Localizaci\u00f3n:  None\n",
        "Source:  Twitter for iPhone\n",
        "Created at: 2015-07-06 11:41:35\n",
        "Lang:  es\n",
        "\n",
        "\n",
        "Hacking Team wird zu Hacked Team: 400 GB interne Daten von \u00dcberwachungssoftware-Hersteller ver\u00f6ffentlicht. https://t.co/ZvULD2A8Zx"
       ]
      },
      {
       "output_type": "stream",
       "stream": "stdout",
       "text": [
        "\n",
        "Localizaci\u00f3n:  None\n",
        "Source:  TweetDeck\n",
        "Created at: 2015-07-06 11:41:37\n",
        "Lang:  de\n",
        "\n",
        "\n",
        "RT @AyyildizOrg: Hacking Team hacklendi, 400 GB veri s\u0131zd\u0131r\u0131ld\u0131. Belgelerde T\u00fcrk Polisi de var.\n",
        "#HackingTeam http://t.co/3RtunB9lJC"
       ]
      },
      {
       "output_type": "stream",
       "stream": "stdout",
       "text": [
        "\n",
        "Localizaci\u00f3n:  None\n",
        "Source:  Twitter for Android\n",
        "Created at: 2015-07-06 11:41:44\n",
        "Lang:  tr\n",
        "\n",
        "\n",
        "Hackean Hacking Team, la empresa que usan los estados para vigilar y espiar en Internet http://t.co/5LjUmCiTJg\n",
        "Localizaci\u00f3n:  None\n",
        "Source:  dlvr.it\n",
        "Created at: 2015-07-06 11:41:45\n",
        "Lang:  es\n",
        "\n",
        "\n",
        "RT @motherboard: Hacking Team, the company that sells malware to governments, just got megahacked: http://t.co/VvlxowY7tx http://t.co/wYiyq\u2026"
       ]
      },
      {
       "output_type": "stream",
       "stream": "stdout",
       "text": [
        "\n",
        "Localizaci\u00f3n:  None\n",
        "Source:  Twitter for iPhone\n",
        "Created at: 2015-07-06 11:41:45\n",
        "Lang:  en\n",
        "\n",
        "\n",
        "RT @Printogoit: Lo spione spiato: Hacking Team si fa fregare 400 giga di dati: Questo\u2026 http://t.co/a3mX1L2xoJ #comunicazione"
       ]
      },
      {
       "output_type": "stream",
       "stream": "stdout",
       "text": [
        "\n",
        "Localizaci\u00f3n:  None\n",
        "Source:  Twitter for iPhone\n",
        "Created at: 2015-07-06 11:41:46\n",
        "Lang:  it\n",
        "\n",
        "\n",
        "RT @empiricalerror: #BREAKING: In an effort to improve their cyber security posture, Hacking Team announces new, more secure name H4ck1ng T\u2026"
       ]
      },
      {
       "output_type": "stream",
       "stream": "stdout",
       "text": [
        "\n",
        "Localizaci\u00f3n:  None\n",
        "Source:  Tweetbot for i\u039fS\n",
        "Created at: 2015-07-06 11:41:47\n",
        "Lang:  en\n",
        "\n",
        "\n",
        "Hacking Team, Which Sells Surveillance Tech To Governments, Exposed By Major Hack - TECHCRUNCH http://t.co/d0Wdc1p5QM"
       ]
      },
      {
       "output_type": "stream",
       "stream": "stdout",
       "text": [
        "\n",
        "Localizaci\u00f3n:  None\n",
        "Source:  IFTTT\n",
        "Created at: 2015-07-06 11:41:47\n",
        "Lang:  en\n",
        "\n",
        "\n",
        "RT @SteveD3: I've now updated the Hacking Team story 7 times, including the latest updates on passwords, VPNs and more. http://t.co/YQRutEe\u2026"
       ]
      },
      {
       "output_type": "stream",
       "stream": "stdout",
       "text": [
        "\n",
        "Localizaci\u00f3n:  None\n",
        "Source:  TweetCaster for Android\n",
        "Created at: 2015-07-06 11:41:47\n",
        "Lang:  en\n",
        "\n",
        "\n",
        "RT @empiricalerror: #BREAKING: In an effort to improve their cyber security posture, Hacking Team announces new, more secure name H4ck1ng T\u2026"
       ]
      },
      {
       "output_type": "stream",
       "stream": "stdout",
       "text": [
        "\n",
        "Localizaci\u00f3n:  None\n",
        "Source:  TweetDeck\n",
        "Created at: 2015-07-06 11:41:48\n",
        "Lang:  en\n",
        "\n",
        "\n",
        "RT @mercemolist: La Vanguardia habla de Hacking Team pero no menciona servicios secretos/policiales espa\u00f1oles #autocensura http://t.co/QPDa\u2026"
       ]
      },
      {
       "output_type": "stream",
       "stream": "stdout",
       "text": [
        "\n",
        "Localizaci\u00f3n:  None\n",
        "Source:  Twitter Web Client\n",
        "Created at: 2015-07-06 11:41:49\n",
        "Lang:  es\n",
        "\n",
        "\n",
        "RT @DrWhax: #HackingTeamTransparencyReport: This file contains information about (Lebanon) Anonymizers assigned by Hacking Team.\n",
        "https://t.\u2026"
       ]
      },
      {
       "output_type": "stream",
       "stream": "stdout",
       "text": [
        "\n",
        "Localizaci\u00f3n:  None\n",
        "Source:  Twitter Web Client\n",
        "Created at: 2015-07-06 11:41:50\n",
        "Lang:  en\n",
        "\n",
        "\n",
        "RT @evacide: Hacking Team never sold to Sudan? Here's the instructions for the 480,000 Euro wire transfer. cc @hackingteam http://t.co/Jqex\u2026"
       ]
      },
      {
       "output_type": "stream",
       "stream": "stdout",
       "text": [
        "\n",
        "Localizaci\u00f3n:  None\n",
        "Source:  Twitter for Android\n",
        "Created at: 2015-07-06 11:41:52\n",
        "Lang:  en\n",
        "\n",
        "\n",
        "@txt__file  https://t.co/YmAFD3vTFe"
       ]
      },
      {
       "output_type": "stream",
       "stream": "stdout",
       "text": [
        "\n",
        "Localizaci\u00f3n:  None\n",
        "Source:  TweetDeck\n",
        "Created at: 2015-07-06 11:41:58\n",
        "Lang:  und\n",
        "\n",
        "\n",
        "Surveillance Software Maker @hackingteam Suffers Data Breach http://t.co/jHp72y0ZXC"
       ]
      },
      {
       "output_type": "stream",
       "stream": "stdout",
       "text": [
        "\n",
        "Localizaci\u00f3n:  None\n",
        "Source:  Twitter for Mac\n",
        "Created at: 2015-07-06 11:42:00\n",
        "Lang:  en\n",
        "\n",
        "\n",
        "RT @EnricDuranG: El CNI gast\u00f3 3.4 Millones con #hackingteam Quien ayuda a gobiernos a espiar a sus ciudadanos. La perla del hackeo hoy http\u2026"
       ]
      },
      {
       "output_type": "stream",
       "stream": "stdout",
       "text": [
        "\n",
        "Localizaci\u00f3n:  None\n",
        "Source:  Twitter for iPhone\n",
        "Created at: 2015-07-06 11:42:02\n",
        "Lang:  es\n",
        "\n",
        "\n",
        "RT @mattcutts: This is shaping up to be a big story.\n",
        "\n",
        "http://t.co/wlGiNaPwJ5"
       ]
      },
      {
       "output_type": "stream",
       "stream": "stdout",
       "text": [
        "\n",
        "Localizaci\u00f3n:  None\n",
        "Source:  Twitter for Android\n",
        "Created at: 2015-07-06 11:42:05\n",
        "Lang:  en\n",
        "\n",
        "\n",
        "RT @DrWhax: #HackingTeamTransparencyReport: This file contains information about (Lebanon) Anonymizers assigned by Hacking Team.\n",
        "https://t.\u2026"
       ]
      },
      {
       "output_type": "stream",
       "stream": "stdout",
       "text": [
        "\n",
        "Localizaci\u00f3n:  None\n",
        "Source:  Bird Nest\n",
        "Created at: 2015-07-06 11:42:05\n",
        "Lang:  en\n",
        "\n",
        "\n",
        "RT @empiricalerror: #BREAKING: In an effort to improve their cyber security posture, Hacking Team announces new, more secure name H4ck1ng T\u2026"
       ]
      },
      {
       "output_type": "stream",
       "stream": "stdout",
       "text": [
        "\n",
        "Localizaci\u00f3n:  None\n",
        "Source:  Twitter for iPhone\n",
        "Created at: 2015-07-06 11:42:07\n",
        "Lang:  en\n",
        "\n",
        "\n",
        "Hackean Hacking Team, la empresa que usan los estados para vigilar y espiar en Internet http://t.co/cQ2595wS1E"
       ]
      },
      {
       "output_type": "stream",
       "stream": "stdout",
       "text": [
        "\n",
        "Localizaci\u00f3n:  None\n",
        "Source:  dlvr.it\n",
        "Created at: 2015-07-06 11:42:09\n",
        "Lang:  es\n",
        "\n",
        "\n",
        "Hackean Hacking Team, la empresa que usan los estados para vigilar y espiar en Internet http://t.co/kjtfn4gOFn"
       ]
      },
      {
       "output_type": "stream",
       "stream": "stdout",
       "text": [
        "\n",
        "Localizaci\u00f3n:  None\n",
        "Source:  dlvr.it\n",
        "Created at: 2015-07-06 11:42:09\n",
        "Lang:  es\n",
        "\n",
        "\n",
        "Hackean Hacking Team, la empresa que usan los estados para vigilar y espiar en Internet http://t.co/Hg7X7VFDjj"
       ]
      },
      {
       "output_type": "stream",
       "stream": "stdout",
       "text": [
        "\n",
        "Localizaci\u00f3n:  None\n",
        "Source:  dlvr.it\n",
        "Created at: 2015-07-06 11:42:09\n",
        "Lang:  es\n",
        "\n",
        "\n",
        "RT @mGuardcom: Hacking Team hacked, attackers claim 400GB in dumped data http://t.co/qZXidlUAoG via @csoonline //pm"
       ]
      },
      {
       "output_type": "stream",
       "stream": "stdout",
       "text": [
        "\n",
        "Localizaci\u00f3n:  None\n",
        "Source:  Twitter for Android\n",
        "Created at: 2015-07-06 11:42:11\n",
        "Lang:  en\n",
        "\n",
        "\n",
        "RT @rperezmarco: El CNI pag\u00f3 3.4 millones de euros al Hacking Team...supongo que de fondos reservados http://t.co/Iu2qP6qtP0"
       ]
      },
      {
       "output_type": "stream",
       "stream": "stdout",
       "text": [
        "\n",
        "Localizaci\u00f3n:  None\n",
        "Source:  Tweetbot for i\u039fS\n",
        "Created at: 2015-07-06 11:42:11\n",
        "Lang:  es\n",
        "\n",
        "\n",
        "Hackean Hacking Team, la empresa que usan los estados para vigilar y espiar en Internet http://t.co/TlelrYoBrN"
       ]
      },
      {
       "output_type": "stream",
       "stream": "stdout",
       "text": [
        "\n",
        "Localizaci\u00f3n:  None\n",
        "Source:  dlvr.it\n",
        "Created at: 2015-07-06 11:42:12\n",
        "Lang:  es\n",
        "\n",
        "\n",
        "Hackean Hacking Team, la empresa que usan los estados para vigilar y espiar en Internet http://t.co/n0GUthB1tv"
       ]
      },
      {
       "output_type": "stream",
       "stream": "stdout",
       "text": [
        "\n",
        "Localizaci\u00f3n:  None\n",
        "Source:  dlvr.it\n",
        "Created at: 2015-07-06 11:42:13\n",
        "Lang:  es\n",
        "\n",
        "\n",
        "RT @xaiki: Hacking Team, Which Sells Surveillance Tech To Governments, Exposed By Major Hack - http://t.co/FXYfDm0DOv"
       ]
      },
      {
       "output_type": "stream",
       "stream": "stdout",
       "text": [
        "\n",
        "Localizaci\u00f3n:  None\n",
        "Source:  Twitter Web Client\n",
        "Created at: 2015-07-06 11:42:13\n",
        "Lang:  en\n",
        "\n",
        "\n",
        "RT @DotcomsecurityD: #Hacker enth\u00fcllen Geheimnisse von #Spionage Software Hersteller @hackingteam #infosec https://t.co/rUnwpoABnw http://t\u2026"
       ]
      },
      {
       "output_type": "stream",
       "stream": "stdout",
       "text": [
        "\n",
        "Localizaci\u00f3n:  None\n",
        "Source:  Tweetbot for i\u039fS\n",
        "Created at: 2015-07-06 11:42:13\n",
        "Lang:  de\n",
        "\n",
        "\n",
        "Hacking Team, responsable de programas esp\u00eda para Gobiernos, hackeado y 400GB de datos desvelados http://t.co/SDmzFFc8WG"
       ]
      },
      {
       "output_type": "stream",
       "stream": "stdout",
       "text": [
        "\n",
        "Localizaci\u00f3n:  None\n",
        "Source:  Twitter Web Client\n",
        "Created at: 2015-07-06 11:42:16\n",
        "Lang:  es\n",
        "\n",
        "\n",
        "RT @netzpolitik: Hacking Team wird zu Hacked Team: 400 GB interne Daten von \u00dcberwachungssoftware-Hersteller ver\u00f6ffentlicht. https://t.co/Zv\u2026"
       ]
      },
      {
       "output_type": "stream",
       "stream": "stdout",
       "text": [
        "\n",
        "Localizaci\u00f3n:  None\n",
        "Source:  TweetDeck\n",
        "Created at: 2015-07-06 11:42:16\n",
        "Lang:  de\n",
        "\n",
        "\n",
        "RT @the_intercept: Hacking Team hacked, attackers claim 400GB in dumped data (CSO) http://t.co/ClYCo2HBTj"
       ]
      },
      {
       "output_type": "stream",
       "stream": "stdout",
       "text": [
        "\n",
        "Localizaci\u00f3n:  None\n",
        "Source:  Twitter for iPad\n",
        "Created at: 2015-07-06 11:42:17\n",
        "Lang:  en\n",
        "\n",
        "\n",
        "Hackean Hacking Team, la empresa que usan los estados para vigilar y espiar en Internet: Hacking Team es una e... http://t.co/csetx3GTna"
       ]
      },
      {
       "output_type": "stream",
       "stream": "stdout",
       "text": [
        "\n",
        "Localizaci\u00f3n:  None\n",
        "Source:  twitterfeed\n",
        "Created at: 2015-07-06 11:42:18\n",
        "Lang:  es\n",
        "\n",
        "\n",
        "RT @webwewant: REMEMBER @hackingteam is listed as Enemy of the Internet http://t.co/9D65rugg6t and has collaborated with repressive regimes."
       ]
      },
      {
       "output_type": "stream",
       "stream": "stdout",
       "text": [
        "\n",
        "Localizaci\u00f3n:  None\n",
        "Source:  Twitter Web Client\n",
        "Created at: 2015-07-06 11:42:19\n",
        "Lang:  en\n",
        "\n",
        "\n",
        "RT @Korben: Hacking Team pirat\u00e9 \u2013 400 GB de donn\u00e9es dans la nature http://t.co/t6QtoaMGTs"
       ]
      },
      {
       "output_type": "stream",
       "stream": "stdout",
       "text": [
        "\n",
        "Localizaci\u00f3n:  None\n",
        "Source:  Twitter Web Client\n",
        "Created at: 2015-07-06 11:42:19\n",
        "Lang:  fr\n",
        "\n",
        "\n",
        "#NotodoEst\u00e1Dicho Hackean Hacking Team, la empresa que usan los estados para vigilar y espiar ... http://t.co/lpNH9xRawj .@eleconomistaes"
       ]
      },
      {
       "output_type": "stream",
       "stream": "stdout",
       "text": [
        "\n",
        "Localizaci\u00f3n:  None\n",
        "Source:  twitterfeed\n",
        "Created at: 2015-07-06 11:42:19\n",
        "Lang:  es\n",
        "\n",
        "\n",
        "(\u266b #CasillaMVP \u266b) Hackean Hacking Team, la empresa que usan los estados para vigilar y espiar en Internet: Hack...  (\u266b #CasillaMVP \u266b)"
       ]
      },
      {
       "output_type": "stream",
       "stream": "stdout",
       "text": [
        "\n",
        "Localizaci\u00f3n:  None\n",
        "Source:  twitterfeed\n",
        "Created at: 2015-07-06 11:42:19\n",
        "Lang:  es\n",
        "\n",
        "\n",
        "RT @DrWhax: #HackingTeamTransparencyReport: This file contains information about (Lebanon) Anonymizers assigned by Hacking Team.\n",
        "https://t.\u2026"
       ]
      },
      {
       "output_type": "stream",
       "stream": "stdout",
       "text": [
        "\n",
        "Localizaci\u00f3n:  None\n",
        "Source:  Twitter Web Client\n",
        "Created at: 2015-07-06 11:42:21\n",
        "Lang:  en\n",
        "\n",
        "\n",
        "#Tecnologia Hackean Hacking Team, la empresa que usan los estados para vigilar y espiar en Internet: Hacking T... http://t.co/Qx56iTuBpl"
       ]
      },
      {
       "output_type": "stream",
       "stream": "stdout",
       "text": [
        "\n",
        "Localizaci\u00f3n:  None\n",
        "Source:  twitterfeed\n",
        "Created at: 2015-07-06 11:42:23\n",
        "Lang:  es\n",
        "\n",
        "\n",
        "RT @ioerror: #HackingTeamTransparencyReport: \"This file contains information about TREVOR (Egypt) Anonymizers assigned by Hacking Team.\""
       ]
      },
      {
       "output_type": "stream",
       "stream": "stdout",
       "text": [
        "\n",
        "Localizaci\u00f3n:  None\n",
        "Source:  Twitter for iPad\n",
        "Created at: 2015-07-06 11:42:26\n",
        "Lang:  en\n",
        "\n",
        "\n",
        ".@hackingteam helps govts &amp; corps invade people's privacy. 400GB of firm data leaked. Article that broke the story: http://t.co/GDCmSVXDjK"
       ]
      },
      {
       "output_type": "stream",
       "stream": "stdout",
       "text": [
        "\n",
        "Localizaci\u00f3n:  None\n",
        "Source:  TweetDeck\n",
        "Created at: 2015-07-06 11:42:26\n",
        "Lang:  en\n",
        "\n",
        "\n",
        "RT @ProjPM: Hacking Team hacked: Spy tools sold to oppressive regimes Sudan, Bahrain and Kazakhstan http://t.co/EbQzfhYRQM"
       ]
      },
      {
       "output_type": "stream",
       "stream": "stdout",
       "text": [
        "\n",
        "Localizaci\u00f3n:  None\n",
        "Source:  Twitter for Android\n",
        "Created at: 2015-07-06 11:42:27\n",
        "Lang:  en\n",
        "\n",
        "\n",
        "RT @netzpolitik: Hacking Team wird zu Hacked Team: 400 GB interne Daten von \u00dcberwachungssoftware-Hersteller ver\u00f6ffentlicht. https://t.co/Zv\u2026"
       ]
      },
      {
       "output_type": "stream",
       "stream": "stdout",
       "text": [
        "\n",
        "Localizaci\u00f3n:  None\n",
        "Source:  Twitter Web Client\n",
        "Created at: 2015-07-06 11:42:30\n",
        "Lang:  de\n",
        "\n",
        "\n",
        "RT @mmoroca: La empresa Hacking Team, hackeada http://t.co/iqJXExlDi5"
       ]
      },
      {
       "output_type": "stream",
       "stream": "stdout",
       "text": [
        "\n",
        "Localizaci\u00f3n:  None\n",
        "Source:  Twitter for iPad\n",
        "Created at: 2015-07-06 11:42:31\n",
        "Lang:  es\n",
        "\n",
        "\n",
        "Hanno hackerato l'Hacking Team: mail e documenti postati su Twitter (La Repubblica)  http://t.co/l9wwLgIH4B"
       ]
      },
      {
       "output_type": "stream",
       "stream": "stdout",
       "text": [
        "\n",
        "Localizaci\u00f3n:  None\n",
        "Source:  Tweet Informazione\n",
        "Created at: 2015-07-06 11:42:33\n",
        "Lang:  it\n",
        "\n",
        "\n",
        "RT @bluetouff: #Maroc #Android le petit renouvellement de licence du Conseil Supr\u00eame de la D\u00e9fense Nationale avec Hacking Team http://t.co/\u2026"
       ]
      },
      {
       "output_type": "stream",
       "stream": "stdout",
       "text": [
        "\n",
        "Localizaci\u00f3n:  None\n",
        "Source:  Twitter Web Client\n",
        "Created at: 2015-07-06 11:42:35\n",
        "Lang:  fr\n",
        "\n",
        "\n",
        "Hackean Hacking Team, la empresa que usan los estados para vigilar y espiar en Internet http://t.co/skJfwPH97C"
       ]
      },
      {
       "output_type": "stream",
       "stream": "stdout",
       "text": [
        "\n",
        "Localizaci\u00f3n:  None\n",
        "Source:  dlvr.it\n",
        "Created at: 2015-07-06 11:42:36\n",
        "Lang:  es\n",
        "\n",
        "\n",
        "Hackean Hacking Team, la empresa que usan los estados para vigilar y espiar en Internet http://t.co/GHotJaftGH"
       ]
      },
      {
       "output_type": "stream",
       "stream": "stdout",
       "text": [
        "\n",
        "Localizaci\u00f3n:  None\n",
        "Source:  dlvr.it\n",
        "Created at: 2015-07-06 11:42:38\n",
        "Lang:  es\n",
        "\n",
        "\n",
        "Hackean Hacking Team, la empresa que usan los estados para vigilar y espiar en Internet http://t.co/AXNjhZvNJM"
       ]
      },
      {
       "output_type": "stream",
       "stream": "stdout",
       "text": [
        "\n",
        "Localizaci\u00f3n:  None\n",
        "Source:  dlvr.it\n",
        "Created at: 2015-07-06 11:42:38\n",
        "Lang:  es\n",
        "\n",
        "\n",
        "Hackean Hacking Team, la empresa que usan los estados para vigilar y espiar en Internet http://t.co/atLJJki1BT"
       ]
      },
      {
       "output_type": "stream",
       "stream": "stdout",
       "text": [
        "\n",
        "Localizaci\u00f3n:  None\n",
        "Source:  dlvr.it\n",
        "Created at: 2015-07-06 11:42:39\n",
        "Lang:  es\n",
        "\n",
        "\n",
        "RT @BirGun_Gazetesi: H\u00fck\u00fcmetler i\u00e7in \u00e7al\u0131\u015fan 'Hacking Team' hacklendi\n",
        "http://t.co/7D6IdRFweS http://t.co/oUZnv2HG3o"
       ]
      },
      {
       "output_type": "stream",
       "stream": "stdout",
       "text": [
        "\n",
        "Localizaci\u00f3n:  None\n",
        "Source:  Twitter for Android\n",
        "Created at: 2015-07-06 11:42:39\n",
        "Lang:  tr\n",
        "\n",
        "\n",
        "Hackean Hacking Team, la empresa que usan los estados para vigilar y espiar en Internet http://t.co/5ceac7jBAI"
       ]
      },
      {
       "output_type": "stream",
       "stream": "stdout",
       "text": [
        "\n",
        "Localizaci\u00f3n:  None\n",
        "Source:  dlvr.it\n",
        "Created at: 2015-07-06 11:42:40\n",
        "Lang:  es\n",
        "\n",
        "\n",
        "RT @niebezpiecznik: CBA agencj\u0105, kt\u00f3ra kupi\u0142a trojana do inwigilacji smartphon\u00f3w za 200 000 EUR Faktury w wycieku http://t.co/ulRdNmcv2h ht\u2026"
       ]
      },
      {
       "output_type": "stream",
       "stream": "stdout",
       "text": [
        "\n",
        "Localizaci\u00f3n:  None\n",
        "Source:  Talon (Classic)\n",
        "Created at: 2015-07-06 11:42:40\n",
        "Lang:  pl\n",
        "\n",
        "\n",
        "RT @elhackernet: Hacking Team, responsable de programas esp\u00eda para Gobiernos, hackeado y 400GB... http://t.co/fA9YKcnc03"
       ]
      },
      {
       "output_type": "stream",
       "stream": "stdout",
       "text": [
        "\n",
        "Localizaci\u00f3n:  None\n",
        "Source:  Twitter for Windows Phone\n",
        "Created at: 2015-07-06 11:42:41\n",
        "Lang:  es\n",
        "\n",
        "\n",
        "Hackean Hacking Team, la empresa que usan los estados para vigilar y espiar en Internet http://t.co/oLI88k60Og"
       ]
      },
      {
       "output_type": "stream",
       "stream": "stdout",
       "text": [
        "\n",
        "Localizaci\u00f3n:  None\n",
        "Source:  dlvr.it\n",
        "Created at: 2015-07-06 11:42:41\n",
        "Lang:  es\n",
        "\n",
        "\n",
        "RT @carolafrediani: E nel 2014 @privacyint aveva chiesto conto dei fondi ricevuti da #hackingteam dalla Lombardia -&gt; http://t.co/hEEqZvRoFB\u2026"
       ]
      },
      {
       "output_type": "stream",
       "stream": "stdout",
       "text": [
        "\n",
        "Localizaci\u00f3n:  None\n",
        "Source:  Twitter for Android\n",
        "Created at: 2015-07-06 11:42:44\n",
        "Lang:  it\n",
        "\n",
        "\n",
        "&gt;hacking team gets hacked \n",
        "     Snitches \ud83d\ude0a\ud83d\ude0a\ud83d\ude0a\ud83d\ude0a\ud83d\ude0a\n",
        "\n",
        "!!!!!!!!!!"
       ]
      },
      {
       "output_type": "stream",
       "stream": "stdout",
       "text": [
        "\n",
        "Localizaci\u00f3n:  None\n",
        "Source:  Twitter for iPhone\n",
        "Created at: 2015-07-06 11:42:47\n",
        "Lang:  en\n",
        "\n",
        "\n",
        "Hacking Team: un gruppo di hacker ha violato l'account Twitter dell'azienda pubblicando documenti interni: E' ... http://t.co/aZI7uV11aB"
       ]
      },
      {
       "output_type": "stream",
       "stream": "stdout",
       "text": [
        "\n",
        "Localizaci\u00f3n:  None\n",
        "Source:  twitterfeed\n",
        "Created at: 2015-07-06 11:42:47\n",
        "Lang:  it\n",
        "\n",
        "\n",
        "Hackean Hacking Team, la empresa que usan los estados para vigilar y espiar en Internet http://t.co/ci8k0ZjaIj"
       ]
      },
      {
       "output_type": "stream",
       "stream": "stdout",
       "text": [
        "\n",
        "Localizaci\u00f3n:  None\n",
        "Source:  dlvr.it\n",
        "Created at: 2015-07-06 11:42:49\n",
        "Lang:  es\n",
        "\n",
        "\n",
        "Hackean Hacking Team, la empresa que usan los estados para vigilar y espiar en Internet http://t.co/oaRsDlVInI"
       ]
      },
      {
       "output_type": "stream",
       "stream": "stdout",
       "text": [
        "\n",
        "Localizaci\u00f3n:  None\n",
        "Source:  dlvr.it\n",
        "Created at: 2015-07-06 11:42:49\n",
        "Lang:  es\n",
        "\n",
        "\n",
        "Spy Tech Company 'Hacking Team' Gets Hacked http://t.co/3YSg090Uqn"
       ]
      },
      {
       "output_type": "stream",
       "stream": "stdout",
       "text": [
        "\n",
        "Localizaci\u00f3n:  None\n",
        "Source:  Twitter Web Client\n",
        "Created at: 2015-07-06 11:42:50\n",
        "Lang:  en\n",
        "\n",
        "\n",
        "Hackean Hacking Team, la empresa que usan los estados para vigilar y espiar en Internet http://t.co/c6vhUGE504"
       ]
      },
      {
       "output_type": "stream",
       "stream": "stdout",
       "text": [
        "\n",
        "Localizaci\u00f3n:  None\n",
        "Source:  dlvr.it\n",
        "Created at: 2015-07-06 11:42:51\n",
        "Lang:  es\n",
        "\n",
        "\n",
        "Hackean Hacking Team, la empresa que usan los estados para vigilar y espiar en Internet http://t.co/W813facLZD"
       ]
      },
      {
       "output_type": "stream",
       "stream": "stdout",
       "text": [
        "\n",
        "Localizaci\u00f3n:  None\n",
        "Source:  dlvr.it\n",
        "Created at: 2015-07-06 11:42:51\n",
        "Lang:  es\n",
        "\n",
        "\n",
        "RT @hackplayers: Hackeo y filtraci\u00f3n masiva de datos de la empresa Hacking Team:  Hola a tod@s Ten\u00eda que escribir este post, ya... http://t\u2026"
       ]
      },
      {
       "output_type": "stream",
       "stream": "stdout",
       "text": [
        "\n",
        "Localizaci\u00f3n:  None\n",
        "Source:  Twitter Web Client\n",
        "Created at: 2015-07-06 11:42:52\n",
        "Lang:  es\n",
        "\n",
        "\n",
        "Hackean Hacking Team, la empresa que usan los estados para vigilar y espiar en Internet http://t.co/hlc2hK1axJ"
       ]
      },
      {
       "output_type": "stream",
       "stream": "stdout",
       "text": [
        "\n",
        "Localizaci\u00f3n:  None\n",
        "Source:  dlvr.it\n",
        "Created at: 2015-07-06 11:42:52\n",
        "Lang:  es\n",
        "\n",
        "\n",
        "RT @bluetouff: #Maroc #Android le petit renouvellement de licence du Conseil Supr\u00eame de la D\u00e9fense Nationale avec Hacking Team http://t.co/\u2026"
       ]
      },
      {
       "output_type": "stream",
       "stream": "stdout",
       "text": [
        "\n",
        "Localizaci\u00f3n:  None\n",
        "Source:  TweetDeck\n",
        "Created at: 2015-07-06 11:42:53\n",
        "Lang:  fr\n",
        "\n",
        "\n",
        "Italy's hacking team hacked http://t.co/oEoOT5TMVm"
       ]
      },
      {
       "output_type": "stream",
       "stream": "stdout",
       "text": [
        "\n",
        "Localizaci\u00f3n:  None\n",
        "Source:  Flipboard\n",
        "Created at: 2015-07-06 11:42:55\n",
        "Lang:  en\n",
        "\n",
        "\n",
        "RT @techdirt: Hacking Team Hacked: Documents Show Company Sold Exploits And Spyware To UN-Blacklisted Governments http://t.co/GBarYJc1un"
       ]
      },
      {
       "output_type": "stream",
       "stream": "stdout",
       "text": [
        "\n",
        "Localizaci\u00f3n:  None\n",
        "Source:  Twitter for Android\n",
        "Created at: 2015-07-06 11:42:55\n",
        "Lang:  en\n",
        "\n",
        "\n",
        "Hackean Hacking Team, la empresa que usan los estados para vigilar y espiar en Internet http://t.co/ZeN7wHmajI"
       ]
      },
      {
       "output_type": "stream",
       "stream": "stdout",
       "text": [
        "\n",
        "Localizaci\u00f3n:  None\n",
        "Source:  dlvr.it\n",
        "Created at: 2015-07-06 11:42:56\n",
        "Lang:  es\n",
        "\n",
        "\n",
        "RT @avilarenata: #Colombia #Chile #Panama #Honduras #Ecuador #Mexico All clients of Hacking Team. Shocking. http://t.co/Z6JCHKsVi3"
       ]
      },
      {
       "output_type": "stream",
       "stream": "stdout",
       "text": [
        "\n",
        "Localizaci\u00f3n:  None\n",
        "Source:  Twitter Web Client\n",
        "Created at: 2015-07-06 11:42:57\n",
        "Lang:  en\n",
        "\n",
        "\n",
        "Hackean Hacking Team, la empresa que usan los estados para vigilar y espiar en Internet http://t.co/1UwoVzoND4"
       ]
      },
      {
       "output_type": "stream",
       "stream": "stdout",
       "text": [
        "\n",
        "Localizaci\u00f3n:  None\n",
        "Source:  dlvr.it\n",
        "Created at: 2015-07-06 11:42:58\n",
        "Lang:  es\n",
        "\n",
        "\n",
        "Hackean Hacking Team, la empresa que usan los estados para vigilar y espiar en Internet http://t.co/bBDd5Zn9Fr"
       ]
      },
      {
       "output_type": "stream",
       "stream": "stdout",
       "text": [
        "\n",
        "Localizaci\u00f3n:  None\n",
        "Source:  dlvr.it\n",
        "Created at: 2015-07-06 11:42:59\n",
        "Lang:  es\n",
        "\n",
        "\n",
        "RT @Numerama: !!! La firme d'espionnage Hacking Team pirat\u00e9e ! 400 Go de donn\u00e9es diffus\u00e9es http://t.co/kAHWIfh1nR #Hackingteam http://t.co/\u2026"
       ]
      },
      {
       "output_type": "stream",
       "stream": "stdout",
       "text": [
        "\n",
        "Localizaci\u00f3n:  None\n",
        "Source:  Twitter Web Client\n",
        "Created at: 2015-07-06 11:42:59\n",
        "Lang:  fr\n",
        "\n",
        "\n",
        "RT @webwewant: REMEMBER @hackingteam is listed as Enemy of the Internet http://t.co/9D65rugg6t and has collaborated with repressive regimes."
       ]
      },
      {
       "output_type": "stream",
       "stream": "stdout",
       "text": [
        "\n",
        "Localizaci\u00f3n:  None\n",
        "Source:  Twitter for iPhone\n",
        "Created at: 2015-07-06 11:43:01\n",
        "Lang:  en\n",
        "\n",
        "\n",
        "RT @webwewant: REMEMBER @hackingteam is listed as Enemy of the Internet http://t.co/9D65rugg6t and has collaborated with repressive regimes."
       ]
      },
      {
       "output_type": "stream",
       "stream": "stdout",
       "text": [
        "\n",
        "Localizaci\u00f3n:  None\n",
        "Source:  Twitter Web Client\n",
        "Created at: 2015-07-06 11:43:03\n",
        "Lang:  en\n",
        "\n",
        "\n",
        "LIVIA is Lebanon...  https://t.co/9ML2QVdg4h"
       ]
      },
      {
       "output_type": "stream",
       "stream": "stdout",
       "text": [
        "\n",
        "Localizaci\u00f3n:  None\n",
        "Source:  TweetDeck\n",
        "Created at: 2015-07-06 11:43:03\n",
        "Lang:  in\n",
        "\n",
        "\n",
        "Yotubazos:\"Hacking Team commercial - Looks like an intro to a horror film\"-&gt;:http://t.co/3YiHfXaVee http://t.co/zSscQsx8aF"
       ]
      },
      {
       "output_type": "stream",
       "stream": "stdout",
       "text": [
        "\n",
        "Localizaci\u00f3n:  None\n",
        "Source:  IFTTT\n",
        "Created at: 2015-07-06 11:43:04\n",
        "Lang:  en\n",
        "\n",
        "\n",
        "RT @empiricalerror: #BREAKING: In an effort to improve their cyber security posture, Hacking Team announces new, more secure name H4ck1ng T\u2026"
       ]
      },
      {
       "output_type": "stream",
       "stream": "stdout",
       "text": [
        "\n",
        "Localizaci\u00f3n:  None\n",
        "Source:  Twitter Web Client\n",
        "Created at: 2015-07-06 11:43:06\n",
        "Lang:  en\n",
        "\n",
        "\n",
        "Hackean Hacking Team, la empresa que usan los estados para vigilar y espiar en Internet http://t.co/v0JI8msFyc"
       ]
      },
      {
       "output_type": "stream",
       "stream": "stdout",
       "text": [
        "\n",
        "Localizaci\u00f3n:  None\n",
        "Source:  dlvr.it\n",
        "Created at: 2015-07-06 11:43:07\n",
        "Lang:  es\n",
        "\n",
        "\n",
        "RT @miniliksalsawi: #Ethiopia: #EPRDF (INSA) has Paid $1 Million Dollars For #Hacking Team http://t.co/0LpAFKUWi0 ...\u1235\u1208\u120b \u1208\u121b\u12f5\u1228\u130d 1 \u121a\u120a\u12ee\u1295 \u12f6\u120b\u122d h\u2026"
       ]
      },
      {
       "output_type": "stream",
       "stream": "stdout",
       "text": [
        "\n",
        "Localizaci\u00f3n:  None\n",
        "Source:  Twitter for Android\n",
        "Created at: 2015-07-06 11:43:09\n",
        "Lang:  am\n",
        "\n",
        "\n",
        "Hackean Hacking Team, la empresa que usan los estados para vigilar y espiar en Internet http://t.co/c4tgyFhLkn"
       ]
      },
      {
       "output_type": "stream",
       "stream": "stdout",
       "text": [
        "\n",
        "Localizaci\u00f3n:  None\n",
        "Source:  dlvr.it\n",
        "Created at: 2015-07-06 11:43:09\n",
        "Lang:  es\n",
        "\n",
        "\n",
        "RT @netzpolitik: Hacking Team wird zu Hacked Team: 400 GB interne Daten von \u00dcberwachungssoftware-Hersteller ver\u00f6ffentlicht. https://t.co/Zv\u2026"
       ]
      },
      {
       "output_type": "stream",
       "stream": "stdout",
       "text": [
        "\n",
        "Localizaci\u00f3n:  None\n",
        "Source:  Twitter Web Client\n",
        "Created at: 2015-07-06 11:43:10\n",
        "Lang:  de\n",
        "\n",
        "\n",
        "Hacking Team thoroughly pwned, fav password was \"Passw0rd\", emphasizing need to know your contractors. http://t.co/R6NsfU87ke"
       ]
      },
      {
       "output_type": "stream",
       "stream": "stdout",
       "text": [
        "\n",
        "Localizaci\u00f3n:  None\n",
        "Source:  Twitter for Android\n",
        "Created at: 2015-07-06 11:43:13\n",
        "Lang:  en\n",
        "\n",
        "\n",
        "RT @victorhuertabcn: Los hackers atacan 'Hacking Team', una empresa que vende programas esp\u00eda a gobiernos: http://t.co/AYZ65rCaFd v\u00eda @Davi\u2026"
       ]
      },
      {
       "output_type": "stream",
       "stream": "stdout",
       "text": [
        "\n",
        "Localizaci\u00f3n:  None\n",
        "Source:  Twitter Web Client\n",
        "Created at: 2015-07-06 11:43:15\n",
        "Lang:  es\n",
        "\n",
        "\n",
        "\u00c9v\u00e9nement du jour : Hacking Team bo\u00eete de surveillance internet, dont des gouv sont clients, s'est fait pirater, suivez le # : #hackingteam"
       ]
      },
      {
       "output_type": "stream",
       "stream": "stdout",
       "text": [
        "\n",
        "Localizaci\u00f3n:  None\n",
        "Source:  Twitter for iPad\n",
        "Created at: 2015-07-06 11:43:19\n",
        "Lang:  fr\n",
        "\n",
        "\n",
        "RT @empiricalerror: #BREAKING: In an effort to improve their cyber security posture, Hacking Team announces new, more secure name H4ck1ng T\u2026"
       ]
      },
      {
       "output_type": "stream",
       "stream": "stdout",
       "text": [
        "\n",
        "Localizaci\u00f3n:  None\n",
        "Source:  Twitter Web Client\n",
        "Created at: 2015-07-06 11:43:19\n",
        "Lang:  en\n",
        "\n",
        "\n",
        "RT @EnricDuranG: El CNI gast\u00f3 3.4 Millones con #hackingteam Quien ayuda a gobiernos a espiar a sus ciudadanos. La perla del hackeo hoy http\u2026"
       ]
      },
      {
       "output_type": "stream",
       "stream": "stdout",
       "text": [
        "\n",
        "Localizaci\u00f3n:  None\n",
        "Source:  Twitter Web Client\n",
        "Created at: 2015-07-06 11:43:20\n",
        "Lang:  es\n",
        "\n",
        "\n",
        "RT @runasand: The NSA wants $1,000 to process a #FOIA concerning contracts with @hackingteam: https://t.co/7CLYZWeXuT"
       ]
      },
      {
       "output_type": "stream",
       "stream": "stdout",
       "text": [
        "\n",
        "Localizaci\u00f3n:  None\n",
        "Source:  Twitter for iPhone\n",
        "Created at: 2015-07-06 11:43:23\n",
        "Lang:  en\n",
        "\n",
        "\n"
       ]
      },
      {
       "ename": "KeyboardInterrupt",
       "evalue": "",
       "output_type": "pyerr",
       "traceback": [
        "\u001b[1;31m---------------------------------------------------------------------------\u001b[0m\n\u001b[1;31mKeyboardInterrupt\u001b[0m                         Traceback (most recent call last)",
        "\u001b[1;32m<ipython-input-14-ba24c0238c71>\u001b[0m in \u001b[0;36m<module>\u001b[1;34m()\u001b[0m\n\u001b[0;32m      2\u001b[0m \u001b[0msapi\u001b[0m \u001b[1;33m=\u001b[0m \u001b[0mtweepy\u001b[0m\u001b[1;33m.\u001b[0m\u001b[0mstreaming\u001b[0m\u001b[1;33m.\u001b[0m\u001b[0mStream\u001b[0m\u001b[1;33m(\u001b[0m\u001b[0mauth\u001b[0m\u001b[1;33m,\u001b[0m \u001b[0mCustomStreamListener\u001b[0m\u001b[1;33m(\u001b[0m\u001b[0mapi\u001b[0m\u001b[1;33m)\u001b[0m\u001b[1;33m)\u001b[0m\u001b[1;33m\u001b[0m\u001b[0m\n\u001b[0;32m      3\u001b[0m \u001b[1;31m# my keyword today is chelsea as the team just had a big win\u001b[0m\u001b[1;33m\u001b[0m\u001b[1;33m\u001b[0m\u001b[0m\n\u001b[1;32m----> 4\u001b[1;33m \u001b[0msapi\u001b[0m\u001b[1;33m.\u001b[0m\u001b[0mfilter\u001b[0m\u001b[1;33m(\u001b[0m\u001b[0mtrack\u001b[0m\u001b[1;33m=\u001b[0m\u001b[0mkeyword_list\u001b[0m\u001b[1;33m)\u001b[0m\u001b[1;33m\u001b[0m\u001b[0m\n\u001b[0m",
        "\u001b[1;32m/home/azamarron/anaconda/lib/python2.7/site-packages/tweepy/streaming.pyc\u001b[0m in \u001b[0;36mfilter\u001b[1;34m(self, follow, track, async, locations, stall_warnings, languages, encoding)\u001b[0m\n\u001b[0;32m    426\u001b[0m         \u001b[0mself\u001b[0m\u001b[1;33m.\u001b[0m\u001b[0msession\u001b[0m\u001b[1;33m.\u001b[0m\u001b[0mparams\u001b[0m \u001b[1;33m=\u001b[0m \u001b[1;33m{\u001b[0m\u001b[1;34m'delimited'\u001b[0m\u001b[1;33m:\u001b[0m \u001b[1;34m'length'\u001b[0m\u001b[1;33m}\u001b[0m\u001b[1;33m\u001b[0m\u001b[0m\n\u001b[0;32m    427\u001b[0m         \u001b[0mself\u001b[0m\u001b[1;33m.\u001b[0m\u001b[0mhost\u001b[0m \u001b[1;33m=\u001b[0m \u001b[1;34m'stream.twitter.com'\u001b[0m\u001b[1;33m\u001b[0m\u001b[0m\n\u001b[1;32m--> 428\u001b[1;33m         \u001b[0mself\u001b[0m\u001b[1;33m.\u001b[0m\u001b[0m_start\u001b[0m\u001b[1;33m(\u001b[0m\u001b[0masync\u001b[0m\u001b[1;33m)\u001b[0m\u001b[1;33m\u001b[0m\u001b[0m\n\u001b[0m\u001b[0;32m    429\u001b[0m \u001b[1;33m\u001b[0m\u001b[0m\n\u001b[0;32m    430\u001b[0m     def sitestream(self, follow, stall_warnings=False,\n",
        "\u001b[1;32m/home/azamarron/anaconda/lib/python2.7/site-packages/tweepy/streaming.pyc\u001b[0m in \u001b[0;36m_start\u001b[1;34m(self, async)\u001b[0m\n\u001b[0;32m    344\u001b[0m             \u001b[0mself\u001b[0m\u001b[1;33m.\u001b[0m\u001b[0m_thread\u001b[0m\u001b[1;33m.\u001b[0m\u001b[0mstart\u001b[0m\u001b[1;33m(\u001b[0m\u001b[1;33m)\u001b[0m\u001b[1;33m\u001b[0m\u001b[0m\n\u001b[0;32m    345\u001b[0m         \u001b[1;32melse\u001b[0m\u001b[1;33m:\u001b[0m\u001b[1;33m\u001b[0m\u001b[0m\n\u001b[1;32m--> 346\u001b[1;33m             \u001b[0mself\u001b[0m\u001b[1;33m.\u001b[0m\u001b[0m_run\u001b[0m\u001b[1;33m(\u001b[0m\u001b[1;33m)\u001b[0m\u001b[1;33m\u001b[0m\u001b[0m\n\u001b[0m\u001b[0;32m    347\u001b[0m \u001b[1;33m\u001b[0m\u001b[0m\n\u001b[0;32m    348\u001b[0m     \u001b[1;32mdef\u001b[0m \u001b[0mon_closed\u001b[0m\u001b[1;33m(\u001b[0m\u001b[0mself\u001b[0m\u001b[1;33m,\u001b[0m \u001b[0mresp\u001b[0m\u001b[1;33m)\u001b[0m\u001b[1;33m:\u001b[0m\u001b[1;33m\u001b[0m\u001b[0m\n",
        "\u001b[1;32m/home/azamarron/anaconda/lib/python2.7/site-packages/tweepy/streaming.pyc\u001b[0m in \u001b[0;36m_run\u001b[1;34m(self)\u001b[0m\n\u001b[0;32m    253\u001b[0m                     \u001b[0mself\u001b[0m\u001b[1;33m.\u001b[0m\u001b[0msnooze_time\u001b[0m \u001b[1;33m=\u001b[0m \u001b[0mself\u001b[0m\u001b[1;33m.\u001b[0m\u001b[0msnooze_time_step\u001b[0m\u001b[1;33m\u001b[0m\u001b[0m\n\u001b[0;32m    254\u001b[0m                     \u001b[0mself\u001b[0m\u001b[1;33m.\u001b[0m\u001b[0mlistener\u001b[0m\u001b[1;33m.\u001b[0m\u001b[0mon_connect\u001b[0m\u001b[1;33m(\u001b[0m\u001b[1;33m)\u001b[0m\u001b[1;33m\u001b[0m\u001b[0m\n\u001b[1;32m--> 255\u001b[1;33m                     \u001b[0mself\u001b[0m\u001b[1;33m.\u001b[0m\u001b[0m_read_loop\u001b[0m\u001b[1;33m(\u001b[0m\u001b[0mresp\u001b[0m\u001b[1;33m)\u001b[0m\u001b[1;33m\u001b[0m\u001b[0m\n\u001b[0m\u001b[0;32m    256\u001b[0m             \u001b[1;32mexcept\u001b[0m \u001b[1;33m(\u001b[0m\u001b[0mTimeout\u001b[0m\u001b[1;33m,\u001b[0m \u001b[0mssl\u001b[0m\u001b[1;33m.\u001b[0m\u001b[0mSSLError\u001b[0m\u001b[1;33m)\u001b[0m \u001b[1;32mas\u001b[0m \u001b[0mexc\u001b[0m\u001b[1;33m:\u001b[0m\u001b[1;33m\u001b[0m\u001b[0m\n\u001b[0;32m    257\u001b[0m                 \u001b[1;31m# This is still necessary, as a SSLError can actually be\u001b[0m\u001b[1;33m\u001b[0m\u001b[1;33m\u001b[0m\u001b[0m\n",
        "\u001b[1;32m/home/azamarron/anaconda/lib/python2.7/site-packages/tweepy/streaming.pyc\u001b[0m in \u001b[0;36m_read_loop\u001b[1;34m(self, resp)\u001b[0m\n\u001b[0;32m    296\u001b[0m             \u001b[0mlength\u001b[0m \u001b[1;33m=\u001b[0m \u001b[1;36m0\u001b[0m\u001b[1;33m\u001b[0m\u001b[0m\n\u001b[0;32m    297\u001b[0m             \u001b[1;32mwhile\u001b[0m \u001b[1;32mnot\u001b[0m \u001b[0mresp\u001b[0m\u001b[1;33m.\u001b[0m\u001b[0mraw\u001b[0m\u001b[1;33m.\u001b[0m\u001b[0mclosed\u001b[0m\u001b[1;33m:\u001b[0m\u001b[1;33m\u001b[0m\u001b[0m\n\u001b[1;32m--> 298\u001b[1;33m                 \u001b[0mline\u001b[0m \u001b[1;33m=\u001b[0m \u001b[0mbuf\u001b[0m\u001b[1;33m.\u001b[0m\u001b[0mread_line\u001b[0m\u001b[1;33m(\u001b[0m\u001b[1;33m)\u001b[0m\u001b[1;33m.\u001b[0m\u001b[0mstrip\u001b[0m\u001b[1;33m(\u001b[0m\u001b[1;33m)\u001b[0m\u001b[1;33m\u001b[0m\u001b[0m\n\u001b[0m\u001b[0;32m    299\u001b[0m                 \u001b[1;32mif\u001b[0m \u001b[1;32mnot\u001b[0m \u001b[0mline\u001b[0m\u001b[1;33m:\u001b[0m\u001b[1;33m\u001b[0m\u001b[0m\n\u001b[0;32m    300\u001b[0m                     \u001b[0mself\u001b[0m\u001b[1;33m.\u001b[0m\u001b[0mlistener\u001b[0m\u001b[1;33m.\u001b[0m\u001b[0mkeep_alive\u001b[0m\u001b[1;33m(\u001b[0m\u001b[1;33m)\u001b[0m  \u001b[1;31m# keep-alive new lines are expected\u001b[0m\u001b[1;33m\u001b[0m\u001b[0m\n",
        "\u001b[1;32m/home/azamarron/anaconda/lib/python2.7/site-packages/tweepy/streaming.pyc\u001b[0m in \u001b[0;36mread_line\u001b[1;34m(self, sep)\u001b[0m\n\u001b[0;32m    169\u001b[0m             \u001b[1;32melse\u001b[0m\u001b[1;33m:\u001b[0m\u001b[1;33m\u001b[0m\u001b[0m\n\u001b[0;32m    170\u001b[0m                 \u001b[0mstart\u001b[0m \u001b[1;33m=\u001b[0m \u001b[0mlen\u001b[0m\u001b[1;33m(\u001b[0m\u001b[0mself\u001b[0m\u001b[1;33m.\u001b[0m\u001b[0m_buffer\u001b[0m\u001b[1;33m)\u001b[0m\u001b[1;33m\u001b[0m\u001b[0m\n\u001b[1;32m--> 171\u001b[1;33m             \u001b[0mself\u001b[0m\u001b[1;33m.\u001b[0m\u001b[0m_buffer\u001b[0m \u001b[1;33m+=\u001b[0m \u001b[0mself\u001b[0m\u001b[1;33m.\u001b[0m\u001b[0m_stream\u001b[0m\u001b[1;33m.\u001b[0m\u001b[0mread\u001b[0m\u001b[1;33m(\u001b[0m\u001b[0mself\u001b[0m\u001b[1;33m.\u001b[0m\u001b[0m_chunk_size\u001b[0m\u001b[1;33m)\u001b[0m\u001b[1;33m.\u001b[0m\u001b[0mdecode\u001b[0m\u001b[1;33m(\u001b[0m\u001b[1;34m\"ascii\"\u001b[0m\u001b[1;33m)\u001b[0m\u001b[1;33m\u001b[0m\u001b[0m\n\u001b[0m\u001b[0;32m    172\u001b[0m \u001b[1;33m\u001b[0m\u001b[0m\n\u001b[0;32m    173\u001b[0m     \u001b[1;32mdef\u001b[0m \u001b[0m_pop\u001b[0m\u001b[1;33m(\u001b[0m\u001b[0mself\u001b[0m\u001b[1;33m,\u001b[0m \u001b[0mlength\u001b[0m\u001b[1;33m)\u001b[0m\u001b[1;33m:\u001b[0m\u001b[1;33m\u001b[0m\u001b[0m\n",
        "\u001b[1;32m/home/azamarron/anaconda/lib/python2.7/site-packages/requests/packages/urllib3/response.pyc\u001b[0m in \u001b[0;36mread\u001b[1;34m(self, amt, decode_content, cache_content)\u001b[0m\n\u001b[0;32m    201\u001b[0m                 \u001b[1;32melse\u001b[0m\u001b[1;33m:\u001b[0m\u001b[1;33m\u001b[0m\u001b[0m\n\u001b[0;32m    202\u001b[0m                     \u001b[0mcache_content\u001b[0m \u001b[1;33m=\u001b[0m \u001b[0mFalse\u001b[0m\u001b[1;33m\u001b[0m\u001b[0m\n\u001b[1;32m--> 203\u001b[1;33m                     \u001b[0mdata\u001b[0m \u001b[1;33m=\u001b[0m \u001b[0mself\u001b[0m\u001b[1;33m.\u001b[0m\u001b[0m_fp\u001b[0m\u001b[1;33m.\u001b[0m\u001b[0mread\u001b[0m\u001b[1;33m(\u001b[0m\u001b[0mamt\u001b[0m\u001b[1;33m)\u001b[0m\u001b[1;33m\u001b[0m\u001b[0m\n\u001b[0m\u001b[0;32m    204\u001b[0m                     \u001b[1;32mif\u001b[0m \u001b[0mamt\u001b[0m \u001b[1;33m!=\u001b[0m \u001b[1;36m0\u001b[0m \u001b[1;32mand\u001b[0m \u001b[1;32mnot\u001b[0m \u001b[0mdata\u001b[0m\u001b[1;33m:\u001b[0m  \u001b[1;31m# Platform-specific: Buggy versions of Python.\u001b[0m\u001b[1;33m\u001b[0m\u001b[0m\n\u001b[0;32m    205\u001b[0m                         \u001b[1;31m# Close the connection when no data is returned\u001b[0m\u001b[1;33m\u001b[0m\u001b[1;33m\u001b[0m\u001b[0m\n",
        "\u001b[1;32m/home/azamarron/anaconda/lib/python2.7/httplib.pyc\u001b[0m in \u001b[0;36mread\u001b[1;34m(self, amt)\u001b[0m\n\u001b[0;32m    547\u001b[0m \u001b[1;33m\u001b[0m\u001b[0m\n\u001b[0;32m    548\u001b[0m         \u001b[1;32mif\u001b[0m \u001b[0mself\u001b[0m\u001b[1;33m.\u001b[0m\u001b[0mchunked\u001b[0m\u001b[1;33m:\u001b[0m\u001b[1;33m\u001b[0m\u001b[0m\n\u001b[1;32m--> 549\u001b[1;33m             \u001b[1;32mreturn\u001b[0m \u001b[0mself\u001b[0m\u001b[1;33m.\u001b[0m\u001b[0m_read_chunked\u001b[0m\u001b[1;33m(\u001b[0m\u001b[0mamt\u001b[0m\u001b[1;33m)\u001b[0m\u001b[1;33m\u001b[0m\u001b[0m\n\u001b[0m\u001b[0;32m    550\u001b[0m \u001b[1;33m\u001b[0m\u001b[0m\n\u001b[0;32m    551\u001b[0m         \u001b[1;32mif\u001b[0m \u001b[0mamt\u001b[0m \u001b[1;32mis\u001b[0m \u001b[0mNone\u001b[0m\u001b[1;33m:\u001b[0m\u001b[1;33m\u001b[0m\u001b[0m\n",
        "\u001b[1;32m/home/azamarron/anaconda/lib/python2.7/httplib.pyc\u001b[0m in \u001b[0;36m_read_chunked\u001b[1;34m(self, amt)\u001b[0m\n\u001b[0;32m    589\u001b[0m         \u001b[1;32mwhile\u001b[0m \u001b[0mTrue\u001b[0m\u001b[1;33m:\u001b[0m\u001b[1;33m\u001b[0m\u001b[0m\n\u001b[0;32m    590\u001b[0m             \u001b[1;32mif\u001b[0m \u001b[0mchunk_left\u001b[0m \u001b[1;32mis\u001b[0m \u001b[0mNone\u001b[0m\u001b[1;33m:\u001b[0m\u001b[1;33m\u001b[0m\u001b[0m\n\u001b[1;32m--> 591\u001b[1;33m                 \u001b[0mline\u001b[0m \u001b[1;33m=\u001b[0m \u001b[0mself\u001b[0m\u001b[1;33m.\u001b[0m\u001b[0mfp\u001b[0m\u001b[1;33m.\u001b[0m\u001b[0mreadline\u001b[0m\u001b[1;33m(\u001b[0m\u001b[0m_MAXLINE\u001b[0m \u001b[1;33m+\u001b[0m \u001b[1;36m1\u001b[0m\u001b[1;33m)\u001b[0m\u001b[1;33m\u001b[0m\u001b[0m\n\u001b[0m\u001b[0;32m    592\u001b[0m                 \u001b[1;32mif\u001b[0m \u001b[0mlen\u001b[0m\u001b[1;33m(\u001b[0m\u001b[0mline\u001b[0m\u001b[1;33m)\u001b[0m \u001b[1;33m>\u001b[0m \u001b[0m_MAXLINE\u001b[0m\u001b[1;33m:\u001b[0m\u001b[1;33m\u001b[0m\u001b[0m\n\u001b[0;32m    593\u001b[0m                     \u001b[1;32mraise\u001b[0m \u001b[0mLineTooLong\u001b[0m\u001b[1;33m(\u001b[0m\u001b[1;34m\"chunk size\"\u001b[0m\u001b[1;33m)\u001b[0m\u001b[1;33m\u001b[0m\u001b[0m\n",
        "\u001b[1;32m/home/azamarron/anaconda/lib/python2.7/socket.pyc\u001b[0m in \u001b[0;36mreadline\u001b[1;34m(self, size)\u001b[0m\n\u001b[0;32m    474\u001b[0m             \u001b[1;32mwhile\u001b[0m \u001b[0mTrue\u001b[0m\u001b[1;33m:\u001b[0m\u001b[1;33m\u001b[0m\u001b[0m\n\u001b[0;32m    475\u001b[0m                 \u001b[1;32mtry\u001b[0m\u001b[1;33m:\u001b[0m\u001b[1;33m\u001b[0m\u001b[0m\n\u001b[1;32m--> 476\u001b[1;33m                     \u001b[0mdata\u001b[0m \u001b[1;33m=\u001b[0m \u001b[0mself\u001b[0m\u001b[1;33m.\u001b[0m\u001b[0m_sock\u001b[0m\u001b[1;33m.\u001b[0m\u001b[0mrecv\u001b[0m\u001b[1;33m(\u001b[0m\u001b[0mself\u001b[0m\u001b[1;33m.\u001b[0m\u001b[0m_rbufsize\u001b[0m\u001b[1;33m)\u001b[0m\u001b[1;33m\u001b[0m\u001b[0m\n\u001b[0m\u001b[0;32m    477\u001b[0m                 \u001b[1;32mexcept\u001b[0m \u001b[0merror\u001b[0m\u001b[1;33m,\u001b[0m \u001b[0me\u001b[0m\u001b[1;33m:\u001b[0m\u001b[1;33m\u001b[0m\u001b[0m\n\u001b[0;32m    478\u001b[0m                     \u001b[1;32mif\u001b[0m \u001b[0me\u001b[0m\u001b[1;33m.\u001b[0m\u001b[0margs\u001b[0m\u001b[1;33m[\u001b[0m\u001b[1;36m0\u001b[0m\u001b[1;33m]\u001b[0m \u001b[1;33m==\u001b[0m \u001b[0mEINTR\u001b[0m\u001b[1;33m:\u001b[0m\u001b[1;33m\u001b[0m\u001b[0m\n",
        "\u001b[1;32m/home/azamarron/anaconda/lib/python2.7/ssl.pyc\u001b[0m in \u001b[0;36mrecv\u001b[1;34m(self, buflen, flags)\u001b[0m\n\u001b[0;32m    712\u001b[0m                     \u001b[1;34m\"non-zero flags not allowed in calls to recv() on %s\"\u001b[0m \u001b[1;33m%\u001b[0m\u001b[1;33m\u001b[0m\u001b[0m\n\u001b[0;32m    713\u001b[0m                     self.__class__)\n\u001b[1;32m--> 714\u001b[1;33m             \u001b[1;32mreturn\u001b[0m \u001b[0mself\u001b[0m\u001b[1;33m.\u001b[0m\u001b[0mread\u001b[0m\u001b[1;33m(\u001b[0m\u001b[0mbuflen\u001b[0m\u001b[1;33m)\u001b[0m\u001b[1;33m\u001b[0m\u001b[0m\n\u001b[0m\u001b[0;32m    715\u001b[0m         \u001b[1;32melse\u001b[0m\u001b[1;33m:\u001b[0m\u001b[1;33m\u001b[0m\u001b[0m\n\u001b[0;32m    716\u001b[0m             \u001b[1;32mreturn\u001b[0m \u001b[0mself\u001b[0m\u001b[1;33m.\u001b[0m\u001b[0m_sock\u001b[0m\u001b[1;33m.\u001b[0m\u001b[0mrecv\u001b[0m\u001b[1;33m(\u001b[0m\u001b[0mbuflen\u001b[0m\u001b[1;33m,\u001b[0m \u001b[0mflags\u001b[0m\u001b[1;33m)\u001b[0m\u001b[1;33m\u001b[0m\u001b[0m\n",
        "\u001b[1;32m/home/azamarron/anaconda/lib/python2.7/ssl.pyc\u001b[0m in \u001b[0;36mread\u001b[1;34m(self, len, buffer)\u001b[0m\n\u001b[0;32m    606\u001b[0m                 \u001b[0mv\u001b[0m \u001b[1;33m=\u001b[0m \u001b[0mself\u001b[0m\u001b[1;33m.\u001b[0m\u001b[0m_sslobj\u001b[0m\u001b[1;33m.\u001b[0m\u001b[0mread\u001b[0m\u001b[1;33m(\u001b[0m\u001b[0mlen\u001b[0m\u001b[1;33m,\u001b[0m \u001b[0mbuffer\u001b[0m\u001b[1;33m)\u001b[0m\u001b[1;33m\u001b[0m\u001b[0m\n\u001b[0;32m    607\u001b[0m             \u001b[1;32melse\u001b[0m\u001b[1;33m:\u001b[0m\u001b[1;33m\u001b[0m\u001b[0m\n\u001b[1;32m--> 608\u001b[1;33m                 \u001b[0mv\u001b[0m \u001b[1;33m=\u001b[0m \u001b[0mself\u001b[0m\u001b[1;33m.\u001b[0m\u001b[0m_sslobj\u001b[0m\u001b[1;33m.\u001b[0m\u001b[0mread\u001b[0m\u001b[1;33m(\u001b[0m\u001b[0mlen\u001b[0m \u001b[1;32mor\u001b[0m \u001b[1;36m1024\u001b[0m\u001b[1;33m)\u001b[0m\u001b[1;33m\u001b[0m\u001b[0m\n\u001b[0m\u001b[0;32m    609\u001b[0m             \u001b[1;32mreturn\u001b[0m \u001b[0mv\u001b[0m\u001b[1;33m\u001b[0m\u001b[0m\n\u001b[0;32m    610\u001b[0m         \u001b[1;32mexcept\u001b[0m \u001b[0mSSLError\u001b[0m \u001b[1;32mas\u001b[0m \u001b[0mx\u001b[0m\u001b[1;33m:\u001b[0m\u001b[1;33m\u001b[0m\u001b[0m\n",
        "\u001b[1;31mKeyboardInterrupt\u001b[0m: "
       ]
      }
     ],
     "prompt_number": 14
    },
    {
     "cell_type": "code",
     "collapsed": false,
     "input": [],
     "language": "python",
     "metadata": {},
     "outputs": []
    }
   ],
   "metadata": {}
  }
 ]
}