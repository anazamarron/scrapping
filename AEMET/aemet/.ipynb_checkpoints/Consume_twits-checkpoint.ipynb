{
 "metadata": {
  "name": "",
  "signature": "sha256:b61b7a80d95e14410ab48de92da01516eab6f1f1b07ed673e75c07160686b3e0"
 },
 "nbformat": 3,
 "nbformat_minor": 0,
 "worksheets": []
}