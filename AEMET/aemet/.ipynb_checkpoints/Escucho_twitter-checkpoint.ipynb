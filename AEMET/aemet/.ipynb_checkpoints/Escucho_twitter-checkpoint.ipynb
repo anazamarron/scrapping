{
 "metadata": {
  "name": "",
  "signature": "sha256:18c0e02016e544ea02dccc5026e4bc4d0a927d1fa33edb410fbec6399438c104"
 },
 "nbformat": 3,
 "nbformat_minor": 0,
 "worksheets": [
  {
   "cells": [
    {
     "cell_type": "code",
     "collapsed": false,
     "input": [
      "import time\n",
      "from tweepy import Stream\n",
      "from tweepy import OAuthHandler\n",
      "from tweepy.streaming import StreamListener\n",
      "import os"
     ],
     "language": "python",
     "metadata": {},
     "outputs": [],
     "prompt_number": 8
    },
    {
     "cell_type": "code",
     "collapsed": false,
     "input": [
      "ckey = 'RMNErsbyNWgPP2vEpsSBG6Gr9'\n",
      "consumer_secret = 'AfttMkzkROoiOgNn340QdjBu8WseuTOjyKPG0hbWFzSstULiCo'\n",
      "access_token_key = '285008880-CXc7m5CranacCoLN5rqjS84WfAsuNOvT006rNpKa'\n",
      "access_token_secret = 'qEIk8pzuHbt2plyx2xKMkezwX3zS3fY7HwKpc1m5GpYYa'\n",
      " \n",
      " \n",
      "start_time = time.time() #grabs the system time\n",
      "\n",
      "keyword_list = ['medusas', 'proyectomedusa'] #track list\n"
     ],
     "language": "python",
     "metadata": {},
     "outputs": [],
     "prompt_number": 21
    },
    {
     "cell_type": "code",
     "collapsed": false,
     "input": [
      "import tweepy\n",
      "import sys\n",
      "import pika\n",
      "import json\n",
      "import time\n",
      "import pprint\n",
      "pp = pprint.PrettyPrinter(indent=1)\n",
      "\n",
      "#get your own twitter credentials at dev.twitter.com\n",
      "consumer_key = ckey\n",
      "consumer_secret = consumer_secret\n",
      "access_token = access_token_key\n",
      "access_token_secret = access_token_secret\n",
      "\n",
      "auth = tweepy.OAuthHandler(consumer_key, consumer_secret)\n",
      "auth.set_access_token(access_token, access_token_secret)\n",
      "api = tweepy.API(auth)\n",
      "\n",
      "class CustomStreamListener(tweepy.StreamListener):\n",
      "    def __init__(self, api):\n",
      "        self.api = api\n",
      "        super(tweepy.StreamListener, self).__init__()\n",
      "\n",
      "        #setup rabbitMQ Connection\n",
      "        connection = pika.BlockingConnection(\n",
      "            pika.ConnectionParameters(host='localhost')\n",
      "        )\n",
      "        self.channel = connection.channel()\n",
      "\n",
      "        #set max queue size\n",
      "        args = {\"x-max-length\": 2000}\n",
      "\n",
      "        self.channel.queue_declare(queue='twitter_topic_feed', arguments=args)\n",
      "\n",
      "    def on_status(self, status):\n",
      "        print status.text\n",
      "        print 'Localizaci\u00f3n: ', status.geo\n",
      "        print 'Source: ' , status.source\n",
      "        print 'Created at:' , status.created_at\n",
      "        print \"Lang: \", status.lang\n",
      "        \n",
      "        print\n",
      "        \n",
      "        print\n",
      "\n",
      "        data = {}\n",
      "        data['text'] = status.text\n",
      "        data['created_at'] = time.mktime(status.created_at.timetuple())\n",
      "        data['geo'] = status.coordinates\n",
      "        data['source'] = status.source\n",
      " \n",
      "        \n",
      "        #queue the tweet\n",
      "        self.channel.basic_publish(exchange='',\n",
      "                                    routing_key='twitter_topic_feed',\n",
      "                                    body=json.dumps(data))\n",
      "\n",
      "    def on_error(self, status_code):\n",
      "        print 'Encountered error with status code:', status_code\n",
      "        print >> sys.stderr, 'Encountered error with status code:', status_code\n",
      "        return True  # Don't kill the stream\n",
      "\n",
      "    def on_timeout(self):\n",
      "        print >> sys.stderr, 'Timeout...'\n",
      "        return True  # Don't kill the stream\n"
     ],
     "language": "python",
     "metadata": {},
     "outputs": [],
     "prompt_number": 22
    },
    {
     "cell_type": "code",
     "collapsed": false,
     "input": [
      "\n",
      "sapi = tweepy.streaming.Stream(auth, CustomStreamListener(api))\n",
      "# my keyword today is chelsea as the team just had a big win\n",
      "sapi.filter(track=keyword_list)  "
     ],
     "language": "python",
     "metadata": {},
     "outputs": [
      {
       "output_type": "stream",
       "stream": "stdout",
       "text": [
        "Vuelvo a probar #proyectomedusa a ver\n",
        "Localizaci\u00f3n:  None\n",
        "Source:  Twitter Web Client\n",
        "Created at: 2015-06-30 08:11:53\n",
        "Lang:  es\n",
        "\n",
        "\n",
        "RT @UHmallorca: Alarma por la excesiva presencia de medusas en Sant Elm http://t.co/1rZvqC86qE"
       ]
      },
      {
       "output_type": "stream",
       "stream": "stdout",
       "text": [
        "\n",
        "Localizaci\u00f3n:  None\n",
        "Source:  Twitter for iPhone\n",
        "Created at: 2015-06-30 08:12:10\n",
        "Lang:  es\n",
        "\n",
        "\n",
        "Las medusas en las costas espa\u00f1olas en verano son muchas"
       ]
      },
      {
       "output_type": "stream",
       "stream": "stdout",
       "text": [
        "\n",
        "Localizaci\u00f3n:  None\n",
        "Source:  Twitter Web Client\n",
        "Created at: 2015-06-30 08:12:16\n",
        "Lang:  es\n",
        "\n",
        "\n",
        "RT @sabiastuque_e: Las medusas y langostas son consideradas biol\u00f3gicamente inmortales. No envejecen y nunca morir\u00e1n a menos que sean asesin\u2026"
       ]
      },
      {
       "output_type": "stream",
       "stream": "stdout",
       "text": [
        "\n",
        "Localizaci\u00f3n:  None\n",
        "Source:  Twitter for Android\n",
        "Created at: 2015-06-30 08:13:13\n",
        "Lang:  es\n",
        "\n",
        "\n",
        "#Proyectomedusa medusas en las costas de madrid"
       ]
      },
      {
       "output_type": "stream",
       "stream": "stdout",
       "text": [
        "\n",
        "Localizaci\u00f3n:  None\n",
        "Source:  Twitter Web Client\n",
        "Created at: 2015-06-30 08:13:37\n",
        "Lang:  es\n",
        "\n",
        "\n",
        "Alarma por la excesiva presencia de medusas en Sant Elm http://t.co/KtvNNLopL3"
       ]
      },
      {
       "output_type": "stream",
       "stream": "stdout",
       "text": [
        "\n",
        "Localizaci\u00f3n:  None\n",
        "Source:  Facebook\n",
        "Created at: 2015-06-30 08:14:15\n",
        "Lang:  es\n",
        "\n",
        "\n",
        "#Ciencia Hallan por primera vez #medusas inmortales #japonesas en el #Mediterr\u00e1neo. http://t.co/0LcWwTEAYN"
       ]
      },
      {
       "output_type": "stream",
       "stream": "stdout",
       "text": [
        "\n",
        "Localizaci\u00f3n:  None\n",
        "Source:  TweetDeck\n",
        "Created at: 2015-06-30 08:35:09\n",
        "Lang:  es\n",
        "\n",
        "\n",
        "Llegan al Mar Mediterr\u00e1neo medusas 'inmortales' http://t.co/StkNWaQTch"
       ]
      },
      {
       "output_type": "stream",
       "stream": "stdout",
       "text": [
        "\n",
        "Localizaci\u00f3n:  None\n",
        "Source:  Facebook\n",
        "Created at: 2015-06-30 08:37:56\n",
        "Lang:  es\n",
        "\n",
        "\n",
        "DESCUBREN MEDUSAS INMORTALES EN AGUAS DEL MEDITERRANEO\n",
        "http://t.co/uhFDoR4Hvb"
       ]
      },
      {
       "output_type": "stream",
       "stream": "stdout",
       "text": [
        "\n",
        "Localizaci\u00f3n:  None\n",
        "Source:  Twitter Web Client\n",
        "Created at: 2015-06-30 08:56:37\n",
        "Lang:  es\n",
        "\n",
        "\n",
        "Las medusas son malas"
       ]
      },
      {
       "output_type": "stream",
       "stream": "stdout",
       "text": [
        "\n",
        "Localizaci\u00f3n:  None\n",
        "Source:  Twitter Web Client\n",
        "Created at: 2015-06-30 08:58:23\n",
        "Lang:  es\n",
        "\n",
        "\n",
        "\u00a1Que nos piquen todas las medusas del amor, que @Farmiweb nos protege de las otras!!!! ;-)"
       ]
      },
      {
       "output_type": "stream",
       "stream": "stdout",
       "text": [
        "\n",
        "Localizaci\u00f3n:  None\n",
        "Source:  Twitter Web Client\n",
        "Created at: 2015-06-30 09:10:16\n",
        "Lang:  es\n",
        "\n",
        "\n",
        "Llega el verano y empieza la guerra de medusas vs ba\u00f1istas, \u00bfquien estar\u00e1 mejor preparado?"
       ]
      },
      {
       "output_type": "stream",
       "stream": "stdout",
       "text": [
        "\n",
        "Localizaci\u00f3n:  None\n",
        "Source:  Twitter Web Client\n",
        "Created at: 2015-06-30 09:13:59\n",
        "Lang:  es\n",
        "\n",
        "\n",
        "Prueba MeDuSaS"
       ]
      }
     ]
    },
    {
     "cell_type": "code",
     "collapsed": false,
     "input": [],
     "language": "python",
     "metadata": {},
     "outputs": []
    }
   ],
   "metadata": {}
  }
 ]
}