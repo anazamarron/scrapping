{
 "metadata": {
  "name": "",
  "signature": "sha256:32a9f5aadb4acabec7719889429e8d63adc793e309a04d03fc48faa25379580f"
 },
 "nbformat": 3,
 "nbformat_minor": 0,
 "worksheets": [
  {
   "cells": [
    {
     "cell_type": "heading",
     "level": 1,
     "metadata": {},
     "source": [
      "Este notebook obtendr\u00e1 los datos del tiempo y los guardar\u00e1 en Mongo"
     ]
    },
    {
     "cell_type": "code",
     "collapsed": false,
     "input": [
      "from lxml import html\n",
      "import requests\n",
      "import json\n",
      "import pandas as pd"
     ],
     "language": "python",
     "metadata": {},
     "outputs": [],
     "prompt_number": 127
    },
    {
     "cell_type": "code",
     "collapsed": false,
     "input": [
      "url = \"http://www.aemet.es/es/eltiempo/prediccion/municipios\""
     ],
     "language": "python",
     "metadata": {},
     "outputs": [],
     "prompt_number": 128
    },
    {
     "cell_type": "code",
     "collapsed": false,
     "input": [
      "page = requests.get(url)\n",
      "tree = html.fromstring(page.text)"
     ],
     "language": "python",
     "metadata": {},
     "outputs": [],
     "prompt_number": 129
    },
    {
     "cell_type": "code",
     "collapsed": false,
     "input": [
      "#Cargamos el excel con las coordenadas de las localidades\n",
      "titulo = \"municipios-espana-coordenadas-2011.csv\"\n",
      "df = pd.read_csv(titulo,index_col=0)\n",
      "\n",
      "print df.ix[\"Castej\u00f3n\"]"
     ],
     "language": "python",
     "metadata": {},
     "outputs": [
      {
       "output_type": "stream",
       "stream": "stdout",
       "text": [
        "          provincia                    comunidad    latitud  longitud  \\\n",
        "municipio                                                               \n",
        "Castej\u00f3n     Cuenca         Castilla - La Mancha  40.382278 -2.519848   \n",
        "Castej\u00f3n    Navarra  Navarra, Comunidad Foral de  42.167839 -1.690636   \n",
        "\n",
        "                                          Enlace Google Maps  \n",
        "municipio                                                     \n",
        "Castej\u00f3n   http://maps.google.es/maps?z=14&ll=40.3822778,...  \n",
        "Castej\u00f3n   http://maps.google.es/maps?z=14&ll=42.1678393,...  \n"
       ]
      }
     ],
     "prompt_number": 130
    },
    {
     "cell_type": "code",
     "collapsed": false,
     "input": [
      "provincias = dict()\n",
      "        "
     ],
     "language": "python",
     "metadata": {},
     "outputs": [],
     "prompt_number": 131
    },
    {
     "cell_type": "code",
     "collapsed": false,
     "input": [
      "#Saco las provincias de la p\u00e1gina\n",
      "provincias_name = tree.xpath('//select[@id=\"provincia_selector\"]/option/text()')\n",
      "provincias_id = tree.xpath('//select[@id=\"provincia_selector\"]/option/@value')\n",
      "\n",
      "#Creo un dataFrame con las provincias y su id para la AEMET\n",
      "#provincias = pd.DataFrame()\n",
      "for i in range (0,len(provincias_id)-1):\n",
      "    provincias[provincias_id[i+1]] = {\"nombre\":provincias_name[i+1]}\n"
     ],
     "language": "python",
     "metadata": {},
     "outputs": [],
     "prompt_number": 132
    },
    {
     "cell_type": "code",
     "collapsed": false,
     "input": [
      "print df.ix[\"Fonfr\u00eda\"]"
     ],
     "language": "python",
     "metadata": {},
     "outputs": [
      {
       "output_type": "stream",
       "stream": "stdout",
       "text": [
        "          provincia        comunidad    latitud  longitud  \\\n",
        "municipio                                                   \n",
        "Fonfr\u00eda      Teruel           Arag\u00f3n  40.995934 -1.084790   \n",
        "Fonfr\u00eda      Zamora  Castilla y Le\u00f3n  41.636235 -6.137211   \n",
        "\n",
        "                                          Enlace Google Maps  \n",
        "municipio                                                     \n",
        "Fonfr\u00eda    http://maps.google.es/maps?z=14&ll=40.9959344,...  \n",
        "Fonfr\u00eda    http://maps.google.es/maps?z=14&ll=41.636235,-...  \n"
       ]
      }
     ],
     "prompt_number": 133
    },
    {
     "cell_type": "code",
     "collapsed": false,
     "input": [
      "#Voy a obtener un diccionario con todas las localidades de espa\u00f1a y la provincia a la que pertenecen\n",
      "localidades = dict()\n",
      "import datetime\n",
      "\n",
      "for key in provincias:\n",
      "    url_municipios = \"http://www.aemet.es/es/eltiempo/prediccion/municipios?p=\"+ key\n",
      "    page_municipio = requests.get(url_municipios)\n",
      "    tree_municipio = html.fromstring(page_municipio.text)\n",
      "    localidades_name = tree_municipio.xpath('//select[@id=\"localidades_selector\"]/option/text()')\n",
      "    localidades_id = tree_municipio.xpath('//select[@id=\"localidades_selector\"]/option/@value')\n",
      "    for i in range(0,len(localidades_id)-1):\n",
      "        nombre_municipio = localidades_name[i+1]\n",
      "        coordenadas = pd.DataFrame()\n",
      "        nombre_provincia = provincias[key]['nombre'].encode('utf_8')\n",
      "        #Hago un try porque hay poblaciones que no se encuentran en el excel, habr\u00e1 que modificarlas a mano\n",
      "        try:                                    \n",
      "            \n",
      "            nombre_coordenadas = df.ix[nombre_municipio.encode('utf_8')]\n",
      "            if nombre_coordenadas.provincia == nombre_provincia:\n",
      "                coordenadas = df.ix[nombre_municipio.encode('utf_8')]\n",
      "        except:\n",
      "            #print df.ix[nombre_municipio]\n",
      "            print \"falla: \" , nombre_municipio , \": \", nombre_provincia\n",
      "            coordenadas[\"longitud\"]= \"\"\n",
      "            coordenadas[\"latitud\"] = \"\"\n",
      "            coordenadas[\"comunidad\"] = \"\"\n",
      "            \n",
      "    #creo el objeto json que voy a asignar al diccionario:\n",
      "\n",
      "        texto = '{ \"_id\": \"' + localidades_id[i+1][-5:] + '\" '\n",
      "        texto += ', \"nombe_localidad\" : \"'+ localidades_name[i+1] + '\" '\n",
      "        texto += ', \"id_localidad\" : \"' + localidades_id[i+1] + '\" '\n",
      "        texto += ', \"id_provincia\" : \"' +  key  + '\" '\n",
      "        texto += ', \"nombre_provincia\": \"' +   provincias[key]['nombre'] + '\" '\n",
      "        if not coordenadas.empty:\n",
      "            texto += ', \"comunidad\" : \"' +  coordenadas.comunidad.decode('utf_8') + '\" '\n",
      "       \n",
      "            texto += ', \"longitud\": \"' +  str(coordenadas.longitud) + '\"'\n",
      "       \n",
      "            texto += ', \"latitud\": \"' + str(coordenadas.latitud) + '\"'\n",
      "        texto += ', \"date\" : \"' + str(datetime.datetime.utcnow()) + '\" '\n",
      "        texto += '}'\n",
      "   \n",
      "        \n",
      "        if localidades_id[i+1][-5:] in localidades:\n",
      "            localidades[localidades_id[i+1][-5:]].append(texto)\n",
      "            \n",
      "        else: \n",
      "            localidades[localidades_id[i+1][-5:]] =texto\n",
      "\n"
     ],
     "language": "python",
     "metadata": {},
     "outputs": [
      {
       "output_type": "stream",
       "stream": "stdout",
       "text": [
        "falla:  Cieza :  Murcia\n",
        "falla: "
       ]
      },
      {
       "output_type": "stream",
       "stream": "stdout",
       "text": [
        " Sancti-Sp\u00edritus :  Salamanca\n",
        "falla: "
       ]
      },
      {
       "output_type": "stream",
       "stream": "stdout",
       "text": [
        " Beranuy :  Huesca\n",
        "falla: "
       ]
      },
      {
       "output_type": "stream",
       "stream": "stdout",
       "text": [
        " Molar, El :  Tarragona\n",
        "falla: "
       ]
      },
      {
       "output_type": "stream",
       "stream": "stdout",
       "text": [
        " Fonfr\u00eda :  Zamora\n",
        "falla: "
       ]
      },
      {
       "output_type": "stream",
       "stream": "stdout",
       "text": [
        " Villaescusa :  Zamora\n",
        "falla: "
       ]
      },
      {
       "output_type": "stream",
       "stream": "stdout",
       "text": [
        " Rebollar :  Soria\n",
        "falla: "
       ]
      },
      {
       "output_type": "stream",
       "stream": "stdout",
       "text": [
        " Moreda de \u00c1lava/Moreda Araba :  Araba/\u00c1lava\n",
        "falla: "
       ]
      },
      {
       "output_type": "stream",
       "stream": "stdout",
       "text": [
        " Campillo, El :  Huelva\n",
        "falla: "
       ]
      },
      {
       "output_type": "stream",
       "stream": "stdout",
       "text": [
        " Puig de Santa Mar\u00eda, el :  Val\u00e8ncia/Valencia\n",
        "falla:  Torrent :  Val\u00e8ncia/Valencia\n",
        "falla: "
       ]
      },
      {
       "output_type": "stream",
       "stream": "stdout",
       "text": [
        " Campillo, El :  Valladolid\n",
        "falla: "
       ]
      },
      {
       "output_type": "stream",
       "stream": "stdout",
       "text": [
        " Villanueva de los Infantes :  Valladolid\n",
        "falla:  Zarza, La :  Valladolid\n",
        "falla: "
       ]
      },
      {
       "output_type": "stream",
       "stream": "stdout",
       "text": [
        " Arroyomolinos :  Madrid\n",
        "falla:  Molar, El :  Madrid\n",
        "falla: "
       ]
      },
      {
       "output_type": "stream",
       "stream": "stdout",
       "text": [
        " Sobrado :  Le\u00f3n\n",
        "falla: "
       ]
      },
      {
       "output_type": "stream",
       "stream": "stdout",
       "text": [
        " Villanueva de los Infantes :  Ciudad Real\n",
        "falla: "
       ]
      },
      {
       "output_type": "stream",
       "stream": "stdout",
       "text": [
        " Guadiana del Caudillo :  Badajoz\n",
        "falla:  Sancti-Sp\u00edritus :  Badajoz\n",
        "falla: "
       ]
      },
      {
       "output_type": "stream",
       "stream": "stdout",
       "text": [
        " Zarza, La :  Badajoz\n",
        "falla: "
       ]
      },
      {
       "output_type": "stream",
       "stream": "stdout",
       "text": [
        " Arroyomolinos :  C\u00e1ceres\n",
        "falla:  Collado de la Vera :  C\u00e1ceres\n",
        "falla: "
       ]
      },
      {
       "output_type": "stream",
       "stream": "stdout",
       "text": [
        " Rebollar :  C\u00e1ceres\n",
        "falla: "
       ]
      },
      {
       "output_type": "stream",
       "stream": "stdout",
       "text": [
        " Cieza :  Cantabria\n",
        "falla:  Villaescusa :  Cantabria\n",
        "falla: "
       ]
      },
      {
       "output_type": "stream",
       "stream": "stdout",
       "text": [
        " Cabanes :  Castell\u00f3/Castell\u00f3n\n",
        "falla:  Serratella, la :  Castell\u00f3/Castell\u00f3n\n",
        "falla: "
       ]
      },
      {
       "output_type": "stream",
       "stream": "stdout",
       "text": [
        " Sada :  A Coru\u00f1a\n",
        "falla:  Sobrado :  A Coru\u00f1a\n",
        "falla: "
       ]
      },
      {
       "output_type": "stream",
       "stream": "stdout",
       "text": [
        " Cabanes :  Girona\n",
        "falla:  Mieres :  Girona\n",
        "falla: "
       ]
      },
      {
       "output_type": "stream",
       "stream": "stdout",
       "text": [
        " Torrent :  Girona\n",
        "falla: "
       ]
      },
      {
       "output_type": "stream",
       "stream": "stdout",
       "text": [
        " Castej\u00f3n :  Cuenca\n",
        "falla:  Moya :  Cuenca\n",
        "falla: "
       ]
      },
      {
       "output_type": "stream",
       "stream": "stdout",
       "text": [
        " Valle de Altomira, el :  Cuenca\n",
        "falla: "
       ]
      },
      {
       "output_type": "stream",
       "stream": "stdout",
       "text": [
        " Mieres :  Asturias\n",
        "falla: "
       ]
      },
      {
       "output_type": "stream",
       "stream": "stdout",
       "text": [
        " Castej\u00f3n :  Navarra\n",
        "falla: "
       ]
      },
      {
       "output_type": "stream",
       "stream": "stdout",
       "text": [
        " Sada :  Navarra\n",
        "falla: "
       ]
      },
      {
       "output_type": "stream",
       "stream": "stdout",
       "text": [
        " Moya :  Las Palmas\n",
        "falla: "
       ]
      },
      {
       "output_type": "stream",
       "stream": "stdout",
       "text": [
        " Fonfr\u00eda :  Teruel\n"
       ]
      }
     ],
     "prompt_number": 134
    },
    {
     "cell_type": "code",
     "collapsed": false,
     "input": [
      "print localidades[u'28014']"
     ],
     "language": "python",
     "metadata": {},
     "outputs": [
      {
       "output_type": "stream",
       "stream": "stdout",
       "text": [
        "{ \"_id\": \"28014\" , \"nombe_localidad\" : \"Arganda del Rey\" , \"id_localidad\" : \"arganda-del-rey-id28014\" , \"id_provincia\" : \"28\" , \"nombre_provincia\": \"Madrid\" , \"comunidad\" : \"Madrid, Comunidad de\" , \"longitud\": \"-3.4380798\", \"latitud\": \"40.3009506\", \"date\" : \"2015-06-17 07:53:44.878233\" }\n"
       ]
      }
     ],
     "prompt_number": 135
    },
    {
     "cell_type": "code",
     "collapsed": false,
     "input": [
      "import pymongo\n",
      "from pymongo import MongoClient"
     ],
     "language": "python",
     "metadata": {},
     "outputs": [],
     "prompt_number": 136
    },
    {
     "cell_type": "code",
     "collapsed": false,
     "input": [
      "client = MongoClient()\n",
      "client = MongoClient('localhost', 27017)"
     ],
     "language": "python",
     "metadata": {},
     "outputs": [],
     "prompt_number": 137
    },
    {
     "cell_type": "code",
     "collapsed": false,
     "input": [
      "db = client.AEMET"
     ],
     "language": "python",
     "metadata": {},
     "outputs": [],
     "prompt_number": 138
    },
    {
     "cell_type": "code",
     "collapsed": false,
     "input": [
      "collection = db['localidades']"
     ],
     "language": "python",
     "metadata": {},
     "outputs": [],
     "prompt_number": 139
    },
    {
     "cell_type": "code",
     "collapsed": false,
     "input": [
      "%timeit\n",
      "def update_localidades_mongo(collection, localidades):\n",
      "    #Inserto las localidades en Mongo. Esto solo hace falta hacerlo una vez, a partir de ahora empiezo con las previsiones\n",
      "    for clave in localidades:\n",
      "        #Convertimos el texto a json para que mongo lo acepte\n",
      "        d = json.loads(localidades[clave])\n",
      "        post_id = collection.update({u\"_id\" : clave},{\"$set\" :d},upsert=True) \n",
      "    "
     ],
     "language": "python",
     "metadata": {},
     "outputs": [],
     "prompt_number": 140
    },
    {
     "cell_type": "code",
     "collapsed": false,
     "input": [],
     "language": "python",
     "metadata": {},
     "outputs": []
    }
   ],
   "metadata": {}
  }
 ]
}