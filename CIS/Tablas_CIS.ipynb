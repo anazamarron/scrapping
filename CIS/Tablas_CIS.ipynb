{
 "metadata": {
  "name": "",
  "signature": "sha256:2b55c720a12f5473312672dfb5bcd0f66e2b2dddb40f8cf5ed12472514a7a09a"
 },
 "nbformat": 3,
 "nbformat_minor": 0,
 "worksheets": [
  {
   "cells": [
    {
     "cell_type": "heading",
     "level": 1,
     "metadata": {},
     "source": [
      "Tablas del CIS"
     ]
    },
    {
     "cell_type": "code",
     "collapsed": false,
     "input": [
      "import pandas as pd\n",
      "from lxml import html\n",
      "import requests\n",
      "import glob"
     ],
     "language": "python",
     "metadata": {},
     "outputs": [],
     "prompt_number": 1
    },
    {
     "cell_type": "heading",
     "level": 4,
     "metadata": {},
     "source": [
      "Datos generales"
     ]
    },
    {
     "cell_type": "code",
     "collapsed": false,
     "input": [
      "global meses \n",
      "meses = pd.DataFrame()\n",
      "meses[\"es\"] = [\"Enero\",\"Febrero\",\"Marzo\",\"Abril\",\"Mayo\",\"Junio\",\"Julio\",\"Agosto\"\n",
      "                ,\"Septiembre\",\"Octubre\",\"Noviembre\",\"Diciembre\"]\n",
      "meses[\"en\"] = [\"January\",\"February\", \"March\", \"April\",\"May\",\"June\",\"July\",\"August\"\n",
      "                ,\"September\",\"October\",\"November\", \"December\"]\n",
      "meses[\"num\"] = [\"01\",\"02\", \"03\", \"04\",\"05\",\"06\",\"07\",\"08\",\"09\",\"10\",\"11\", \"12\"]\n",
      "MesesIntencionVoto = [\"01\",\"03\",\"05\",\"07\",\"09\",\"11\"]\n",
      "\n",
      "\n",
      "df_colores = pd.DataFrame()\n",
      "df_colores[\"partido\"] = ['PP','PSOE','Podemos','IU-ICV','UPyD','Ciudadanos','CiU','ERC']\n",
      "df_colores[\"rgb\"] = ['#6ccfdf','#d53a54','#93117e','#55ba72','#d21a7d','#dd9800','#b5b5b5','#d21a7d']\n",
      "\n",
      "df_elecciones_2011= pd.DataFrame()\n",
      "df_elecciones_2011[\"partido\"] = ['PP','PSOE','Podemos','IU','UPyD','Ciudadanos','CiU','ERC']\n",
      "df_elecciones_2011[\"resultado\"] = ['82.3','41.0','10.2','28.2','26.0','22.0','21.0','']\n",
      "\n",
      "     \n"
     ],
     "language": "python",
     "metadata": {},
     "outputs": [],
     "prompt_number": 2
    },
    {
     "cell_type": "heading",
     "level": 4,
     "metadata": {},
     "source": [
      "Vamos a crear una funcion que lee la tabla del cis desde la url y la carga en un dataframe"
     ]
    },
    {
     "cell_type": "code",
     "collapsed": false,
     "input": [
      "def obtenerTabla(url):\n",
      "    \n",
      "    page = requests.get(url)\n",
      "    tree = html.fromstring(page.text)\n",
      "    # We have a single tbody in the page:\n",
      "    table = tree.xpath('//table[@class=\"dataframe\"]')\n",
      "    cabeceras =  table[0].xpath('//tr[@class=\"firstline\"]')\n",
      "    \n",
      "    titulo = tree.xpath('//h1')\n",
      "    titulo = titulo[0].text\n",
      "\n",
      "    #Los meses\n",
      "    meses = []\n",
      "    \n",
      "    for th in cabeceras[0].xpath('//th'):\n",
      "        #print th.text\n",
      "        meses.append(th.text)\n",
      "\n",
      "    del meses[0]\n",
      "    #print meses\n",
      "\n",
      "    # Los partidos\n",
      "    partidos = []\n",
      "    for td in cabeceras[0].xpath('//td[@class=\"fc\"]'):\n",
      "        partidos.append(td.text)\n",
      "\n",
      "    #print partidos\n",
      "\n",
      "    # los datos\n",
      "\n",
      "    datos= pd.DataFrame(columns=meses, index = partidos)\n",
      "\n",
      "    tr = cabeceras[0].xpath('//tr')\n",
      "    del tr[0]\n",
      "    del tr[0]\n",
      "\n",
      "   \n",
      "    al_final = ['N.C.','(N)','N.S.',u'Abstenci\u00f3n','En Blanco','Voto nulo', 'N.C']\n",
      "    \n",
      "    for iparti in range(0,len(partidos)):\n",
      "        lista =[]    \n",
      "        for td in tr[iparti]:\n",
      "            lista.append(td.text)\n",
      "        for imes in range(0,len(meses)):\n",
      "            dato = lista[imes+1].strip()\n",
      "            if (dato == '.'):\n",
      "                dato = 0\n",
      "            datos.loc[partidos[iparti],meses[imes]] = float(dato)\n",
      "            \n",
      "        if (lista[0] in al_final):\n",
      "             datos.loc[partidos[iparti],\"orden\"] = 0\n",
      "        else:\n",
      "             datos.loc[partidos[iparti],\"orden\"] = 1\n",
      "       \n",
      "        \n",
      "        datos = datos.sort(columns=[datos.columns[len(datos.columns)-1], datos.columns[0], datos.columns[1],\n",
      "                                    datos.columns[2],datos.columns[3],datos.columns[4]],ascending=False)\n",
      "        datos.sort()\n",
      "    \n",
      "    return datos,titulo\n",
      "    \n",
      "\n"
     ],
     "language": "python",
     "metadata": {},
     "outputs": [],
     "prompt_number": 3
    },
    {
     "cell_type": "heading",
     "level": 4,
     "metadata": {},
     "source": [
      "Creamos una fuci\u00f3n que guarde el dataframe en un csv y en excel"
     ]
    },
    {
     "cell_type": "code",
     "collapsed": false,
     "input": [
      "def guardaCsv(df,nombre):\n",
      "    titulo = \"csvs/\" + nombre + '.csv'\n",
      "    df.to_csv(titulo, encoding='utf-8')\n",
      "\n",
      "   \n",
      "def guardaXls(df,nombre):\n",
      "    titulo = \"csvs/\"+ nombre + '.xls'\n",
      "    df.to_excel(titulo, encoding='utf-8',sheet_name='Sheet1', engine='xlsxwriter')\n",
      "    \n",
      "    "
     ],
     "language": "python",
     "metadata": {},
     "outputs": [],
     "prompt_number": 4
    },
    {
     "cell_type": "heading",
     "level": 4,
     "metadata": {},
     "source": [
      "Creamos una funci\u00f3n que lea del csv"
     ]
    },
    {
     "cell_type": "code",
     "collapsed": false,
     "input": [
      "def leeCsv(nombre):\n",
      "    titulo = \"csvs/\" + nombre + '.csv'\n",
      "    df = pd.read_csv(titulo, index_col=0)\n",
      "    return df, nombre"
     ],
     "language": "python",
     "metadata": {},
     "outputs": [],
     "prompt_number": 5
    },
    {
     "cell_type": "heading",
     "level": 4,
     "metadata": {},
     "source": [
      "Vamos a llamar a las urls del CIS para coger los datos"
     ]
    },
    {
     "cell_type": "code",
     "collapsed": false,
     "input": [
      "#Intencion de voto\n",
      "\n",
      "urls = [[\"intencion\",\n",
      "         \"http://www.cis.es/cis/export/sites/default/-Archivos/Indicadores/documentos_html/sB606050010.html\"],\n",
      "        [\"estimacion\",\n",
      "         \"http://www.cis.es/cis/export/sites/default/-Archivos/Indicadores/documentos_html/sB606050020.html\"], \n",
      "        [\"preguntas\",\n",
      "         \"http://www.cis.es/cis/export/sites/default/-Archivos/Indicadores/documentos_html/TresProblemas.html\"]]\n",
      "\n",
      "for url in urls:\n",
      "    df, nombre = obtenerTabla(url[1])  \n",
      "    guardaCsv(df, url[0])\n",
      "\n",
      "    try:\n",
      "        guardaXls(df,url[0])\n",
      "        #print df\n",
      "    except:\n",
      "        print \"falla \", url[0]\n",
      "\n",
      "print  glob.glob('csvs/*')"
     ],
     "language": "python",
     "metadata": {},
     "outputs": [
      {
       "output_type": "stream",
       "stream": "stdout",
       "text": [
        "['csvs/estimacion.csv', 'csvs/preguntas.csv', 'csvs/intencion.xls', 'csvs/estimacion.xls', 'csvs/preguntas.xls', 'csvs/backup', 'csvs/intencion.csv']\n"
       ]
      }
     ],
     "prompt_number": 6
    },
    {
     "cell_type": "markdown",
     "metadata": {},
     "source": [
      "Creamos las funciones que formatean los datos correctamente"
     ]
    },
    {
     "cell_type": "code",
     "collapsed": false,
     "input": [
      "def obtenJsonEstimacion1(data):\n",
      "   \n",
      "    texto = \"[\" \n",
      "    texto = \"['Mes',\"\n",
      "    dato = \"['\"+ data.columns[0] + \"',\"\n",
      "    for index, row in data.iterrows():\n",
      "        texto +='\\'' + str(index) + '\\',' \n",
      "        dato += '\\'' + str(row[0]) + '\\',' \n",
      "\n",
      "        \n",
      "    texto = texto[:-1]\n",
      "    dato = dato[:-1]\n",
      "    texto +=  \"]\"\n",
      "    dato += \"]\"\n",
      "    total = \"[\" + texto  + \",\" + dato + \"]\"\n",
      "    return total\n",
      "\n",
      "\n",
      "def obtenJsonEstimacion2(data):\n",
      "\n",
      "    titulo = \"['Mes',\"\n",
      "    fijo = \"['Elecc 2011',\"\n",
      "    datos = \"\"\n",
      "    for index, row in data.iterrows():\n",
      "        titulo += '\\'' + str(index) + '\\','\n",
      "        resultado = df_elecciones_2011[df_elecciones_2011.partido == index].index\n",
      "   \n",
      "        fijo +=  '\\'' + str(df_elecciones_2011.at[resultado[0],\"resultado\"]) + '\\','\n",
      "\n",
      "    \n",
      "    for i in range (0,len(data)):\n",
      "  \n",
      "        datos += \"['\" + data.columns[i] + \"',\"\n",
      "        for index, row in data.iterrows():\n",
      "            datos += \"'\" + str(row[i]) + \"',\"\n",
      "        datos =  datos[:-1]\n",
      "        datos += \"],\"\n",
      "    \n",
      "    titulo = titulo[:-1]\n",
      "    titulo += \"],\"\n",
      "    fijo = fijo[:-1]\n",
      "    fijo += \"],\"\n",
      "    datos = datos[:-1]\n",
      "\n",
      "    texto = titulo + fijo + datos\n",
      "    \n",
      "    total = \"[\" + texto + \"]\"\n",
      "    return total\n",
      "\n",
      "def obtenJsonIntecion(data):\n",
      "    texto = \"\"\n",
      "    for index, row in data.iterrows():\n",
      "        texto +='[\\'' + str(index) + '\\',' \n",
      "        texto += '\\'' + str(row[0]) + '\\','\n",
      "        color = df_colores[df_colores.partido == index].index\n",
      "        texto += '\\'' + df_colores.at[color[0],\"rgb\"] + '\\'],'\n",
      "    texto = texto[:-1]\n",
      "    total = \"[\" + texto + \"]\"\n",
      "    return total\n",
      "\n",
      "def obtenJsonPreguntas1(data):\n",
      "    texto = \"\"\n",
      "    for index, row in data.iterrows():\n",
      "        texto +='[\\'' + str(index) + '\\',' \n",
      "        texto +=  str(row[0]) + ','\n",
      "        texto +=  '\\'' + str(row[0]) + '\\','\n",
      "        texto +=  str(row[1]) + ','\n",
      "        texto +=  '\\'' + str(row[1]) + '\\'],'\n",
      "    texto = texto[:-1]\n",
      "    total = \"[\" + texto + \"]\"\n",
      "    return total\n",
      "\n",
      "def obtenJsonPreguntas2(data):\n",
      "    texto = \"\"\n",
      "    primera = \"\\'Mes\\',\"\n",
      "    \n",
      "    for index, row in data.iterrows():\n",
      "        primera +='\\'' + str(index) + '\\',' \n",
      "    \n",
      "    numcols = data.count(axis=1)\n",
      "    \n",
      "\n",
      "    for i in range (0,numcols[0]):\n",
      "        texto += \"[\\'\" + data.columns[i] + \"',\"\n",
      "        for index, row in data.iterrows():\n",
      "            texto +=   str(row[i]) + \",\"\n",
      "        texto =  texto[:-1]\n",
      "        texto += \"],\"\n",
      "        \n",
      "            \n",
      "    primera = primera[:-1]\n",
      "    texto = texto[:-1]\n",
      "    total = \"[[\" + primera + \"],\" + texto + \"]\"\n",
      "    return total"
     ],
     "language": "python",
     "metadata": {},
     "outputs": [],
     "prompt_number": 7
    },
    {
     "cell_type": "heading",
     "level": 4,
     "metadata": {},
     "source": [
      "Vamos a sacar los datos del primer gr\u00e1fico de estimaci\u00f3n a partir del csv"
     ]
    },
    {
     "cell_type": "heading",
     "level": 4,
     "metadata": {},
     "source": [
      "A continuaci\u00f3n vamos a leer de los csvs que est\u00e1n creados"
     ]
    },
    {
     "cell_type": "code",
     "collapsed": false,
     "input": [
      "#leemos el pdf de estimacion\n",
      "df,nombre = leeCsv('estimacion')\n",
      "#Obtenemos el nombre del \u00faltimo mes\n",
      "colname = df.columns[0]"
     ],
     "language": "python",
     "metadata": {},
     "outputs": [],
     "prompt_number": 8
    },
    {
     "cell_type": "heading",
     "level": 4,
     "metadata": {},
     "source": [
      "ESTIMACION 1"
     ]
    },
    {
     "cell_type": "code",
     "collapsed": false,
     "input": [
      "#Estimaci\u00f3n 1 Gr\u00e1fico de media tarta con el \u00faltimo mes\n",
      "\n",
      "# Nos quedamos con los 7 primeros resultados\n",
      "s_actual = df[0:6][colname]\n",
      "\n",
      "#El resto menos \"En blanco\" lo sumamos y creamos un Otros\n",
      "s_otros =  df[7:len(df)-1][colname]\n",
      "otros = pd.Series(data=s_otros.sum(),index=[\"Otros\"])\n",
      "\n",
      "#Nos quedamos con \"En blanco\"\n",
      "s_enblanco=  df[len(df)-1:len(df)][colname]\n",
      "\n",
      "#A\u00f1adimos los resultados al primer\n",
      "s_actual = s_actual.append(otros)\n",
      "s_actual = s_actual.append(s_enblanco)\n",
      "\n",
      "# Y creamos un dataFrame con la suma de todos los elementos que son los que sacaremos en el\n",
      "# gr\u00e1fico\n",
      "result = pd.DataFrame(data=s_actual,columns=[colname])\n",
      "\n",
      "#Ahora sacamos el objeto que necesita el gr\u00e1fico\n",
      "\n",
      "print obtenJsonEstimacion1(result)"
     ],
     "language": "python",
     "metadata": {},
     "outputs": [
      {
       "output_type": "stream",
       "stream": "stdout",
       "text": [
        "[['Mes','PP','PSOE','Podemos','Ciudadanos','IU','CiU','Otros','En Blanco'],['abr15','25.6','24.3','16.5','13.8','4.8','3.2','6.7','3.0']]\n"
       ]
      }
     ],
     "prompt_number": 9
    },
    {
     "cell_type": "heading",
     "level": 4,
     "metadata": {},
     "source": [
      "ESTIMACI\u00d3N 2 - BARRAS"
     ]
    },
    {
     "cell_type": "code",
     "collapsed": false,
     "input": [
      "\n",
      "#Estimacion 2 gr\u00e1fico con 7 partidos las \u00faltimas 10 estimaciones\n",
      "colname = df.columns[0:10]\n",
      "\n",
      "s_actual = df[0:7][colname]\n",
      "\n",
      "#Si queremos otra cantidad de datos, cambiamos estas cifras\n",
      "# gr\u00e1fico\n",
      "result = pd.DataFrame(data=s_actual,columns=[colname])\n",
      "\n",
      "print obtenJsonEstimacion2(result)"
     ],
     "language": "python",
     "metadata": {},
     "outputs": [
      {
       "output_type": "stream",
       "stream": "stdout",
       "text": [
        "[['Mes','PP','PSOE','Podemos','Ciudadanos','IU','CiU','ERC'],['Elecc 2011','82.3','41.0','10.2','22.0','28.2','21.0',''],['abr15','25.6','24.3','16.5','13.8','4.8','3.2','2.0'],['ene15','27.3','22.2','23.9','3.1','5.2','3.0','1.6'],['oct14','27.5','23.9','22.5','2.1','4.8','3.8','2.3'],['jul14','30.0','21.2','15.3','0.9','8.2','2.9','3.3'],['abr14','31.9','26.2','0.0','0.0','10.9','3.0','2.5'],['ene14','32.1','26.6','0.0','0.0','11.3','3.4','2.5'],['oct13','34.0','26.8','0.0','0.0','11.3','2.9','2.5']]\n"
       ]
      }
     ],
     "prompt_number": 10
    },
    {
     "cell_type": "heading",
     "level": 4,
     "metadata": {},
     "source": [
      "INTENCI\u00d3N O VOTO DIRECTO "
     ]
    },
    {
     "cell_type": "code",
     "collapsed": false,
     "input": [
      "#Ahora vamos con el de intencion\n",
      "df,nombre = leeCsv('intencion')\n",
      "colname = df.columns[0]\n",
      "\n",
      "# Nos quedamos con los 7 primeros resultados\n",
      "s_actual = df[0:7][colname]\n",
      "\n",
      "# Y creamos un dataFrame con la suma de todos los elementos que son los que sacaremos en el\n",
      "# gr\u00e1fico\n",
      "result = pd.DataFrame(data=s_actual,columns=[colname])\n",
      "    \n",
      "print obtenJsonIntecion(result)"
     ],
     "language": "python",
     "metadata": {},
     "outputs": [
      {
       "output_type": "stream",
       "stream": "stdout",
       "text": [
        "[['PSOE','15.4','#d53a54'],['Podemos','13.6','#93117e'],['PP','13.5','#6ccfdf'],['Ciudadanos','10.0','#dd9800'],['IU-ICV','3.1','#55ba72'],['ERC','1.5','#d21a7d'],['CiU','1.4','#b5b5b5']]\n"
       ]
      }
     ],
     "prompt_number": 11
    },
    {
     "cell_type": "heading",
     "level": 4,
     "metadata": {},
     "source": [
      "PREGUNTAS Y RESPUESTAS"
     ]
    },
    {
     "cell_type": "code",
     "collapsed": false,
     "input": [
      "#leemos el pdf de estimacion\n",
      "df,nombre = leeCsv('preguntas')\n",
      "#Obtenemos el nombre de los dos \u00faltimos meses\n",
      "colname = df.columns[0:2]"
     ],
     "language": "python",
     "metadata": {},
     "outputs": [],
     "prompt_number": 12
    },
    {
     "cell_type": "code",
     "collapsed": false,
     "input": [
      "print colname"
     ],
     "language": "python",
     "metadata": {},
     "outputs": [
      {
       "output_type": "stream",
       "stream": "stdout",
       "text": [
        "Index([u'jun15', u'may15'], dtype='object')\n"
       ]
      }
     ],
     "prompt_number": 13
    },
    {
     "cell_type": "heading",
     "level": 6,
     "metadata": {},
     "source": [
      "Este es el formato del primer json"
     ]
    },
    {
     "cell_type": "markdown",
     "metadata": {},
     "source": [
      "[['El paro',80.3,'80.3',78.6,'78.6'],<br/>\n",
      "['La corrupci\u00f3n y el fraude',50.8,'50.8',48.5,'48.5'],<br/>\n",
      "['Los problemas de \u00edndole econ\u00f3mica',24.9,'24.9',24.9,'24.9'],<br/>\n",
      "['Los/as pol\u00edticos/as en general, los partidos y la pol\u00edtica',20.0,'20.0',20.1,'20.1'],<br/>\n",
      "['La sanidad',11.8,'11.8',12.1,'12.1']]<br/>"
     ]
    },
    {
     "cell_type": "code",
     "collapsed": false,
     "input": [
      "# Nos quedamos con los 5 primeros resultados\n",
      "s_actual = df[0:5][colname]\n",
      "\n",
      "# Y creamos un dataFrame con la suma de todos los elementos que son los que sacaremos en el\n",
      "# gr\u00e1fico\n",
      "result = pd.DataFrame(data=s_actual,columns=[colname])\n",
      "\n",
      "    \n",
      "print obtenJsonPreguntas1(result)"
     ],
     "language": "python",
     "metadata": {},
     "outputs": [
      {
       "output_type": "stream",
       "stream": "stdout",
       "text": [
        "[['El paro',78.2,'78.2',79.4,'79.4'],['La corrupci\u00f3n y el fraude',47.1,'47.1',50.8,'50.8'],['Los problemas de \u00edndole econ\u00f3mica',25.4,'25.4',25.1,'25.1'],['Los pol\u00edticos en general, los partidos pol\u00edticos y la pol\u00edtica',20.7,'20.7',18.8,'18.8'],['La sanidad',11.2,'11.2',12.7,'12.7']]\n"
       ]
      }
     ],
     "prompt_number": 14
    },
    {
     "cell_type": "heading",
     "level": 6,
     "metadata": {},
     "source": [
      "este es el formato del segundo json"
     ]
    },
    {
     "cell_type": "markdown",
     "metadata": {},
     "source": [
      "[['El paro','La corrupci\u00f3n y el fraude','La sanidad','Los problemas de \u00edndole econ\u00f3mica','Los/as pol\u00edticos/as en general, los partidos y la pol\u00edtica'],<br/>\n",
      "['03/2014',82.3,41.0,10.2,28.2,26.0],<br/>\n",
      "['04/2014',80.3,36.3,10.4,28.0,26.0],<br/>\n",
      "['05/2014',80.8,35.7,10.4,28.6,25.6],<br/>\n",
      "['06/2014',76.8,38.8,11.5,28.4,28.0],<br/>\n",
      "['07/2014',77.0,41.5,11.3,28.0,26.4],<br/>\n",
      "['09/2014',75.3,42.7,11.5,28.8,25.8],<br/>\n",
      "['10/2014',76.0,42.3,11.8,27.0,23.2],<br/>\n",
      "['11/2014',77.0,63.8,8.6,25.5,23.3],<br/>\n",
      "['12/2014',75.5,60.0,10.6,24.9,21.8],<br/>\n",
      "['01/2015',79.4,55.5,10.2,24.5,21.8],<br/>\n",
      "['02/2015',78.6,48.5,12.1,24.9,20.1],<br/>\n",
      "['03/2015',80.3,50.8,11.8,24.9,20.0]]<br/>"
     ]
    },
    {
     "cell_type": "code",
     "collapsed": false,
     "input": [
      "#leemos el pdf de estimacion\n",
      "df,nombre = leeCsv('preguntas')\n",
      "#Obtenemos el nombre de los doce \u00faltimos meses\n",
      "colname = df.columns[0:12]\n",
      "# Nos quedamos con los 5 primeros resultados\n",
      "s_actual = df[0:5][colname]\n",
      "# Y creamos un dataFrame con la suma de todos los elementos que son los que sacaremos en el\n",
      "# gr\u00e1fico\n",
      "result = pd.DataFrame(data=s_actual,columns=[colname])\n",
      "print obtenJsonPreguntas2(result)"
     ],
     "language": "python",
     "metadata": {},
     "outputs": [
      {
       "output_type": "stream",
       "stream": "stdout",
       "text": [
        "[['Mes','El paro','La corrupci\u00f3n y el fraude','Los problemas de \u00edndole econ\u00f3mica','Los pol\u00edticos en general, los partidos pol\u00edticos y la pol\u00edtica','La sanidad'],['jun15',78.2,47.1,25.4,20.7,11.2],['may15',79.4,50.8,25.1,18.8,12.7],['abr15',81.5,48.6,26.9,19.6,11.5],['mar15',80.3,50.8,24.9,20.0,11.8],['feb15',78.6,48.5,24.9,20.1,12.1],['ene15',79.4,55.5,24.5,21.8,10.2],['dic14',75.5,60.0,24.9,21.8,10.6],['nov14',77.0,63.8,25.5,23.3,8.6],['oct14',76.0,42.3,27.0,23.2,11.8],['sep14',75.3,42.7,28.8,25.8,11.5],['jul14',77.0,41.5,28.0,26.4,11.3],['jun14',76.8,38.8,28.4,28.0,11.5]]\n"
       ]
      }
     ],
     "prompt_number": 15
    },
    {
     "cell_type": "code",
     "collapsed": false,
     "input": [],
     "language": "python",
     "metadata": {},
     "outputs": [],
     "prompt_number": 15
    }
   ],
   "metadata": {}
  }
 ]
}