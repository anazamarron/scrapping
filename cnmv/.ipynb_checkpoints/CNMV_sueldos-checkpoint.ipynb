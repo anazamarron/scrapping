{
 "metadata": {
  "name": "",
  "signature": "sha256:03def85976a63981cec8e6264e2b1ceb0933273ab4ff47ed005bc435ae25ea7d"
 },
 "nbformat": 3,
 "nbformat_minor": 0,
 "worksheets": [
  {
   "cells": [
    {
     "cell_type": "heading",
     "level": 1,
     "metadata": {},
     "source": [
      "CNMV - Informaci\u00f3n sobre el salario de los consejeros de las empresas"
     ]
    },
    {
     "cell_type": "markdown",
     "metadata": {},
     "source": [
      "Esta informaci\u00f3n se extrae de una p\u00e1gina de la CNMV, los enlaces que se generan son din\u00e1micos y caducan con el tiempo por lo que hay que hacer el proceso de toda la navegaci\u00f3n para obtener los enlaces que serviran para cada descarga"
     ]
    },
    {
     "cell_type": "code",
     "collapsed": false,
     "input": [
      "import mechanize\n",
      "import cookielib\n",
      "import ssl\n",
      "import urllib\n",
      "import urllib2\n",
      "import tempfile\n",
      "from lxml import html,etree\n",
      "from bs4 import BeautifulSoup\n",
      "from cStringIO import StringIO\n",
      "from pdfminer.pdfinterp import PDFResourceManager, PDFPageInterpreter\n",
      "from pdfminer.converter import TextConverter\n",
      "from pdfminer.converter import HTMLConverter\n",
      "from pdfminer.converter import XMLConverter\n",
      "from pdfminer.layout import LAParams\n",
      "from pdfminer.pdfpage import PDFPage\n",
      "from pyPdf import PdfFileWriter, PdfFileReader\n",
      "import re\n",
      "import subprocess\n",
      "import glob\n",
      "import pandas as pd\n",
      "import numpy as np\n",
      "\n"
     ],
     "language": "python",
     "metadata": {},
     "outputs": [],
     "prompt_number": 1
    },
    {
     "cell_type": "heading",
     "level": 2,
     "metadata": {},
     "source": [
      "HOla caracola"
     ]
    },
    {
     "cell_type": "code",
     "collapsed": false,
     "input": [
      "\n",
      "if hasattr(ssl, '_create_unverified_context'):\n",
      "    ssl._create_default_https_context = ssl._create_unverified_context\n",
      "\n",
      "\n",
      "url_CNMV = \"https://www.cnmv.es/Portal/Consultas/EE/InformacionGobCorp.aspx?TipoInforme=6&pageIRC=\""
     ],
     "language": "python",
     "metadata": {},
     "outputs": [],
     "prompt_number": 2
    },
    {
     "cell_type": "code",
     "collapsed": false,
     "input": [
      "i=0\n",
      "for j in range(0,9):\n",
      "    browser = mechanize.Browser(factory=mechanize.RobustFactory())\n",
      "    browser.set_handle_robots(False)\n",
      "    browser.set_handle_equiv(False)\n",
      "    url_a_usar = url_CNMV + str(j)\n",
      "    page = browser.open(url_a_usar)\n",
      "    htmlcontent = page.read()\n",
      "    soup = BeautifulSoup(htmlcontent)\n",
      "\n",
      "    \n",
      "    for elm in  soup.find_all('table'):\n",
      "        for a_elm in elm.find_all(\"a\"):\n",
      "            if i%2!=0:\n",
      "                href = (a_elm.attrs[\"href\"])\n",
      "                url = \"https://www.cnmv.es/Portal/\" + href[6:len(href)]\n",
      "                print url\n",
      "                response = urllib2.urlopen(url)\n",
      "                nombre_fichero = \"document_\" + str(i) + \".pdf\"\n",
      "                file = open(\"pdfs/total/\" + nombre_fichero, 'wb')\n",
      "                file.write(response.read())\n",
      "                file.close()\n",
      "                print(\"Completed\")\n",
      "                \n",
      "            i+=1\n",
      "        "
     ],
     "language": "python",
     "metadata": {},
     "outputs": [
      {
       "output_type": "stream",
       "stream": "stdout",
       "text": [
        "https://www.cnmv.es/Portal/verDoc.axd?t={358e16db-8e37-451e-8562-ea82df4b8b65}\n",
        "Completed"
       ]
      },
      {
       "output_type": "stream",
       "stream": "stdout",
       "text": [
        "\n",
        "https://www.cnmv.es/Portal/verDoc.axd?t={9ad4d646-66b6-4153-9b3b-60ce97edba4a}\n",
        "Completed"
       ]
      },
      {
       "output_type": "stream",
       "stream": "stdout",
       "text": [
        "\n",
        "https://www.cnmv.es/Portal/verDoc.axd?t={c9a5006c-2a0d-464f-aead-b3ec6aef3635}\n",
        "Completed"
       ]
      },
      {
       "output_type": "stream",
       "stream": "stdout",
       "text": [
        "\n",
        "https://www.cnmv.es/Portal/verDoc.axd?t={870785a5-3eca-4ed9-a69a-a7d693ed9c07}\n",
        "Completed"
       ]
      },
      {
       "output_type": "stream",
       "stream": "stdout",
       "text": [
        "\n",
        "https://www.cnmv.es/Portal/verDoc.axd?t={037576ec-443b-4f92-aac2-87b8d7d131ee}\n",
        "Completed"
       ]
      },
      {
       "output_type": "stream",
       "stream": "stdout",
       "text": [
        "\n",
        "https://www.cnmv.es/Portal/verDoc.axd?t={07dd5670-fc8d-4966-a2ce-2f72602fc8b9}\n",
        "Completed"
       ]
      },
      {
       "output_type": "stream",
       "stream": "stdout",
       "text": [
        "\n",
        "https://www.cnmv.es/Portal/verDoc.axd?t={445dcc1e-39f3-4731-b9a2-4758141d017c}\n",
        "Completed"
       ]
      },
      {
       "output_type": "stream",
       "stream": "stdout",
       "text": [
        "\n",
        "https://www.cnmv.es/Portal/verDoc.axd?t={fe78db10-2ef7-416e-a33b-9c60e387da1a}\n",
        "Completed"
       ]
      },
      {
       "output_type": "stream",
       "stream": "stdout",
       "text": [
        "\n",
        "https://www.cnmv.es/Portal/verDoc.axd?t={20c3d863-3d62-42c9-9750-77ab750bac2b}\n",
        "Completed"
       ]
      },
      {
       "output_type": "stream",
       "stream": "stdout",
       "text": [
        "\n",
        "https://www.cnmv.es/Portal/verDoc.axd?t={e5d3f46d-1abf-4c22-96b1-68a02a40d8c0}\n",
        "Completed"
       ]
      },
      {
       "output_type": "stream",
       "stream": "stdout",
       "text": [
        "\n",
        "https://www.cnmv.es/Portal/verDoc.axd?t={a5bd172a-fe24-40d8-bf05-2afca7825b05}\n",
        "Completed"
       ]
      },
      {
       "output_type": "stream",
       "stream": "stdout",
       "text": [
        "\n",
        "https://www.cnmv.es/Portal/verDoc.axd?t={c7d7d7be-0247-44c4-9442-4178159ade5a}\n",
        "Completed"
       ]
      },
      {
       "output_type": "stream",
       "stream": "stdout",
       "text": [
        "\n",
        "https://www.cnmv.es/Portal/verDoc.axd?t={6c4d4c68-8e2f-40f2-81b8-2055f631b4c0}\n",
        "Completed"
       ]
      },
      {
       "output_type": "stream",
       "stream": "stdout",
       "text": [
        "\n",
        "https://www.cnmv.es/Portal/verDoc.axd?t={2dd3ca28-7c52-4144-8a3f-8c7aa5c186cc}\n",
        "Completed"
       ]
      },
      {
       "output_type": "stream",
       "stream": "stdout",
       "text": [
        "\n",
        "https://www.cnmv.es/Portal/verDoc.axd?t={21e420a3-f51c-470c-8009-f5df152f202f}\n",
        "Completed"
       ]
      },
      {
       "output_type": "stream",
       "stream": "stdout",
       "text": [
        "\n",
        "https://www.cnmv.es/Portal/verDoc.axd?t={950770e3-ff0e-4ba3-ba17-56b7dfcf90d4}"
       ]
      },
      {
       "output_type": "stream",
       "stream": "stdout",
       "text": [
        "\n",
        "Completed"
       ]
      },
      {
       "output_type": "stream",
       "stream": "stdout",
       "text": [
        "\n",
        "https://www.cnmv.es/Portal/verDoc.axd?t={f7e6f428-709b-4aed-8488-ce50f39fde9e}\n",
        "Completed"
       ]
      },
      {
       "output_type": "stream",
       "stream": "stdout",
       "text": [
        "\n",
        "https://www.cnmv.es/Portal/verDoc.axd?t={33a3a0b1-ad41-403e-97a1-de2c127ba9a1}\n",
        "Completed"
       ]
      },
      {
       "output_type": "stream",
       "stream": "stdout",
       "text": [
        "\n",
        "https://www.cnmv.es/Portal/verDoc.axd?t={e4f12e26-8116-4f77-b247-8348e8360df8}\n",
        "Completed"
       ]
      },
      {
       "output_type": "stream",
       "stream": "stdout",
       "text": [
        "\n",
        "https://www.cnmv.es/Portal/verDoc.axd?t={b62680ad-c8b1-4e44-bc38-0f9ffbb29437}\n",
        "Completed"
       ]
      },
      {
       "output_type": "stream",
       "stream": "stdout",
       "text": [
        "\n",
        "https://www.cnmv.es/Portal/verDoc.axd?t={3da618f2-f404-4b0d-828a-b7d9e46c96f6}\n",
        "Completed"
       ]
      },
      {
       "output_type": "stream",
       "stream": "stdout",
       "text": [
        "\n",
        "https://www.cnmv.es/Portal/verDoc.axd?t={da5ae902-e814-4ba9-9bdf-ff528c0e01f1}\n",
        "Completed"
       ]
      },
      {
       "output_type": "stream",
       "stream": "stdout",
       "text": [
        "\n",
        "https://www.cnmv.es/Portal/verDoc.axd?t={c9265a0a-835a-45a9-8f3a-799b04046ad0}\n",
        "Completed"
       ]
      },
      {
       "output_type": "stream",
       "stream": "stdout",
       "text": [
        "\n",
        "https://www.cnmv.es/Portal/verDoc.axd?t={11f18fcc-b18c-4384-98bf-d8c7806ddedc}\n",
        "Completed"
       ]
      },
      {
       "output_type": "stream",
       "stream": "stdout",
       "text": [
        "\n",
        "https://www.cnmv.es/Portal/verDoc.axd?t={b63aaf0a-e881-44f2-ad27-c6c2275df27a}\n",
        "Completed"
       ]
      },
      {
       "output_type": "stream",
       "stream": "stdout",
       "text": [
        "\n",
        "https://www.cnmv.es/Portal/verDoc.axd?t={730a78eb-34ce-4610-ab47-f58c1cbc4588}\n",
        "Completed"
       ]
      },
      {
       "output_type": "stream",
       "stream": "stdout",
       "text": [
        "\n",
        "https://www.cnmv.es/Portal/verDoc.axd?t={f6688fbb-2dab-4fbe-9d2c-954c478857d8}\n",
        "Completed"
       ]
      },
      {
       "output_type": "stream",
       "stream": "stdout",
       "text": [
        "\n",
        "https://www.cnmv.es/Portal/verDoc.axd?t={9378e0d5-9187-4eef-9c45-12278ef5d6c2}\n",
        "Completed"
       ]
      },
      {
       "output_type": "stream",
       "stream": "stdout",
       "text": [
        "\n",
        "https://www.cnmv.es/Portal/verDoc.axd?t={96d788f2-cf40-4608-a698-184ece092094}\n",
        "Completed"
       ]
      },
      {
       "output_type": "stream",
       "stream": "stdout",
       "text": [
        "\n",
        "https://www.cnmv.es/Portal/verDoc.axd?t={f9abab3d-c1e1-4397-98ff-82e14f354ae6}\n",
        "Completed"
       ]
      },
      {
       "output_type": "stream",
       "stream": "stdout",
       "text": [
        "\n",
        "https://www.cnmv.es/Portal/verDoc.axd?t={4fbca3d7-6c7b-454e-94b6-9443cd55c793}"
       ]
      },
      {
       "output_type": "stream",
       "stream": "stdout",
       "text": [
        "\n",
        "Completed"
       ]
      },
      {
       "output_type": "stream",
       "stream": "stdout",
       "text": [
        "\n",
        "https://www.cnmv.es/Portal/verDoc.axd?t={f0f77f8b-8577-4f2f-bd16-cf12ab1e039b}\n",
        "Completed"
       ]
      },
      {
       "output_type": "stream",
       "stream": "stdout",
       "text": [
        "\n",
        "https://www.cnmv.es/Portal/verDoc.axd?t={87e7f2bd-93bc-48fd-b7b7-0c6abde1aff6}\n",
        "Completed"
       ]
      },
      {
       "output_type": "stream",
       "stream": "stdout",
       "text": [
        "\n",
        "https://www.cnmv.es/Portal/verDoc.axd?t={626a696e-4816-4eae-b80d-76602298afb4}\n",
        "Completed"
       ]
      },
      {
       "output_type": "stream",
       "stream": "stdout",
       "text": [
        "\n",
        "https://www.cnmv.es/Portal/verDoc.axd?t={86888aaa-4d39-442e-b57d-e2a10216668a}\n",
        "Completed"
       ]
      },
      {
       "output_type": "stream",
       "stream": "stdout",
       "text": [
        "\n",
        "https://www.cnmv.es/Portal/verDoc.axd?t={f2e1b913-d496-473c-a2ad-0408ecc1d08d}\n",
        "Completed"
       ]
      },
      {
       "output_type": "stream",
       "stream": "stdout",
       "text": [
        "\n",
        "https://www.cnmv.es/Portal/verDoc.axd?t={16c66747-26fc-442e-9468-659287037dc0}\n",
        "Completed"
       ]
      },
      {
       "output_type": "stream",
       "stream": "stdout",
       "text": [
        "\n",
        "https://www.cnmv.es/Portal/verDoc.axd?t={12aff31c-e60e-4072-a5f1-be4d472ca32c}\n",
        "Completed"
       ]
      },
      {
       "output_type": "stream",
       "stream": "stdout",
       "text": [
        "\n",
        "https://www.cnmv.es/Portal/verDoc.axd?t={0db94157-f3c4-432e-8502-968d76b09665}\n",
        "Completed"
       ]
      },
      {
       "output_type": "stream",
       "stream": "stdout",
       "text": [
        "\n",
        "https://www.cnmv.es/Portal/verDoc.axd?t={6154ab9b-5152-4244-ba6f-d381f594ff20}\n",
        "Completed"
       ]
      },
      {
       "output_type": "stream",
       "stream": "stdout",
       "text": [
        "\n",
        "https://www.cnmv.es/Portal/verDoc.axd?t={1426bb01-5c3c-4854-b300-8459c22cbe5d}\n",
        "Completed"
       ]
      },
      {
       "output_type": "stream",
       "stream": "stdout",
       "text": [
        "\n",
        "https://www.cnmv.es/Portal/verDoc.axd?t={8012cd80-1435-4797-a588-c6c34e398564}\n",
        "Completed"
       ]
      },
      {
       "output_type": "stream",
       "stream": "stdout",
       "text": [
        "\n",
        "https://www.cnmv.es/Portal/verDoc.axd?t={c3db2207-8583-4401-a37d-3e38090ddaa0}\n",
        "Completed"
       ]
      },
      {
       "output_type": "stream",
       "stream": "stdout",
       "text": [
        "\n",
        "https://www.cnmv.es/Portal/verDoc.axd?t={658a249c-ad24-46bb-9937-70ffbc404728}\n",
        "Completed"
       ]
      },
      {
       "output_type": "stream",
       "stream": "stdout",
       "text": [
        "\n",
        "https://www.cnmv.es/Portal/verDoc.axd?t={201f9e25-ad2d-464b-878d-6eb8e90343c3}\n",
        "Completed"
       ]
      },
      {
       "output_type": "stream",
       "stream": "stdout",
       "text": [
        "\n",
        "https://www.cnmv.es/Portal/verDoc.axd?t={c2f7ee7d-5593-4f8c-9904-35dc73388cc3}"
       ]
      },
      {
       "output_type": "stream",
       "stream": "stdout",
       "text": [
        "\n",
        "Completed"
       ]
      },
      {
       "output_type": "stream",
       "stream": "stdout",
       "text": [
        "\n",
        "https://www.cnmv.es/Portal/verDoc.axd?t={3630f873-1eb9-4a0f-b7b2-e81842354b73}\n",
        "Completed"
       ]
      },
      {
       "output_type": "stream",
       "stream": "stdout",
       "text": [
        "\n",
        "https://www.cnmv.es/Portal/verDoc.axd?t={144351b8-5d5b-4703-baf4-13554a34bea2}\n",
        "Completed"
       ]
      },
      {
       "output_type": "stream",
       "stream": "stdout",
       "text": [
        "\n",
        "https://www.cnmv.es/Portal/verDoc.axd?t={4ee57f5b-cc35-45e0-8c5c-61f074d11f7a}\n",
        "Completed"
       ]
      },
      {
       "output_type": "stream",
       "stream": "stdout",
       "text": [
        "\n",
        "https://www.cnmv.es/Portal/verDoc.axd?t={d5b34f5a-5381-4d08-b53d-5967516cc662}\n",
        "Completed"
       ]
      },
      {
       "output_type": "stream",
       "stream": "stdout",
       "text": [
        "\n",
        "https://www.cnmv.es/Portal/verDoc.axd?t={d84ae3a0-bed5-4017-b1ed-cd36ac62fcb0}\n",
        "Completed"
       ]
      },
      {
       "output_type": "stream",
       "stream": "stdout",
       "text": [
        "\n",
        "https://www.cnmv.es/Portal/verDoc.axd?t={925d1c4d-a565-462d-bcdf-f0745a76614b}\n",
        "Completed"
       ]
      },
      {
       "output_type": "stream",
       "stream": "stdout",
       "text": [
        "\n",
        "https://www.cnmv.es/Portal/verDoc.axd?t={1471ab36-885d-4ff8-a3ce-4e85d8f4f5de}\n",
        "Completed"
       ]
      },
      {
       "output_type": "stream",
       "stream": "stdout",
       "text": [
        "\n",
        "https://www.cnmv.es/Portal/verDoc.axd?t={92221847-2635-4515-9de4-9b183a6cfd43}\n",
        "Completed"
       ]
      },
      {
       "output_type": "stream",
       "stream": "stdout",
       "text": [
        "\n",
        "https://www.cnmv.es/Portal/verDoc.axd?t={17d90940-704f-4b49-aea9-1627f1cc8839}\n",
        "Completed"
       ]
      },
      {
       "output_type": "stream",
       "stream": "stdout",
       "text": [
        "\n",
        "https://www.cnmv.es/Portal/verDoc.axd?t={ffc5d97d-2730-4611-b540-91fd66e9ef24}\n",
        "Completed"
       ]
      },
      {
       "output_type": "stream",
       "stream": "stdout",
       "text": [
        "\n",
        "https://www.cnmv.es/Portal/verDoc.axd?t={47a2abf4-60fa-41d9-9fa9-9bba938ee6f1}\n",
        "Completed"
       ]
      },
      {
       "output_type": "stream",
       "stream": "stdout",
       "text": [
        "\n",
        "https://www.cnmv.es/Portal/verDoc.axd?t={54ad3fe9-bd8f-4e4c-b861-a7e0ed5c538b}\n",
        "Completed"
       ]
      },
      {
       "output_type": "stream",
       "stream": "stdout",
       "text": [
        "\n",
        "https://www.cnmv.es/Portal/verDoc.axd?t={08ef968f-fccd-4465-94db-9b801c8942bf}\n",
        "Completed"
       ]
      },
      {
       "output_type": "stream",
       "stream": "stdout",
       "text": [
        "\n",
        "https://www.cnmv.es/Portal/verDoc.axd?t={6a3d82ff-7d9f-47b4-88f0-fc2c1ae22d3f}\n",
        "Completed"
       ]
      },
      {
       "output_type": "stream",
       "stream": "stdout",
       "text": [
        "\n",
        "https://www.cnmv.es/Portal/verDoc.axd?t={a81708d7-8238-4f47-8f20-34464d56e774}"
       ]
      },
      {
       "output_type": "stream",
       "stream": "stdout",
       "text": [
        "\n",
        "Completed"
       ]
      },
      {
       "output_type": "stream",
       "stream": "stdout",
       "text": [
        "\n",
        "https://www.cnmv.es/Portal/verDoc.axd?t={b3088a96-9701-4662-9e2e-97b2e0ccbf00}\n",
        "Completed"
       ]
      },
      {
       "output_type": "stream",
       "stream": "stdout",
       "text": [
        "\n",
        "https://www.cnmv.es/Portal/verDoc.axd?t={867a2539-a895-4507-ae58-3d308f0cac33}\n",
        "Completed"
       ]
      },
      {
       "output_type": "stream",
       "stream": "stdout",
       "text": [
        "\n",
        "https://www.cnmv.es/Portal/verDoc.axd?t={b38881c0-ccac-48cb-9d6e-da5fffa5df6e}\n",
        "Completed"
       ]
      },
      {
       "output_type": "stream",
       "stream": "stdout",
       "text": [
        "\n",
        "https://www.cnmv.es/Portal/verDoc.axd?t={37e281c7-682a-4852-9bb2-b4e947849770}\n",
        "Completed"
       ]
      },
      {
       "output_type": "stream",
       "stream": "stdout",
       "text": [
        "\n",
        "https://www.cnmv.es/Portal/verDoc.axd?t={d2f2cd3b-bfeb-4ed0-bde2-194dacd870db}\n",
        "Completed"
       ]
      },
      {
       "output_type": "stream",
       "stream": "stdout",
       "text": [
        "\n",
        "https://www.cnmv.es/Portal/verDoc.axd?t={ad874335-9479-4a40-ad6d-efffb69a3520}\n",
        "Completed"
       ]
      },
      {
       "output_type": "stream",
       "stream": "stdout",
       "text": [
        "\n",
        "https://www.cnmv.es/Portal/verDoc.axd?t={a1a6be97-b1b0-4182-a060-c74df0e8f595}\n",
        "Completed"
       ]
      },
      {
       "output_type": "stream",
       "stream": "stdout",
       "text": [
        "\n",
        "https://www.cnmv.es/Portal/verDoc.axd?t={73aa9576-2b12-4523-a8d7-ea9ace5dc286}\n",
        "Completed"
       ]
      },
      {
       "output_type": "stream",
       "stream": "stdout",
       "text": [
        "\n",
        "https://www.cnmv.es/Portal/verDoc.axd?t={86949a03-a2a6-412e-8af4-87cab21db1e1}\n",
        "Completed"
       ]
      },
      {
       "output_type": "stream",
       "stream": "stdout",
       "text": [
        "\n",
        "https://www.cnmv.es/Portal/verDoc.axd?t={0c7362e2-b333-4527-8374-18ab8a2bd91a}\n",
        "Completed"
       ]
      },
      {
       "output_type": "stream",
       "stream": "stdout",
       "text": [
        "\n",
        "https://www.cnmv.es/Portal/verDoc.axd?t={7639c862-88da-4f0f-8675-6819026e583f}\n",
        "Completed"
       ]
      },
      {
       "output_type": "stream",
       "stream": "stdout",
       "text": [
        "\n",
        "https://www.cnmv.es/Portal/verDoc.axd?t={23306760-061e-4e80-81ff-48efaf618d38}\n",
        "Completed"
       ]
      },
      {
       "output_type": "stream",
       "stream": "stdout",
       "text": [
        "\n",
        "https://www.cnmv.es/Portal/verDoc.axd?t={e5305091-9b03-4722-a310-45b2700c03e5}\n",
        "Completed"
       ]
      },
      {
       "output_type": "stream",
       "stream": "stdout",
       "text": [
        "\n",
        "https://www.cnmv.es/Portal/verDoc.axd?t={6fd44988-0909-4ae4-ba70-919743e9c042}\n",
        "Completed"
       ]
      },
      {
       "output_type": "stream",
       "stream": "stdout",
       "text": [
        "\n",
        "https://www.cnmv.es/Portal/verDoc.axd?t={de75eedc-7d7c-4177-a917-3dfe80f53502}"
       ]
      },
      {
       "output_type": "stream",
       "stream": "stdout",
       "text": [
        "\n",
        "Completed"
       ]
      },
      {
       "output_type": "stream",
       "stream": "stdout",
       "text": [
        "\n",
        "https://www.cnmv.es/Portal/verDoc.axd?t={41bff2d2-184e-4ff1-bf91-fad765157da8}\n",
        "Completed"
       ]
      },
      {
       "output_type": "stream",
       "stream": "stdout",
       "text": [
        "\n",
        "https://www.cnmv.es/Portal/verDoc.axd?t={8e26ec1f-2dc3-4c9d-a29f-67c7a0fcca05}\n",
        "Completed"
       ]
      },
      {
       "output_type": "stream",
       "stream": "stdout",
       "text": [
        "\n",
        "https://www.cnmv.es/Portal/verDoc.axd?t={2f55d635-2c3e-48b7-96b8-090d2b79a6e7}\n",
        "Completed"
       ]
      },
      {
       "output_type": "stream",
       "stream": "stdout",
       "text": [
        "\n",
        "https://www.cnmv.es/Portal/verDoc.axd?t={5831d8e2-20dd-42df-9344-7430506c60b9}\n",
        "Completed"
       ]
      },
      {
       "output_type": "stream",
       "stream": "stdout",
       "text": [
        "\n",
        "https://www.cnmv.es/Portal/verDoc.axd?t={f47eb7b6-c59f-4862-ade2-c50b77fbea88}\n",
        "Completed"
       ]
      },
      {
       "output_type": "stream",
       "stream": "stdout",
       "text": [
        "\n",
        "https://www.cnmv.es/Portal/verDoc.axd?t={63ce9d7b-7a20-4b17-891a-8dfa7202085d}\n",
        "Completed"
       ]
      },
      {
       "output_type": "stream",
       "stream": "stdout",
       "text": [
        "\n",
        "https://www.cnmv.es/Portal/verDoc.axd?t={b907737a-6e6b-4048-ba9a-609f7ab3ed53}\n",
        "Completed"
       ]
      },
      {
       "output_type": "stream",
       "stream": "stdout",
       "text": [
        "\n",
        "https://www.cnmv.es/Portal/verDoc.axd?t={87a1c14a-60a8-43a3-b905-5ee448c07d0d}\n",
        "Completed"
       ]
      },
      {
       "output_type": "stream",
       "stream": "stdout",
       "text": [
        "\n",
        "https://www.cnmv.es/Portal/verDoc.axd?t={eace763b-91a7-4fdd-9549-0be03e8ceda9}\n",
        "Completed"
       ]
      },
      {
       "output_type": "stream",
       "stream": "stdout",
       "text": [
        "\n",
        "https://www.cnmv.es/Portal/verDoc.axd?t={84d2d317-db28-43cf-a368-eeb395398b61}\n",
        "Completed"
       ]
      },
      {
       "output_type": "stream",
       "stream": "stdout",
       "text": [
        "\n",
        "https://www.cnmv.es/Portal/verDoc.axd?t={da5a8f4c-de62-4190-a1b2-476cd81d03f6}\n",
        "Completed"
       ]
      },
      {
       "output_type": "stream",
       "stream": "stdout",
       "text": [
        "\n",
        "https://www.cnmv.es/Portal/verDoc.axd?t={9ff8fbb8-2724-47a7-98e3-8b1b9920c1dd}\n",
        "Completed"
       ]
      },
      {
       "output_type": "stream",
       "stream": "stdout",
       "text": [
        "\n",
        "https://www.cnmv.es/Portal/verDoc.axd?t={11624872-81e4-4760-9ce2-3265cf99095b}\n",
        "Completed"
       ]
      },
      {
       "output_type": "stream",
       "stream": "stdout",
       "text": [
        "\n",
        "https://www.cnmv.es/Portal/verDoc.axd?t={d623d37e-f505-451f-b54b-d4e89679e47f}\n",
        "Completed"
       ]
      },
      {
       "output_type": "stream",
       "stream": "stdout",
       "text": [
        "\n",
        "https://www.cnmv.es/Portal/verDoc.axd?t={c2a864c2-2197-4362-a971-c82780b295e0}"
       ]
      },
      {
       "output_type": "stream",
       "stream": "stdout",
       "text": [
        "\n",
        "Completed"
       ]
      },
      {
       "output_type": "stream",
       "stream": "stdout",
       "text": [
        "\n",
        "https://www.cnmv.es/Portal/verDoc.axd?t={ccd09655-77e8-4b6e-8ba0-c9d56f047062}\n",
        "Completed"
       ]
      },
      {
       "output_type": "stream",
       "stream": "stdout",
       "text": [
        "\n",
        "https://www.cnmv.es/Portal/verDoc.axd?t={2b308b2f-d085-4dae-b61a-04876c8f0997}\n",
        "Completed"
       ]
      },
      {
       "output_type": "stream",
       "stream": "stdout",
       "text": [
        "\n",
        "https://www.cnmv.es/Portal/verDoc.axd?t={55da18d7-803f-4e7d-8f26-337bee821de6}\n",
        "Completed"
       ]
      },
      {
       "output_type": "stream",
       "stream": "stdout",
       "text": [
        "\n",
        "https://www.cnmv.es/Portal/verDoc.axd?t={09d92abd-208e-4735-a9dc-b0808740f399}\n",
        "Completed"
       ]
      },
      {
       "output_type": "stream",
       "stream": "stdout",
       "text": [
        "\n",
        "https://www.cnmv.es/Portal/verDoc.axd?t={f147fee5-6350-4c9e-8108-386aa512887b}\n",
        "Completed"
       ]
      },
      {
       "output_type": "stream",
       "stream": "stdout",
       "text": [
        "\n",
        "https://www.cnmv.es/Portal/verDoc.axd?t={99965740-eead-4c32-94b3-d01450fa41ad}\n",
        "Completed"
       ]
      },
      {
       "output_type": "stream",
       "stream": "stdout",
       "text": [
        "\n",
        "https://www.cnmv.es/Portal/verDoc.axd?t={1e837472-aa0a-4a4b-9b3a-c54f99a8eba8}\n",
        "Completed"
       ]
      },
      {
       "output_type": "stream",
       "stream": "stdout",
       "text": [
        "\n",
        "https://www.cnmv.es/Portal/verDoc.axd?t={ea131838-f0af-4a51-980d-330f1ec1a9e0}\n",
        "Completed"
       ]
      },
      {
       "output_type": "stream",
       "stream": "stdout",
       "text": [
        "\n",
        "https://www.cnmv.es/Portal/verDoc.axd?t={6fd2834c-3a79-4122-bfff-f259e9e917e8}\n",
        "Completed"
       ]
      },
      {
       "output_type": "stream",
       "stream": "stdout",
       "text": [
        "\n",
        "https://www.cnmv.es/Portal/verDoc.axd?t={38aede5b-ba7d-47c5-a1fa-c6556a2ea1c0}\n",
        "Completed"
       ]
      },
      {
       "output_type": "stream",
       "stream": "stdout",
       "text": [
        "\n",
        "https://www.cnmv.es/Portal/verDoc.axd?t={e11c14e0-5c43-4923-a3cc-ca2f8db0a16e}\n",
        "Completed"
       ]
      },
      {
       "output_type": "stream",
       "stream": "stdout",
       "text": [
        "\n",
        "https://www.cnmv.es/Portal/verDoc.axd?t={0238b9bf-04fd-45db-9099-0b5fd07e84bb}\n",
        "Completed"
       ]
      },
      {
       "output_type": "stream",
       "stream": "stdout",
       "text": [
        "\n",
        "https://www.cnmv.es/Portal/verDoc.axd?t={a2f0d989-860e-4dda-8a3c-798c63d38fe2}\n",
        "Completed"
       ]
      },
      {
       "output_type": "stream",
       "stream": "stdout",
       "text": [
        "\n",
        "https://www.cnmv.es/Portal/verDoc.axd?t={c9dde95d-4c4b-48dd-85fe-64dd48947ca6}\n",
        "Completed"
       ]
      },
      {
       "output_type": "stream",
       "stream": "stdout",
       "text": [
        "\n",
        "https://www.cnmv.es/Portal/verDoc.axd?t={d3a3a395-e1ad-4f77-8e31-1617bfdfbb0c}"
       ]
      },
      {
       "output_type": "stream",
       "stream": "stdout",
       "text": [
        "\n",
        "Completed"
       ]
      },
      {
       "output_type": "stream",
       "stream": "stdout",
       "text": [
        "\n",
        "https://www.cnmv.es/Portal/verDoc.axd?t={0e5c9f32-d334-4f20-9d95-6b592b84db7f}\n",
        "Completed"
       ]
      },
      {
       "output_type": "stream",
       "stream": "stdout",
       "text": [
        "\n",
        "https://www.cnmv.es/Portal/verDoc.axd?t={ea7fe1d0-301c-480f-8392-a0d8790ba15a}\n",
        "Completed"
       ]
      },
      {
       "output_type": "stream",
       "stream": "stdout",
       "text": [
        "\n",
        "https://www.cnmv.es/Portal/verDoc.axd?t={d84ce8ce-b8c2-4e1f-b3a6-3ff86d46f3c5}\n",
        "Completed"
       ]
      },
      {
       "output_type": "stream",
       "stream": "stdout",
       "text": [
        "\n",
        "https://www.cnmv.es/Portal/verDoc.axd?t={74245015-ba53-4ea4-b5a5-5a750a56532c}\n",
        "Completed"
       ]
      },
      {
       "output_type": "stream",
       "stream": "stdout",
       "text": [
        "\n",
        "https://www.cnmv.es/Portal/verDoc.axd?t={798ccf34-c482-44c5-88dc-4478855eb25b}\n",
        "Completed"
       ]
      },
      {
       "output_type": "stream",
       "stream": "stdout",
       "text": [
        "\n",
        "https://www.cnmv.es/Portal/verDoc.axd?t={2e40d1ec-d662-4272-81d6-1ebc40643cfc}\n",
        "Completed"
       ]
      },
      {
       "output_type": "stream",
       "stream": "stdout",
       "text": [
        "\n",
        "https://www.cnmv.es/Portal/verDoc.axd?t={eef85829-73c4-41cd-8be3-79562598ee6b}\n",
        "Completed"
       ]
      },
      {
       "output_type": "stream",
       "stream": "stdout",
       "text": [
        "\n",
        "https://www.cnmv.es/Portal/verDoc.axd?t={43ec0a32-b6d2-49e9-bdc8-706cd6e11f44}\n",
        "Completed"
       ]
      },
      {
       "output_type": "stream",
       "stream": "stdout",
       "text": [
        "\n",
        "https://www.cnmv.es/Portal/verDoc.axd?t={27bdd6c1-89d8-4282-8f8b-b279f0f97ba2}\n",
        "Completed"
       ]
      },
      {
       "output_type": "stream",
       "stream": "stdout",
       "text": [
        "\n",
        "https://www.cnmv.es/Portal/verDoc.axd?t={6cc62ee6-b984-4e54-971e-687ffeb411e2}\n",
        "Completed"
       ]
      },
      {
       "output_type": "stream",
       "stream": "stdout",
       "text": [
        "\n",
        "https://www.cnmv.es/Portal/verDoc.axd?t={cc2517c3-caa7-4816-b18e-94cbbc58b608}\n",
        "Completed"
       ]
      },
      {
       "output_type": "stream",
       "stream": "stdout",
       "text": [
        "\n",
        "https://www.cnmv.es/Portal/verDoc.axd?t={41a0991a-9d38-4326-8cda-829e4c605126}\n",
        "Completed"
       ]
      },
      {
       "output_type": "stream",
       "stream": "stdout",
       "text": [
        "\n",
        "https://www.cnmv.es/Portal/verDoc.axd?t={5e417932-221c-4674-85d8-cd0341cbc872}\n",
        "Completed"
       ]
      },
      {
       "output_type": "stream",
       "stream": "stdout",
       "text": [
        "\n",
        "https://www.cnmv.es/Portal/verDoc.axd?t={9625d550-952f-43a7-b49b-e0a2e7ae60ad}\n",
        "Completed"
       ]
      },
      {
       "output_type": "stream",
       "stream": "stdout",
       "text": [
        "\n",
        "https://www.cnmv.es/Portal/verDoc.axd?t={bf09ad0f-b90f-46af-8eea-7c471711948c}"
       ]
      },
      {
       "output_type": "stream",
       "stream": "stdout",
       "text": [
        "\n",
        "Completed"
       ]
      },
      {
       "output_type": "stream",
       "stream": "stdout",
       "text": [
        "\n",
        "https://www.cnmv.es/Portal/verDoc.axd?t={4f7d77e3-b3a0-4c1e-919c-938a089de23a}\n",
        "Completed"
       ]
      },
      {
       "output_type": "stream",
       "stream": "stdout",
       "text": [
        "\n",
        "https://www.cnmv.es/Portal/verDoc.axd?t={b2fc5ee4-cbd3-4be4-a6e5-112032fbf399}\n",
        "Completed"
       ]
      },
      {
       "output_type": "stream",
       "stream": "stdout",
       "text": [
        "\n",
        "https://www.cnmv.es/Portal/verDoc.axd?t={caf90829-d409-4131-b1cf-31fc80387cce}\n",
        "Completed"
       ]
      },
      {
       "output_type": "stream",
       "stream": "stdout",
       "text": [
        "\n",
        "https://www.cnmv.es/Portal/verDoc.axd?t={5e079085-c6a2-44ed-9d44-5cfbe6fc89f2}\n",
        "Completed"
       ]
      },
      {
       "output_type": "stream",
       "stream": "stdout",
       "text": [
        "\n",
        "https://www.cnmv.es/Portal/verDoc.axd?t={9f5facde-0fca-42fa-96c2-69ab1ae4dde4}\n",
        "Completed"
       ]
      },
      {
       "output_type": "stream",
       "stream": "stdout",
       "text": [
        "\n",
        "https://www.cnmv.es/Portal/verDoc.axd?t={55fe49b5-003e-49ff-ae73-e0177994d5ad}\n",
        "Completed"
       ]
      },
      {
       "output_type": "stream",
       "stream": "stdout",
       "text": [
        "\n",
        "https://www.cnmv.es/Portal/verDoc.axd?t={def17218-51f1-417a-9abf-b739bc973bb7}\n",
        "Completed"
       ]
      },
      {
       "output_type": "stream",
       "stream": "stdout",
       "text": [
        "\n",
        "https://www.cnmv.es/Portal/verDoc.axd?t={473880f4-0d62-498c-a2f6-efcb36b189d1}\n",
        "Completed"
       ]
      },
      {
       "output_type": "stream",
       "stream": "stdout",
       "text": [
        "\n",
        "https://www.cnmv.es/Portal/verDoc.axd?t={ed72900d-fce4-4221-ae1b-8efb8a30e96a}\n",
        "Completed"
       ]
      },
      {
       "output_type": "stream",
       "stream": "stdout",
       "text": [
        "\n",
        "https://www.cnmv.es/Portal/verDoc.axd?t={e9ebc109-099a-4561-b09e-586a10ef607c}\n",
        "Completed"
       ]
      },
      {
       "output_type": "stream",
       "stream": "stdout",
       "text": [
        "\n",
        "https://www.cnmv.es/Portal/verDoc.axd?t={bbe69dd4-af50-4b6a-94e8-6d73e140316e}\n",
        "Completed"
       ]
      },
      {
       "output_type": "stream",
       "stream": "stdout",
       "text": [
        "\n",
        "https://www.cnmv.es/Portal/verDoc.axd?t={b0638da7-4ff9-40cd-a675-2c9f5ed5fbe2}\n",
        "Completed"
       ]
      },
      {
       "output_type": "stream",
       "stream": "stdout",
       "text": [
        "\n",
        "https://www.cnmv.es/Portal/verDoc.axd?t={90abd8a9-84d0-41e3-a654-91524ae3d8d8}\n",
        "Completed"
       ]
      },
      {
       "output_type": "stream",
       "stream": "stdout",
       "text": [
        "\n",
        "https://www.cnmv.es/Portal/verDoc.axd?t={6943cc0c-a870-40bb-bde4-7d98fbf3ddee}\n",
        "Completed"
       ]
      },
      {
       "output_type": "stream",
       "stream": "stdout",
       "text": [
        "\n"
       ]
      }
     ],
     "prompt_number": 3
    },
    {
     "cell_type": "code",
     "collapsed": false,
     "input": [
      "def ConvertPDFToText(currentPDF):\n",
      "    pdfData = currentPDF.read()\n",
      "\n",
      "    tf = tempfile.NamedTemporaryFile()\n",
      "    tf.write(pdfData)\n",
      "    tf.seek(0)\n",
      "\n",
      "    outputTf = tempfile.NamedTemporaryFile()\n",
      "    \n",
      "\n",
      "    if (len(pdfData) > 0) :\n",
      "        out, err = subprocess.Popen([\"pdftotext\", \"-layout\", tf.name, outputTf.name ]).communicate()\n",
      "        return outputTf.read()\n",
      "    else :\n",
      "        return None"
     ],
     "language": "python",
     "metadata": {},
     "outputs": [],
     "prompt_number": 4
    },
    {
     "cell_type": "heading",
     "level": 4,
     "metadata": {},
     "source": [
      "Tabla de Retribuciones"
     ]
    },
    {
     "cell_type": "code",
     "collapsed": false,
     "input": [
      "def convert(fname, pages=None):\n",
      "    if not pages:\n",
      "        pagenums = set()\n",
      "    else:\n",
      "        pagenums = set(pages)\n",
      "\n",
      "    output = StringIO()\n",
      "    manager = PDFResourceManager()\n",
      "    converter = TextConverter(manager, output, laparams=LAParams())\n",
      "    interpreter = PDFPageInterpreter(manager, converter)\n",
      "\n",
      "    infile = open(fname, 'rb')\n",
      "    \n",
      "    for page in PDFPage.get_pages(infile, pagenums):\n",
      "        interpreter.process_page(page)\n",
      "    \n",
      "    infile.close()\n",
      "    converter.close()\n",
      "    text = output.getvalue()\n",
      "    output.close\n",
      "    return text\n"
     ],
     "language": "python",
     "metadata": {},
     "outputs": [],
     "prompt_number": 5
    },
    {
     "cell_type": "code",
     "collapsed": false,
     "input": [
      "def obtenNombreEmpresa(file_prueba):\n",
      "    inputpdf = PdfFileReader(open(file_prueba, \"rb\"))\n",
      "    encontrado1 = False\n",
      "    encontrado2 = False\n",
      "    salir = False\n",
      "    nombre_empresa= \"\"\n",
      "    for i in range (0,3):\n",
      "        texto = convert(file_prueba,[i])\n",
      "        texto = texto.split('\\n')\n",
      "        \n",
      "        for line in texto:\n",
      "            if encontrado1 and encontrado2:\n",
      "                nombre_empresa = line\n",
      "                \n",
      "                salir = True\n",
      "                break\n",
      "            if encontrado1:\n",
      "                encontrado2= True\n",
      "            if re.search('DENOMINACI(.)+N SOCIAL',line):\n",
      "                encontrado1 = True\n",
      "        if salir:\n",
      "            break\n",
      "    return nombre_empresa\n",
      "\n"
     ],
     "language": "python",
     "metadata": {},
     "outputs": [],
     "prompt_number": 6
    },
    {
     "cell_type": "code",
     "collapsed": false,
     "input": [
      "# Esta funci\u00f3n busca en el pdf la expresi\u00f3n regular que coincide con el inicio de la tabla\n",
      "# que necesitamos y crea un txt con la misma.\n",
      "\n",
      "def obten_txt_total_retribuciones(file_prueba,nombre_empresa):\n",
      "    \n",
      "    inputpdf = PdfFileReader(open(file_prueba, \"rb\"))\n",
      "    continua = False\n",
      "    \n",
      "    \n",
      "    num_pages = inputpdf.getNumPages()\n",
      "    \n",
      "    for i in range (7,num_pages-1):\n",
      "        texto = convert(file_prueba,[i])\n",
      "        \n",
      "        if re.search ('Resumen de las retribuciones \\(en miles de (.)+\\)',texto):\n",
      "            output = PdfFileWriter()\n",
      "\n",
      "            if(re.search('ejercicio',texto)):\n",
      "\n",
      "                output.addPage(inputpdf.getPage(i))\n",
      "                if not re.search('Sistemas de retribuci',texto):\n",
      "                    tabla =convert(file_prueba,[i+1])\n",
      "                    output.addPage(inputpdf.getPage(i+1))\n",
      "\n",
      "            else:\n",
      "                tabla =convert(file_prueba,[i+1])\n",
      "                output.addPage(inputpdf.getPage(i+1))\n",
      "\n",
      "                if not re.search('Sistemas de retribuci',texto):\n",
      "                    tabla =convert(file_prueba,[i+2])\n",
      "                    output.addPage(inputpdf.getPage(i+2))\n",
      "            \n",
      "                        \n",
      "            # creo un pdf con el contenido de la tabla que buscamos \u00fanicamente. \n",
      "            # En general guardo 2 p\u00e1ginas, por lo que he llamado 2paginas a la carpta\n",
      "            nombre_fichero = \"pdfs/2paginas/\" +  nombre_empresa + \".pdf\"\n",
      "            print output\n",
      "            print nombre_fichero\n",
      "            \n",
      "            with open(nombre_fichero, \"wb\") as outputStream:\n",
      "                output.write(outputStream)\n",
      "            \n",
      "            # ahora abro el documento que acabo de guardar, porque quiero crear un txt \n",
      "            # con el contenido\n",
      "            mi_pdf = open(nombre_fichero)    \n",
      "            mi_txt = ConvertPDFToText(mi_pdf)\n",
      "            mi_pdf.close()\n",
      "            #y lo devuelvo\n",
      "            return mi_txt\n",
      "            break\n",
      "       \n",
      "    \n",
      "\n"
     ],
     "language": "python",
     "metadata": {},
     "outputs": [],
     "prompt_number": 7
    },
    {
     "cell_type": "code",
     "collapsed": false,
     "input": [
      "pdfs = glob.glob('pdfs/total/*.pdf')\n",
      "\n",
      "##itero sobre los pdfs\n",
      "#pdfs = ['pdfs/total/document_193.pdf']\n",
      "\n",
      "for pdf in pdfs:\n",
      "\n",
      "    \n",
      "    try:\n",
      "        nombre_empresa = obtenNombreEmpresa(pdf)\n",
      "        print nombre_empresa\n",
      "        print pdf\n",
      "        texto= obten_txt_total_retribuciones(pdf,nombre_empresa)\n",
      "\n",
      "        #print \"Bien:\", nombre_empresa\n",
      "        txt_guardar = 'pdfs/2paginas/' + nombre_empresa + \".txt\"\n",
      "        text_file = open(txt_guardar, \"wb\")\n",
      "        text_file.write(texto)\n",
      "        text_file.close()\n",
      "    except Exception,e:\n",
      "        #Dan error de lectura, as\u00ed que le cambio los permisos con un comando de linux\n",
      "        nombre_mover = pdf + \".old\"\n",
      "        mvcommand = ['mv', pdf, nombre_mover]\n",
      "        gsProc = subprocess.call(mvcommand)\n",
      "        \n",
      "        print \"MAL\"\n",
      "        print \"pdf: \", pdf\n",
      "        print \"error:\", str(e)\n",
      "        \n",
      "\n",
      "print \"FIN\"\n",
      "\n",
      "\n",
      "\n",
      "\n",
      "\n"
     ],
     "language": "python",
     "metadata": {},
     "outputs": [
      {
       "output_type": "stream",
       "stream": "stdout",
       "text": [
        "NH HOTEL GROUP S.A.\n",
        "<pyPdf.pdf.PdfFileWriter object at 0x7ff41f062690>"
       ]
      },
      {
       "output_type": "stream",
       "stream": "stdout",
       "text": [
        "\n",
        "pdfs/2paginas/NH HOTEL GROUP S.A..pdf\n",
        "ABENGOA, S.A."
       ]
      },
      {
       "output_type": "stream",
       "stream": "stdout",
       "text": [
        "\n",
        "<pyPdf.pdf.PdfFileWriter object at 0x7ff41ec1f790>"
       ]
      },
      {
       "output_type": "stream",
       "stream": "stdout",
       "text": [
        "\n",
        "pdfs/2paginas/ABENGOA, S.A..pdf\n",
        "hola"
       ]
      },
      {
       "output_type": "stream",
       "stream": "stdout",
       "text": [
        "\n",
        "pdfs/total/document_95.pdf\n",
        "pdfs/total/document_95.pdf.old\n",
        "MAL\n",
        "pdf:  pdfs/total/document_95.pdf\n",
        "error: Text extraction is not allowed: <open file 'pdfs/total/document_95.pdf', mode 'rb' at 0x7ff41e56a780>\n",
        "URBAR INGENIEROS, S.A."
       ]
      },
      {
       "output_type": "stream",
       "stream": "stdout",
       "text": [
        "\n",
        "<pyPdf.pdf.PdfFileWriter object at 0x7ff41e5f2990>"
       ]
      },
      {
       "output_type": "stream",
       "stream": "stdout",
       "text": [
        "\n",
        "pdfs/2paginas/URBAR INGENIEROS, S.A..pdf\n",
        "INMOBILIARIA COLONIAL, S.A."
       ]
      },
      {
       "output_type": "stream",
       "stream": "stdout",
       "text": [
        "\n",
        "<pyPdf.pdf.PdfFileWriter object at 0x7ff41f638c90>"
       ]
      },
      {
       "output_type": "stream",
       "stream": "stdout",
       "text": [
        "\n",
        "pdfs/2paginas/INMOBILIARIA COLONIAL, S.A..pdf\n",
        "COMPA\u00d1IA ESPA\u00d1OLA DE VIVIENDAS EN ALQUILER, S.A."
       ]
      },
      {
       "output_type": "stream",
       "stream": "stdout",
       "text": [
        "\n",
        "<pyPdf.pdf.PdfFileWriter object at 0x7ff41f33b310>"
       ]
      },
      {
       "output_type": "stream",
       "stream": "stdout",
       "text": [
        "\n",
        "pdfs/2paginas/COMPA\u00d1IA ESPA\u00d1OLA DE VIVIENDAS EN ALQUILER, S.A..pdf\n",
        "hola"
       ]
      },
      {
       "output_type": "stream",
       "stream": "stdout",
       "text": [
        "\n",
        "pdfs/total/document_99.pdf\n",
        "pdfs/total/document_99.pdf.old\n",
        "MAL\n",
        "pdf:  pdfs/total/document_99.pdf\n",
        "error: Text extraction is not allowed: <open file 'pdfs/total/document_99.pdf', mode 'rb' at 0x7ff41e56a810>\n",
        "ATRESMEDIA CORPORACION DE MEDIOS DE COMUNICACION, S.A."
       ]
      },
      {
       "output_type": "stream",
       "stream": "stdout",
       "text": [
        "\n",
        "<pyPdf.pdf.PdfFileWriter object at 0x7ff41ed18f10>"
       ]
      },
      {
       "output_type": "stream",
       "stream": "stdout",
       "text": [
        "\n",
        "pdfs/2paginas/ATRESMEDIA CORPORACION DE MEDIOS DE COMUNICACION, S.A..pdf\n",
        "BIOSEARCH, S.A."
       ]
      },
      {
       "output_type": "stream",
       "stream": "stdout",
       "text": [
        "\n",
        "<pyPdf.pdf.PdfFileWriter object at 0x7ff41e6f5990>"
       ]
      },
      {
       "output_type": "stream",
       "stream": "stdout",
       "text": [
        "\n",
        "pdfs/2paginas/BIOSEARCH, S.A..pdf\n",
        "INYPSA INFORMES Y PROYECTOS, S.A."
       ]
      },
      {
       "output_type": "stream",
       "stream": "stdout",
       "text": [
        "\n",
        "<pyPdf.pdf.PdfFileWriter object at 0x7ff41f664990>"
       ]
      },
      {
       "output_type": "stream",
       "stream": "stdout",
       "text": [
        "\n",
        "pdfs/2paginas/INYPSA INFORMES Y PROYECTOS, S.A..pdf\n",
        "ZARDOYA OTIS, S.A."
       ]
      },
      {
       "output_type": "stream",
       "stream": "stdout",
       "text": [
        "\n",
        "<pyPdf.pdf.PdfFileWriter object at 0x7ff41e8aef90>"
       ]
      },
      {
       "output_type": "stream",
       "stream": "stdout",
       "text": [
        "\n",
        "pdfs/2paginas/ZARDOYA OTIS, S.A..pdf\n",
        "ELECNOR, S.A."
       ]
      },
      {
       "output_type": "stream",
       "stream": "stdout",
       "text": [
        "\n",
        "<pyPdf.pdf.PdfFileWriter object at 0x7ff41eed4550>"
       ]
      },
      {
       "output_type": "stream",
       "stream": "stdout",
       "text": [
        "\n",
        "pdfs/2paginas/ELECNOR, S.A..pdf\n",
        "VOCENTO, S.A."
       ]
      },
      {
       "output_type": "stream",
       "stream": "stdout",
       "text": [
        "\n",
        "<pyPdf.pdf.PdfFileWriter object at 0x7ff41f28d310>"
       ]
      },
      {
       "output_type": "stream",
       "stream": "stdout",
       "text": [
        "\n",
        "pdfs/2paginas/VOCENTO, S.A..pdf\n",
        "AYCO GRUPO INMOBILIARIO, S.A."
       ]
      },
      {
       "output_type": "stream",
       "stream": "stdout",
       "text": [
        "\n",
        "<pyPdf.pdf.PdfFileWriter object at 0x7ff41f331110>"
       ]
      },
      {
       "output_type": "stream",
       "stream": "stdout",
       "text": [
        "\n",
        "pdfs/2paginas/AYCO GRUPO INMOBILIARIO, S.A..pdf\n",
        "LAR ESPA\u00d1A REAL ESTATE SOCIMI, S.A."
       ]
      },
      {
       "output_type": "stream",
       "stream": "stdout",
       "text": [
        "\n",
        "<pyPdf.pdf.PdfFileWriter object at 0x7ff41f331650>"
       ]
      },
      {
       "output_type": "stream",
       "stream": "stdout",
       "text": [
        "\n",
        "pdfs/2paginas/LAR ESPA\u00d1A REAL ESTATE SOCIMI, S.A..pdf\n",
        "BODEGAS BILBAINAS, S.A."
       ]
      },
      {
       "output_type": "stream",
       "stream": "stdout",
       "text": [
        "\n",
        "<pyPdf.pdf.PdfFileWriter object at 0x7ff41f430d50>"
       ]
      },
      {
       "output_type": "stream",
       "stream": "stdout",
       "text": [
        "\n",
        "pdfs/2paginas/BODEGAS BILBAINAS, S.A..pdf\n",
        "PESCANOVA, S.A."
       ]
      },
      {
       "output_type": "stream",
       "stream": "stdout",
       "text": [
        "\n",
        "<pyPdf.pdf.PdfFileWriter object at 0x7ff41f226110>"
       ]
      },
      {
       "output_type": "stream",
       "stream": "stdout",
       "text": [
        "\n",
        "pdfs/2paginas/PESCANOVA, S.A..pdf\n",
        "TUBOS REUNIDOS, S.A."
       ]
      },
      {
       "output_type": "stream",
       "stream": "stdout",
       "text": [
        "\n",
        "<pyPdf.pdf.PdfFileWriter object at 0x7ff41e6f5990>"
       ]
      },
      {
       "output_type": "stream",
       "stream": "stdout",
       "text": [
        "\n",
        "pdfs/2paginas/TUBOS REUNIDOS, S.A..pdf\n",
        "SOLARIA ENERGIA Y MEDIOAMBIENTE, S.A."
       ]
      },
      {
       "output_type": "stream",
       "stream": "stdout",
       "text": [
        "\n",
        "<pyPdf.pdf.PdfFileWriter object at 0x7ff41f1de290>"
       ]
      },
      {
       "output_type": "stream",
       "stream": "stdout",
       "text": [
        "\n",
        "pdfs/2paginas/SOLARIA ENERGIA Y MEDIOAMBIENTE, S.A..pdf\n",
        "INDUSTRIA DE DISE\u00d1O TEXTIL, S.A."
       ]
      },
      {
       "output_type": "stream",
       "stream": "stdout",
       "text": [
        "\n",
        "<pyPdf.pdf.PdfFileWriter object at 0x7ff41f1a2390>"
       ]
      },
      {
       "output_type": "stream",
       "stream": "stdout",
       "text": [
        "\n",
        "pdfs/2paginas/INDUSTRIA DE DISE\u00d1O TEXTIL, S.A..pdf\n",
        "ADVEO GROUP INTERNATIONAL, S.A."
       ]
      },
      {
       "output_type": "stream",
       "stream": "stdout",
       "text": [
        "\n",
        "<pyPdf.pdf.PdfFileWriter object at 0x7ff41f2265d0>"
       ]
      },
      {
       "output_type": "stream",
       "stream": "stdout",
       "text": [
        "\n",
        "pdfs/2paginas/ADVEO GROUP INTERNATIONAL, S.A..pdf\n",
        "CONSTRUCCIONES Y AUXILIAR DE FERROCARRILES, S.A"
       ]
      },
      {
       "output_type": "stream",
       "stream": "stdout",
       "text": [
        "\n",
        "<pyPdf.pdf.PdfFileWriter object at 0x7ff41f638650>"
       ]
      },
      {
       "output_type": "stream",
       "stream": "stdout",
       "text": [
        "\n",
        "pdfs/2paginas/CONSTRUCCIONES Y AUXILIAR DE FERROCARRILES, S.A.pdf\n",
        "NATRACEUTICAL, S.A."
       ]
      },
      {
       "output_type": "stream",
       "stream": "stdout",
       "text": [
        "\n",
        "<pyPdf.pdf.PdfFileWriter object at 0x7ff41f1a4190>"
       ]
      },
      {
       "output_type": "stream",
       "stream": "stdout",
       "text": [
        "\n",
        "pdfs/2paginas/NATRACEUTICAL, S.A..pdf\n",
        "RENTA CORPORACION REAL ESTATE, S.A."
       ]
      },
      {
       "output_type": "stream",
       "stream": "stdout",
       "text": [
        "\n",
        "<pyPdf.pdf.PdfFileWriter object at 0x7ff41e662ad0>"
       ]
      },
      {
       "output_type": "stream",
       "stream": "stdout",
       "text": [
        "\n",
        "pdfs/2paginas/RENTA CORPORACION REAL ESTATE, S.A..pdf\n",
        "MEDIASET ESPA\u00d1A COMUNICACION, S.A."
       ]
      },
      {
       "output_type": "stream",
       "stream": "stdout",
       "text": [
        "\n",
        "<pyPdf.pdf.PdfFileWriter object at 0x7ff41f5b1910>"
       ]
      },
      {
       "output_type": "stream",
       "stream": "stdout",
       "text": [
        "\n",
        "pdfs/2paginas/MEDIASET ESPA\u00d1A COMUNICACION, S.A..pdf\n",
        "CIE AUTOMOTIVE, S.A."
       ]
      },
      {
       "output_type": "stream",
       "stream": "stdout",
       "text": [
        "\n",
        "<pyPdf.pdf.PdfFileWriter object at 0x7ff41f5bf450>"
       ]
      },
      {
       "output_type": "stream",
       "stream": "stdout",
       "text": [
        "\n",
        "pdfs/2paginas/CIE AUTOMOTIVE, S.A..pdf\n",
        "SAINT CROIX HOLDING IMMOBILIER, SOCIMI, S.A."
       ]
      },
      {
       "output_type": "stream",
       "stream": "stdout",
       "text": [
        "\n",
        "<pyPdf.pdf.PdfFileWriter object at 0x7ff41f1cf050>"
       ]
      },
      {
       "output_type": "stream",
       "stream": "stdout",
       "text": [
        "\n",
        "pdfs/2paginas/SAINT CROIX HOLDING IMMOBILIER, SOCIMI, S.A..pdf\n",
        "UNION EUROPEA DE INVERSIONES, S.A."
       ]
      },
      {
       "output_type": "stream",
       "stream": "stdout",
       "text": [
        "\n",
        "<pyPdf.pdf.PdfFileWriter object at 0x7ff41f2ceb10>"
       ]
      },
      {
       "output_type": "stream",
       "stream": "stdout",
       "text": [
        "\n",
        "pdfs/2paginas/UNION EUROPEA DE INVERSIONES, S.A..pdf\n",
        "MAPFRE, S.A."
       ]
      },
      {
       "output_type": "stream",
       "stream": "stdout",
       "text": [
        "\n",
        "<pyPdf.pdf.PdfFileWriter object at 0x7ff41f0628d0>"
       ]
      },
      {
       "output_type": "stream",
       "stream": "stdout",
       "text": [
        "\n",
        "pdfs/2paginas/MAPFRE, S.A..pdf\n",
        "FERSA ENERGIAS RENOVABLES, S.A."
       ]
      },
      {
       "output_type": "stream",
       "stream": "stdout",
       "text": [
        "\n",
        "<pyPdf.pdf.PdfFileWriter object at 0x7ff41ff3bc10>"
       ]
      },
      {
       "output_type": "stream",
       "stream": "stdout",
       "text": [
        "\n",
        "pdfs/2paginas/FERSA ENERGIAS RENOVABLES, S.A..pdf\n",
        "ACCIONA, S.A."
       ]
      },
      {
       "output_type": "stream",
       "stream": "stdout",
       "text": [
        "\n",
        "<pyPdf.pdf.PdfFileWriter object at 0x7ff41f638690>"
       ]
      },
      {
       "output_type": "stream",
       "stream": "stdout",
       "text": [
        "\n",
        "pdfs/2paginas/ACCIONA, S.A..pdf\n",
        "JAZZTEL, PLC."
       ]
      },
      {
       "output_type": "stream",
       "stream": "stdout",
       "text": [
        "\n",
        "<pyPdf.pdf.PdfFileWriter object at 0x7ff41e662190>"
       ]
      },
      {
       "output_type": "stream",
       "stream": "stdout",
       "text": [
        "\n",
        "pdfs/2paginas/JAZZTEL, PLC..pdf\n",
        "DINAMIA CAPITAL PRIVADO, S.A., SCR"
       ]
      },
      {
       "output_type": "stream",
       "stream": "stdout",
       "text": [
        "\n",
        "<pyPdf.pdf.PdfFileWriter object at 0x7ff41ec1f5d0>"
       ]
      },
      {
       "output_type": "stream",
       "stream": "stdout",
       "text": [
        "\n",
        "pdfs/2paginas/DINAMIA CAPITAL PRIVADO, S.A., SCR.pdf\n",
        "TUBACEX, S.A."
       ]
      },
      {
       "output_type": "stream",
       "stream": "stdout",
       "text": [
        "\n",
        "<pyPdf.pdf.PdfFileWriter object at 0x7ff41ecbe210>"
       ]
      },
      {
       "output_type": "stream",
       "stream": "stdout",
       "text": [
        "\n",
        "pdfs/2paginas/TUBACEX, S.A..pdf\n",
        "DOGI INTERNATIONAL FABRICS SA"
       ]
      },
      {
       "output_type": "stream",
       "stream": "stdout",
       "text": [
        "\n",
        "<pyPdf.pdf.PdfFileWriter object at 0x7ff41eb8c150>"
       ]
      },
      {
       "output_type": "stream",
       "stream": "stdout",
       "text": [
        "\n",
        "pdfs/2paginas/DOGI INTERNATIONAL FABRICS SA.pdf\n",
        "UNION CATALANA DE VALORES, S.A."
       ]
      },
      {
       "output_type": "stream",
       "stream": "stdout",
       "text": [
        "\n",
        "<pyPdf.pdf.PdfFileWriter object at 0x7ff41ec1fc10>"
       ]
      },
      {
       "output_type": "stream",
       "stream": "stdout",
       "text": [
        "\n",
        "pdfs/2paginas/UNION CATALANA DE VALORES, S.A..pdf\n",
        "FERROVIAL, S.A."
       ]
      },
      {
       "output_type": "stream",
       "stream": "stdout",
       "text": [
        "\n",
        "<pyPdf.pdf.PdfFileWriter object at 0x7ff41f664790>"
       ]
      },
      {
       "output_type": "stream",
       "stream": "stdout",
       "text": [
        "\n",
        "pdfs/2paginas/FERROVIAL, S.A..pdf\n",
        "BODEGAS RIOJANAS, S.A."
       ]
      },
      {
       "output_type": "stream",
       "stream": "stdout",
       "text": [
        "\n",
        "<pyPdf.pdf.PdfFileWriter object at 0x7ff41ecbe610>"
       ]
      },
      {
       "output_type": "stream",
       "stream": "stdout",
       "text": [
        "\n",
        "pdfs/2paginas/BODEGAS RIOJANAS, S.A..pdf\n",
        "AXIA REAL ESTATE SOCIMI, S.A."
       ]
      },
      {
       "output_type": "stream",
       "stream": "stdout",
       "text": [
        "\n",
        "<pyPdf.pdf.PdfFileWriter object at 0x7ff41eb8c110>"
       ]
      },
      {
       "output_type": "stream",
       "stream": "stdout",
       "text": [
        "\n",
        "pdfs/2paginas/AXIA REAL ESTATE SOCIMI, S.A..pdf\n",
        "GRUPO CATALANA OCCIDENTE, S.A."
       ]
      },
      {
       "output_type": "stream",
       "stream": "stdout",
       "text": [
        "\n",
        "<pyPdf.pdf.PdfFileWriter object at 0x7ff41eabef10>"
       ]
      },
      {
       "output_type": "stream",
       "stream": "stdout",
       "text": [
        "\n",
        "pdfs/2paginas/GRUPO CATALANA OCCIDENTE, S.A..pdf\n",
        "CODERE, S.A."
       ]
      },
      {
       "output_type": "stream",
       "stream": "stdout",
       "text": [
        "\n",
        "<pyPdf.pdf.PdfFileWriter object at 0x7ff41e6e1550>"
       ]
      },
      {
       "output_type": "stream",
       "stream": "stdout",
       "text": [
        "\n",
        "pdfs/2paginas/CODERE, S.A..pdf\n",
        "REYAL URBIS, S.A."
       ]
      },
      {
       "output_type": "stream",
       "stream": "stdout",
       "text": [
        "\n",
        "<pyPdf.pdf.PdfFileWriter object at 0x7ff41e9d12d0>"
       ]
      },
      {
       "output_type": "stream",
       "stream": "stdout",
       "text": [
        "\n",
        "pdfs/2paginas/REYAL URBIS, S.A..pdf\n",
        "URBAS GRUPO FINANCIERO, S.A."
       ]
      },
      {
       "output_type": "stream",
       "stream": "stdout",
       "text": [
        "\n",
        "<pyPdf.pdf.PdfFileWriter object at 0x7ff41eb7fc90>"
       ]
      },
      {
       "output_type": "stream",
       "stream": "stdout",
       "text": [
        "\n",
        "pdfs/2paginas/URBAS GRUPO FINANCIERO, S.A..pdf\n",
        "ENCE ENERGIA Y CELULOSA, S.A."
       ]
      },
      {
       "output_type": "stream",
       "stream": "stdout",
       "text": [
        "\n",
        "<pyPdf.pdf.PdfFileWriter object at 0x7ff41e5eb350>"
       ]
      },
      {
       "output_type": "stream",
       "stream": "stdout",
       "text": [
        "\n",
        "pdfs/2paginas/ENCE ENERGIA Y CELULOSA, S.A..pdf\n",
        "URALITA, S.A."
       ]
      },
      {
       "output_type": "stream",
       "stream": "stdout",
       "text": [
        "\n",
        "<pyPdf.pdf.PdfFileWriter object at 0x7ff41ed18a50>"
       ]
      },
      {
       "output_type": "stream",
       "stream": "stdout",
       "text": [
        "\n",
        "pdfs/2paginas/URALITA, S.A..pdf\n",
        "FOMENTO DE CONSTRUCCIONES Y CONTRATAS, S.A."
       ]
      },
      {
       "output_type": "stream",
       "stream": "stdout",
       "text": [
        "\n",
        "<pyPdf.pdf.PdfFileWriter object at 0x7ff41ff62910>"
       ]
      },
      {
       "output_type": "stream",
       "stream": "stdout",
       "text": [
        "\n",
        "pdfs/2paginas/FOMENTO DE CONSTRUCCIONES Y CONTRATAS, S.A..pdf\n",
        "NYESA VALORES CORPORACION, S.A."
       ]
      },
      {
       "output_type": "stream",
       "stream": "stdout",
       "text": [
        "\n",
        "<pyPdf.pdf.PdfFileWriter object at 0x7ff41ed36290>"
       ]
      },
      {
       "output_type": "stream",
       "stream": "stdout",
       "text": [
        "\n",
        "pdfs/2paginas/NYESA VALORES CORPORACION, S.A..pdf\n",
        "COMPA\u00d1IA DE INVERSIONES MOBILIARIAS BARCINO, S.A."
       ]
      },
      {
       "output_type": "stream",
       "stream": "stdout",
       "text": [
        "\n",
        "<pyPdf.pdf.PdfFileWriter object at 0x7ff41ecbe390>"
       ]
      },
      {
       "output_type": "stream",
       "stream": "stdout",
       "text": [
        "\n",
        "pdfs/2paginas/COMPA\u00d1IA DE INVERSIONES MOBILIARIAS BARCINO, S.A..pdf\n",
        "RED ELECTRICA CORPORACION, S.A."
       ]
      },
      {
       "output_type": "stream",
       "stream": "stdout",
       "text": [
        "\n",
        "<pyPdf.pdf.PdfFileWriter object at 0x7ff41f2ceed0>"
       ]
      },
      {
       "output_type": "stream",
       "stream": "stdout",
       "text": [
        "\n",
        "pdfs/2paginas/RED ELECTRICA CORPORACION, S.A..pdf\n",
        "CORPORACION FINANCIERA ALBA, S.A."
       ]
      },
      {
       "output_type": "stream",
       "stream": "stdout",
       "text": [
        "\n",
        "<pyPdf.pdf.PdfFileWriter object at 0x7ff41e8ae210>"
       ]
      },
      {
       "output_type": "stream",
       "stream": "stdout",
       "text": [
        "\n",
        "pdfs/2paginas/CORPORACION FINANCIERA ALBA, S.A..pdf\n",
        "CLINICA BAVIERA, S.A."
       ]
      },
      {
       "output_type": "stream",
       "stream": "stdout",
       "text": [
        "\n",
        "<pyPdf.pdf.PdfFileWriter object at 0x7ff41efed410>"
       ]
      },
      {
       "output_type": "stream",
       "stream": "stdout",
       "text": [
        "\n",
        "pdfs/2paginas/CLINICA BAVIERA, S.A..pdf\n",
        "INMOBILIARIA DEL SUR, S.A."
       ]
      },
      {
       "output_type": "stream",
       "stream": "stdout",
       "text": [
        "\n",
        "<pyPdf.pdf.PdfFileWriter object at 0x7ff41f430c50>"
       ]
      },
      {
       "output_type": "stream",
       "stream": "stdout",
       "text": [
        "\n",
        "pdfs/2paginas/INMOBILIARIA DEL SUR, S.A..pdf\n",
        "hola"
       ]
      },
      {
       "output_type": "stream",
       "stream": "stdout",
       "text": [
        "\n",
        "pdfs/total/document_51.pdf\n",
        "pdfs/total/document_51.pdf.old\n",
        "MAL\n",
        "pdf:  pdfs/total/document_51.pdf\n",
        "error: Text extraction is not allowed: <open file 'pdfs/total/document_51.pdf', mode 'rb' at 0x7ff41e56a9c0>\n",
        "ERCROS, S.A."
       ]
      },
      {
       "output_type": "stream",
       "stream": "stdout",
       "text": [
        "\n",
        "<pyPdf.pdf.PdfFileWriter object at 0x7ff41f281890>"
       ]
      },
      {
       "output_type": "stream",
       "stream": "stdout",
       "text": [
        "\n",
        "pdfs/2paginas/ERCROS, S.A..pdf\n",
        "LIBERTAS 7, S.A."
       ]
      },
      {
       "output_type": "stream",
       "stream": "stdout",
       "text": [
        "\n",
        "<pyPdf.pdf.PdfFileWriter object at 0x7ff41f3705d0>"
       ]
      },
      {
       "output_type": "stream",
       "stream": "stdout",
       "text": [
        "\n",
        "pdfs/2paginas/LIBERTAS 7, S.A..pdf\n",
        "FUNESPA\u00d1A, S.A."
       ]
      },
      {
       "output_type": "stream",
       "stream": "stdout",
       "text": [
        "\n",
        "<pyPdf.pdf.PdfFileWriter object at 0x7ff41ec1f1d0>"
       ]
      },
      {
       "output_type": "stream",
       "stream": "stdout",
       "text": [
        "\n",
        "pdfs/2paginas/FUNESPA\u00d1A, S.A..pdf\n",
        "hola\n",
        "pdfs/total/document_55.pdf"
       ]
      },
      {
       "output_type": "stream",
       "stream": "stdout",
       "text": [
        "\n",
        "pdfs/total/document_55.pdf.old\n",
        "MAL\n",
        "pdf:  pdfs/total/document_55.pdf\n",
        "error: Text extraction is not allowed: <open file 'pdfs/total/document_55.pdf', mode 'rb' at 0x7ff41e56a660>\n",
        "HISPANIA ACTIVOS INMOBILIARIOS, S.A.\n",
        "<pyPdf.pdf.PdfFileWriter object at 0x7ff41eed4a90>"
       ]
      },
      {
       "output_type": "stream",
       "stream": "stdout",
       "text": [
        "\n",
        "pdfs/2paginas/HISPANIA ACTIVOS INMOBILIARIOS, S.A..pdf\n",
        "LABORATORIOS FARMACEUTICOS ROVI, S.A."
       ]
      },
      {
       "output_type": "stream",
       "stream": "stdout",
       "text": [
        "\n",
        "<pyPdf.pdf.PdfFileWriter object at 0x7ff41ff62650>"
       ]
      },
      {
       "output_type": "stream",
       "stream": "stdout",
       "text": [
        "\n",
        "pdfs/2paginas/LABORATORIOS FARMACEUTICOS ROVI, S.A..pdf\n",
        "ALMIRALL, S.A."
       ]
      },
      {
       "output_type": "stream",
       "stream": "stdout",
       "text": [
        "\n",
        "<pyPdf.pdf.PdfFileWriter object at 0x7ff41e8a4ad0>"
       ]
      },
      {
       "output_type": "stream",
       "stream": "stdout",
       "text": [
        "\n",
        "pdfs/2paginas/ALMIRALL, S.A..pdf\n",
        "hola"
       ]
      },
      {
       "output_type": "stream",
       "stream": "stdout",
       "text": [
        "\n",
        "pdfs/total/document_137.pdf\n",
        "pdfs/total/document_137.pdf.old\n",
        "MAL\n",
        "pdf:  pdfs/total/document_137.pdf\n",
        "error: Text extraction is not allowed: <open file 'pdfs/total/document_137.pdf', mode 'rb' at 0x7ff41e56a9c0>\n",
        "ACS, ACTIVIDADES DE CONSTRUCCION Y SERVICIOS, S.A."
       ]
      },
      {
       "output_type": "stream",
       "stream": "stdout",
       "text": [
        "\n",
        "<pyPdf.pdf.PdfFileWriter object at 0x7ff41e67f8d0>"
       ]
      },
      {
       "output_type": "stream",
       "stream": "stdout",
       "text": [
        "\n",
        "pdfs/2paginas/ACS, ACTIVIDADES DE CONSTRUCCION Y SERVICIOS, S.A..pdf\n",
        "GRIFOLS, S.A."
       ]
      },
      {
       "output_type": "stream",
       "stream": "stdout",
       "text": [
        "\n",
        "<pyPdf.pdf.PdfFileWriter object at 0x7ff420dfb410>"
       ]
      },
      {
       "output_type": "stream",
       "stream": "stdout",
       "text": [
        "\n",
        "pdfs/2paginas/GRIFOLS, S.A..pdf\n",
        "BOLSAS Y MERCADOS ESPA\u00d1OLES, SDAD HOLDING DE MDOS Y"
       ]
      },
      {
       "output_type": "stream",
       "stream": "stdout",
       "text": [
        "\n",
        "<pyPdf.pdf.PdfFileWriter object at 0x7ff41eabe1d0>"
       ]
      },
      {
       "output_type": "stream",
       "stream": "stdout",
       "text": [
        "\n",
        "pdfs/2paginas/BOLSAS Y MERCADOS ESPA\u00d1OLES, SDAD HOLDING DE MDOS Y.pdf\n",
        "BARON DE LEY, S.A."
       ]
      },
      {
       "output_type": "stream",
       "stream": "stdout",
       "text": [
        "\n",
        "<pyPdf.pdf.PdfFileWriter object at 0x7ff41e8a4d50>"
       ]
      },
      {
       "output_type": "stream",
       "stream": "stdout",
       "text": [
        "\n",
        "pdfs/2paginas/BARON DE LEY, S.A..pdf\n",
        "PROSEGUR COMPA\u00d1IA DE SEGURIDAD S.A"
       ]
      },
      {
       "output_type": "stream",
       "stream": "stdout",
       "text": [
        "\n",
        "<pyPdf.pdf.PdfFileWriter object at 0x7ff41f378290>"
       ]
      },
      {
       "output_type": "stream",
       "stream": "stdout",
       "text": [
        "\n",
        "pdfs/2paginas/PROSEGUR COMPA\u00d1IA DE SEGURIDAD S.A.pdf\n",
        "TR HOTEL JARDIN DEL MAR, S.A."
       ]
      },
      {
       "output_type": "stream",
       "stream": "stdout",
       "text": [
        "\n",
        "<pyPdf.pdf.PdfFileWriter object at 0x7ff41e6f5b50>"
       ]
      },
      {
       "output_type": "stream",
       "stream": "stdout",
       "text": [
        "\n",
        "pdfs/2paginas/TR HOTEL JARDIN DEL MAR, S.A..pdf\n",
        "INVERPYME, S.A.(EN LIQUIDACION)"
       ]
      },
      {
       "output_type": "stream",
       "stream": "stdout",
       "text": [
        "\n",
        "<pyPdf.pdf.PdfFileWriter object at 0x7ff41f062dd0>"
       ]
      },
      {
       "output_type": "stream",
       "stream": "stdout",
       "text": [
        "\n",
        "pdfs/2paginas/INVERPYME, S.A.(EN LIQUIDACION).pdf\n",
        "VIDRALA, S.A."
       ]
      },
      {
       "output_type": "stream",
       "stream": "stdout",
       "text": [
        "\n",
        "<pyPdf.pdf.PdfFileWriter object at 0x7ff41f5d8250>"
       ]
      },
      {
       "output_type": "stream",
       "stream": "stdout",
       "text": [
        "\n",
        "pdfs/2paginas/VIDRALA, S.A..pdf\n",
        "LIWE ESPA\u00d1OLA, S.A."
       ]
      },
      {
       "output_type": "stream",
       "stream": "stdout",
       "text": [
        "\n",
        "<pyPdf.pdf.PdfFileWriter object at 0x7ff41f209350>"
       ]
      },
      {
       "output_type": "stream",
       "stream": "stdout",
       "text": [
        "\n",
        "pdfs/2paginas/LIWE ESPA\u00d1OLA, S.A..pdf\n",
        "MELIA HOTELS INTERNATIONAL S.A."
       ]
      },
      {
       "output_type": "stream",
       "stream": "stdout",
       "text": [
        "\n",
        "<pyPdf.pdf.PdfFileWriter object at 0x7ff41ededf90>"
       ]
      },
      {
       "output_type": "stream",
       "stream": "stdout",
       "text": [
        "\n",
        "pdfs/2paginas/MELIA HOTELS INTERNATIONAL S.A..pdf\n",
        "SOCIEDAD ANONIMA HULLERA VASCO-LEONESA"
       ]
      },
      {
       "output_type": "stream",
       "stream": "stdout",
       "text": [
        "\n",
        "<pyPdf.pdf.PdfFileWriter object at 0x7ff41ff25690>"
       ]
      },
      {
       "output_type": "stream",
       "stream": "stdout",
       "text": [
        "\n",
        "pdfs/2paginas/SOCIEDAD ANONIMA HULLERA VASCO-LEONESA.pdf\n",
        "ABERTIS INFRAESTRUCTURAS, S.A."
       ]
      },
      {
       "output_type": "stream",
       "stream": "stdout",
       "text": [
        "\n",
        "<pyPdf.pdf.PdfFileWriter object at 0x7ff41f5b4e10>"
       ]
      },
      {
       "output_type": "stream",
       "stream": "stdout",
       "text": [
        "\n",
        "pdfs/2paginas/ABERTIS INFRAESTRUCTURAS, S.A..pdf\n"
       ]
      },
      {
       "output_type": "stream",
       "stream": "stdout",
       "text": [
        "\n",
        "hola"
       ]
      },
      {
       "output_type": "stream",
       "stream": "stdout",
       "text": [
        "\n",
        "pdfs/total/document_53.pdf\n",
        "pdfs/total/document_53.pdf.old\n",
        "MAL\n",
        "pdf:  pdfs/total/document_53.pdf\n",
        "error: must be string or buffer, not None\n",
        "MIQUEL Y COSTAS & MIQUEL, S.A."
       ]
      },
      {
       "output_type": "stream",
       "stream": "stdout",
       "text": [
        "\n",
        "<pyPdf.pdf.PdfFileWriter object at 0x7ff41ea6f690>"
       ]
      },
      {
       "output_type": "stream",
       "stream": "stdout",
       "text": [
        "\n",
        "pdfs/2paginas/MIQUEL Y COSTAS & MIQUEL, S.A..pdf\n",
        "BANKIA, S.A"
       ]
      },
      {
       "output_type": "stream",
       "stream": "stdout",
       "text": [
        "\n",
        "<pyPdf.pdf.PdfFileWriter object at 0x7ff41eabead0>"
       ]
      },
      {
       "output_type": "stream",
       "stream": "stdout",
       "text": [
        "\n",
        "pdfs/2paginas/BANKIA, S.A.pdf\n",
        "VISCOFAN, S.A."
       ]
      },
      {
       "output_type": "stream",
       "stream": "stdout",
       "text": [
        "\n",
        "<pyPdf.pdf.PdfFileWriter object at 0x7ff41ec1f450>"
       ]
      },
      {
       "output_type": "stream",
       "stream": "stdout",
       "text": [
        "\n",
        "pdfs/2paginas/VISCOFAN, S.A..pdf\n",
        "GAS NATURAL SDG, S.A."
       ]
      },
      {
       "output_type": "stream",
       "stream": "stdout",
       "text": [
        "\n",
        "<pyPdf.pdf.PdfFileWriter object at 0x7ff41e47ea10>"
       ]
      },
      {
       "output_type": "stream",
       "stream": "stdout",
       "text": [
        "\n",
        "pdfs/2paginas/GAS NATURAL SDG, S.A..pdf\n",
        "AMADEUS IT HOLDING, S.A."
       ]
      },
      {
       "output_type": "stream",
       "stream": "stdout",
       "text": [
        "\n",
        "<pyPdf.pdf.PdfFileWriter object at 0x7ff41efede90>"
       ]
      },
      {
       "output_type": "stream",
       "stream": "stdout",
       "text": [
        "\n",
        "pdfs/2paginas/AMADEUS IT HOLDING, S.A..pdf\n",
        "FINANZAS E INVERSIONES VALENCIANAS, S.A."
       ]
      },
      {
       "output_type": "stream",
       "stream": "stdout",
       "text": [
        "\n",
        "<pyPdf.pdf.PdfFileWriter object at 0x7ff41f062350>"
       ]
      },
      {
       "output_type": "stream",
       "stream": "stdout",
       "text": [
        "\n",
        "pdfs/2paginas/FINANZAS E INVERSIONES VALENCIANAS, S.A..pdf\n",
        "COMPA\u00d1IA LEVANTINA DE EDIFICACION Y OBRAS PUBLICAS, S.A."
       ]
      },
      {
       "output_type": "stream",
       "stream": "stdout",
       "text": [
        "\n",
        "<pyPdf.pdf.PdfFileWriter object at 0x7ff41e650450>"
       ]
      },
      {
       "output_type": "stream",
       "stream": "stdout",
       "text": [
        "\n",
        "pdfs/2paginas/COMPA\u00d1IA LEVANTINA DE EDIFICACION Y OBRAS PUBLICAS, S.A..pdf\n",
        "SOTOGRANDE, S.A."
       ]
      },
      {
       "output_type": "stream",
       "stream": "stdout",
       "text": [
        "\n",
        "<pyPdf.pdf.PdfFileWriter object at 0x7ff41f184350>"
       ]
      },
      {
       "output_type": "stream",
       "stream": "stdout",
       "text": [
        "\n",
        "pdfs/2paginas/SOTOGRANDE, S.A..pdf\n",
        "hola\n",
        "pdfs/total/document_143.pdf"
       ]
      },
      {
       "output_type": "stream",
       "stream": "stdout",
       "text": [
        "\n",
        "pdfs/total/document_143.pdf.old\n",
        "MAL\n",
        "pdf:  pdfs/total/document_143.pdf\n",
        "error: Text extraction is not allowed: <open file 'pdfs/total/document_143.pdf', mode 'rb' at 0x7ff41ff656f0>\n",
        "GRUPO EZENTIS, S.A."
       ]
      },
      {
       "output_type": "stream",
       "stream": "stdout",
       "text": [
        "\n",
        "<pyPdf.pdf.PdfFileWriter object at 0x7ff41f2b5290>"
       ]
      },
      {
       "output_type": "stream",
       "stream": "stdout",
       "text": [
        "\n",
        "pdfs/2paginas/GRUPO EZENTIS, S.A..pdf\n",
        "MONTEBALITO, S.A."
       ]
      },
      {
       "output_type": "stream",
       "stream": "stdout",
       "text": [
        "\n",
        "<pyPdf.pdf.PdfFileWriter object at 0x7ff41e766610>"
       ]
      },
      {
       "output_type": "stream",
       "stream": "stdout",
       "text": [
        "\n",
        "pdfs/2paginas/MONTEBALITO, S.A..pdf\n",
        "PAPELES Y CARTONES DE EUROPA, S.A."
       ]
      },
      {
       "output_type": "stream",
       "stream": "stdout",
       "text": [
        "\n",
        "<pyPdf.pdf.PdfFileWriter object at 0x7ff41e618410>"
       ]
      },
      {
       "output_type": "stream",
       "stream": "stdout",
       "text": [
        "\n",
        "pdfs/2paginas/PAPELES Y CARTONES DE EUROPA, S.A..pdf\n",
        "hola"
       ]
      },
      {
       "output_type": "stream",
       "stream": "stdout",
       "text": [
        "\n",
        "pdfs/total/document_183.pdf\n",
        "pdfs/total/document_183.pdf.old\n",
        "MAL\n",
        "pdf:  pdfs/total/document_183.pdf\n",
        "error: Text extraction is not allowed: <open file 'pdfs/total/document_183.pdf', mode 'rb' at 0x7ff41e56a8a0>\n",
        "GAMESA CORPORACION TECNOLOGICA, S.A."
       ]
      },
      {
       "output_type": "stream",
       "stream": "stdout",
       "text": [
        "\n",
        "<pyPdf.pdf.PdfFileWriter object at 0x7ff41eccc650>"
       ]
      },
      {
       "output_type": "stream",
       "stream": "stdout",
       "text": [
        "\n",
        "pdfs/2paginas/GAMESA CORPORACION TECNOLOGICA, S.A..pdf\n",
        "SNIACE, S.A."
       ]
      },
      {
       "output_type": "stream",
       "stream": "stdout",
       "text": [
        "\n",
        "<pyPdf.pdf.PdfFileWriter object at 0x7ff41ff6cb90>"
       ]
      },
      {
       "output_type": "stream",
       "stream": "stdout",
       "text": [
        "\n",
        "pdfs/2paginas/SNIACE, S.A..pdf\n",
        "BANKINTER, S.A."
       ]
      },
      {
       "output_type": "stream",
       "stream": "stdout",
       "text": [
        "\n",
        "<pyPdf.pdf.PdfFileWriter object at 0x7ff41e494810>"
       ]
      },
      {
       "output_type": "stream",
       "stream": "stdout",
       "text": [
        "\n",
        "pdfs/2paginas/BANKINTER, S.A..pdf\n",
        "APPLUS SERVICES, S.A."
       ]
      },
      {
       "output_type": "stream",
       "stream": "stdout",
       "text": [
        "\n",
        "<pyPdf.pdf.PdfFileWriter object at 0x7ff41eed4bd0>"
       ]
      },
      {
       "output_type": "stream",
       "stream": "stdout",
       "text": [
        "\n",
        "pdfs/2paginas/APPLUS SERVICES, S.A..pdf\n"
       ]
      },
      {
       "output_type": "stream",
       "stream": "stdout",
       "text": [
        "\n",
        "<pyPdf.pdf.PdfFileWriter object at 0x7ff41ff25690>"
       ]
      },
      {
       "output_type": "stream",
       "stream": "stdout",
       "text": [
        "\n",
        "pdfs/2paginas/.pdf\n",
        "DEOLEO, S.A."
       ]
      },
      {
       "output_type": "stream",
       "stream": "stdout",
       "text": [
        "\n",
        "<pyPdf.pdf.PdfFileWriter object at 0x7ff41e8a4210>"
       ]
      },
      {
       "output_type": "stream",
       "stream": "stdout",
       "text": [
        "\n",
        "pdfs/2paginas/DEOLEO, S.A..pdf\n",
        "REPSOL, S.A"
       ]
      },
      {
       "output_type": "stream",
       "stream": "stdout",
       "text": [
        "\n",
        "<pyPdf.pdf.PdfFileWriter object at 0x7ff41eabee50>"
       ]
      },
      {
       "output_type": "stream",
       "stream": "stdout",
       "text": [
        "\n",
        "pdfs/2paginas/REPSOL, S.A.pdf\n",
        "RENTA 4 BANCO, S.A."
       ]
      },
      {
       "output_type": "stream",
       "stream": "stdout",
       "text": [
        "\n",
        "<pyPdf.pdf.PdfFileWriter object at 0x7ff41f0ae650>"
       ]
      },
      {
       "output_type": "stream",
       "stream": "stdout",
       "text": [
        "\n",
        "pdfs/2paginas/RENTA 4 BANCO, S.A..pdf\n",
        "QUABIT INMOBILIARIA, S.A."
       ]
      },
      {
       "output_type": "stream",
       "stream": "stdout",
       "text": [
        "\n",
        "<pyPdf.pdf.PdfFileWriter object at 0x7ff41e4b2b10>"
       ]
      },
      {
       "output_type": "stream",
       "stream": "stdout",
       "text": [
        "\n",
        "pdfs/2paginas/QUABIT INMOBILIARIA, S.A..pdf\n",
        "MINERALES Y PRODUCTOS DERIVADOS, S.A."
       ]
      },
      {
       "output_type": "stream",
       "stream": "stdout",
       "text": [
        "\n",
        "<pyPdf.pdf.PdfFileWriter object at 0x7ff41f664090>"
       ]
      },
      {
       "output_type": "stream",
       "stream": "stdout",
       "text": [
        "\n",
        "pdfs/2paginas/MINERALES Y PRODUCTOS DERIVADOS, S.A..pdf\n",
        "AZKOYEN, S.A."
       ]
      },
      {
       "output_type": "stream",
       "stream": "stdout",
       "text": [
        "\n",
        "<pyPdf.pdf.PdfFileWriter object at 0x7ff41eb7fa90>"
       ]
      },
      {
       "output_type": "stream",
       "stream": "stdout",
       "text": [
        "\n",
        "pdfs/2paginas/AZKOYEN, S.A..pdf\n",
        "hola\n",
        "pdfs/total/document_169.pdf"
       ]
      },
      {
       "output_type": "stream",
       "stream": "stdout",
       "text": [
        "\n",
        "pdfs/total/document_169.pdf.old\n",
        "MAL\n",
        "pdf:  pdfs/total/document_169.pdf\n",
        "error: Text extraction is not allowed: <open file 'pdfs/total/document_169.pdf', mode 'rb' at 0x7ff41e56a810>\n",
        "hola\n",
        "pdfs/total/document_239.pdf\n",
        "pdfs/total/document_239.pdf.old\n",
        "MAL\n",
        "pdf:  pdfs/total/document_239.pdf\n",
        "error: Text extraction is not allowed: <open file 'pdfs/total/document_239.pdf', mode 'rb' at 0x7ff41e56a930>\n",
        "BANCO DE SABADELL, S.A."
       ]
      },
      {
       "output_type": "stream",
       "stream": "stdout",
       "text": [
        "\n",
        "<pyPdf.pdf.PdfFileWriter object at 0x7ff41f5d8110>"
       ]
      },
      {
       "output_type": "stream",
       "stream": "stdout",
       "text": [
        "\n",
        "pdfs/2paginas/BANCO DE SABADELL, S.A..pdf\n",
        "LINGOTES ESPECIALES, S.A."
       ]
      },
      {
       "output_type": "stream",
       "stream": "stdout",
       "text": [
        "\n",
        "<pyPdf.pdf.PdfFileWriter object at 0x7ff41f184e50>"
       ]
      },
      {
       "output_type": "stream",
       "stream": "stdout",
       "text": [
        "\n",
        "pdfs/2paginas/LINGOTES ESPECIALES, S.A..pdf\n",
        "TESTA INMUEBLES EN RENTA, S.A."
       ]
      },
      {
       "output_type": "stream",
       "stream": "stdout",
       "text": [
        "\n",
        "<pyPdf.pdf.PdfFileWriter object at 0x7ff41f277050>"
       ]
      },
      {
       "output_type": "stream",
       "stream": "stdout",
       "text": [
        "\n",
        "pdfs/2paginas/TESTA INMUEBLES EN RENTA, S.A..pdf\n",
        "INDO INTERNACIONAL, S.A (EN LIQUIDACION)"
       ]
      },
      {
       "output_type": "stream",
       "stream": "stdout",
       "text": [
        "\n",
        "<pyPdf.pdf.PdfFileWriter object at 0x7ff41f682cd0>"
       ]
      },
      {
       "output_type": "stream",
       "stream": "stdout",
       "text": [
        "\n",
        "pdfs/2paginas/INDO INTERNACIONAL, S.A (EN LIQUIDACION).pdf\n",
        "hola"
       ]
      },
      {
       "output_type": "stream",
       "stream": "stdout",
       "text": [
        "\n",
        "pdfs/total/document_207.pdf\n",
        "pdfs/total/document_207.pdf.old\n",
        "MAL\n",
        "pdf:  pdfs/total/document_207.pdf\n",
        "error: Text extraction is not allowed: <open file 'pdfs/total/document_207.pdf', mode 'rb' at 0x7ff41e56a780>\n",
        "hola"
       ]
      },
      {
       "output_type": "stream",
       "stream": "stdout",
       "text": [
        "\n",
        "pdfs/total/document_35.pdf\n",
        "pdfs/total/document_35.pdf.old\n",
        "MAL\n",
        "pdf:  pdfs/total/document_35.pdf\n",
        "error: Text extraction is not allowed: <open file 'pdfs/total/document_35.pdf', mode 'rb' at 0x7ff41e56a540>\n",
        "OBRASCON HUARTE LAIN, S.A."
       ]
      },
      {
       "output_type": "stream",
       "stream": "stdout",
       "text": [
        "\n",
        "<pyPdf.pdf.PdfFileWriter object at 0x7ff41e618610>"
       ]
      },
      {
       "output_type": "stream",
       "stream": "stdout",
       "text": [
        "\n",
        "pdfs/2paginas/OBRASCON HUARTE LAIN, S.A..pdf\n",
        "TECNOCOM, TELECOMUNICACIONES Y ENERGIA, S.A."
       ]
      },
      {
       "output_type": "stream",
       "stream": "stdout",
       "text": [
        "\n",
        "<pyPdf.pdf.PdfFileWriter object at 0x7ff41f1cf8d0>"
       ]
      },
      {
       "output_type": "stream",
       "stream": "stdout",
       "text": [
        "\n",
        "pdfs/2paginas/TECNOCOM, TELECOMUNICACIONES Y ENERGIA, S.A..pdf\n",
        "CEMENTOS MOLINS, S.A."
       ]
      },
      {
       "output_type": "stream",
       "stream": "stdout",
       "text": [
        "\n",
        "<pyPdf.pdf.PdfFileWriter object at 0x7ff41f638d90>"
       ]
      },
      {
       "output_type": "stream",
       "stream": "stdout",
       "text": [
        "\n",
        "pdfs/2paginas/CEMENTOS MOLINS, S.A..pdf\n",
        "GENERAL DE ALQUILER DE MAQUINARIA, S.A."
       ]
      },
      {
       "output_type": "stream",
       "stream": "stdout",
       "text": [
        "\n",
        "<pyPdf.pdf.PdfFileWriter object at 0x7ff41f3788d0>"
       ]
      },
      {
       "output_type": "stream",
       "stream": "stdout",
       "text": [
        "\n",
        "pdfs/2paginas/GENERAL DE ALQUILER DE MAQUINARIA, S.A..pdf\n",
        "S.A. RONSA"
       ]
      },
      {
       "output_type": "stream",
       "stream": "stdout",
       "text": [
        "\n",
        "<pyPdf.pdf.PdfFileWriter object at 0x7ff41f0ae290>"
       ]
      },
      {
       "output_type": "stream",
       "stream": "stdout",
       "text": [
        "\n",
        "pdfs/2paginas/S.A. RONSA.pdf\n",
        "MOBILIARIA MONESA, S.A."
       ]
      },
      {
       "output_type": "stream",
       "stream": "stdout",
       "text": [
        "\n",
        "<pyPdf.pdf.PdfFileWriter object at 0x7ff41f33b5d0>"
       ]
      },
      {
       "output_type": "stream",
       "stream": "stdout",
       "text": [
        "\n",
        "pdfs/2paginas/MOBILIARIA MONESA, S.A..pdf\n",
        "hola"
       ]
      },
      {
       "output_type": "stream",
       "stream": "stdout",
       "text": [
        "\n",
        "pdfs/total/document_151.pdf\n",
        "pdfs/total/document_151.pdf.old\n",
        "MAL\n",
        "pdf:  pdfs/total/document_151.pdf\n",
        "error: Text extraction is not allowed: <open file 'pdfs/total/document_151.pdf', mode 'rb' at 0x7ff41e56a030>\n",
        "ALZA REAL ESTATE, S.A."
       ]
      },
      {
       "output_type": "stream",
       "stream": "stdout",
       "text": [
        "\n",
        "<pyPdf.pdf.PdfFileWriter object at 0x7ff41f466850>"
       ]
      },
      {
       "output_type": "stream",
       "stream": "stdout",
       "text": [
        "\n",
        "pdfs/2paginas/ALZA REAL ESTATE, S.A..pdf\n",
        "BANCO POPULAR ESPA\u00d1OL, S.A."
       ]
      },
      {
       "output_type": "stream",
       "stream": "stdout",
       "text": [
        "\n",
        "<pyPdf.pdf.PdfFileWriter object at 0x7ff41f638090>"
       ]
      },
      {
       "output_type": "stream",
       "stream": "stdout",
       "text": [
        "\n",
        "pdfs/2paginas/BANCO POPULAR ESPA\u00d1OL, S.A..pdf\n",
        "DESARROLLOS ESPECIALES DE SISTEMAS DE ANCLAJES, S.A."
       ]
      },
      {
       "output_type": "stream",
       "stream": "stdout",
       "text": [
        "\n",
        "<pyPdf.pdf.PdfFileWriter object at 0x7ff41f07ec50>"
       ]
      },
      {
       "output_type": "stream",
       "stream": "stdout",
       "text": [
        "\n",
        "pdfs/2paginas/DESARROLLOS ESPECIALES DE SISTEMAS DE ANCLAJES, S.A..pdf\n",
        "SACYR, S.A."
       ]
      },
      {
       "output_type": "stream",
       "stream": "stdout",
       "text": [
        "\n",
        "<pyPdf.pdf.PdfFileWriter object at 0x7ff41f378250>"
       ]
      },
      {
       "output_type": "stream",
       "stream": "stdout",
       "text": [
        "\n",
        "pdfs/2paginas/SACYR, S.A..pdf\n",
        "hola"
       ]
      },
      {
       "output_type": "stream",
       "stream": "stdout",
       "text": [
        "\n",
        "pdfs/total/document_87.pdf\n",
        "pdfs/total/document_87.pdf.old\n",
        "MAL\n",
        "pdf:  pdfs/total/document_87.pdf\n",
        "error: Text extraction is not allowed: <open file 'pdfs/total/document_87.pdf', mode 'rb' at 0x7ff41e56a540>\n",
        "LA SEDA DE BARCELONA, S.A.(EN LIQUIDACION)"
       ]
      },
      {
       "output_type": "stream",
       "stream": "stdout",
       "text": [
        "\n",
        "<pyPdf.pdf.PdfFileWriter object at 0x7ff41e8aed50>"
       ]
      },
      {
       "output_type": "stream",
       "stream": "stdout",
       "text": [
        "\n",
        "pdfs/2paginas/LA SEDA DE BARCELONA, S.A.(EN LIQUIDACION).pdf\n",
        "FAES FARMA, S.A."
       ]
      },
      {
       "output_type": "stream",
       "stream": "stdout",
       "text": [
        "\n",
        "<pyPdf.pdf.PdfFileWriter object at 0x7ff41ed36350>"
       ]
      },
      {
       "output_type": "stream",
       "stream": "stdout",
       "text": [
        "\n",
        "pdfs/2paginas/FAES FARMA, S.A..pdf\n",
        "FLUIDRA, S.A."
       ]
      },
      {
       "output_type": "stream",
       "stream": "stdout",
       "text": [
        "\n",
        "<pyPdf.pdf.PdfFileWriter object at 0x7ff41e47e510>"
       ]
      },
      {
       "output_type": "stream",
       "stream": "stdout",
       "text": [
        "\n",
        "pdfs/2paginas/FLUIDRA, S.A..pdf\n",
        "ACERINOX, S.A."
       ]
      },
      {
       "output_type": "stream",
       "stream": "stdout",
       "text": [
        "\n",
        "<pyPdf.pdf.PdfFileWriter object at 0x7ff41f370f10>"
       ]
      },
      {
       "output_type": "stream",
       "stream": "stdout",
       "text": [
        "\n",
        "pdfs/2paginas/ACERINOX, S.A..pdf\n",
        "IBERPAPEL GESTION, S.A."
       ]
      },
      {
       "output_type": "stream",
       "stream": "stdout",
       "text": [
        "\n",
        "<pyPdf.pdf.PdfFileWriter object at 0x7ff41f638490>"
       ]
      },
      {
       "output_type": "stream",
       "stream": "stdout",
       "text": [
        "\n",
        "pdfs/2paginas/IBERPAPEL GESTION, S.A..pdf\n",
        "GRUPO EMPRESARIAL SAN JOSE, S.A."
       ]
      },
      {
       "output_type": "stream",
       "stream": "stdout",
       "text": [
        "\n",
        "<pyPdf.pdf.PdfFileWriter object at 0x7ff41f28d990>"
       ]
      },
      {
       "output_type": "stream",
       "stream": "stdout",
       "text": [
        "\n",
        "pdfs/2paginas/GRUPO EMPRESARIAL SAN JOSE, S.A..pdf\n",
        "INVERFIATC, S.A."
       ]
      },
      {
       "output_type": "stream",
       "stream": "stdout",
       "text": [
        "\n",
        "<pyPdf.pdf.PdfFileWriter object at 0x7ff41e618cd0>"
       ]
      },
      {
       "output_type": "stream",
       "stream": "stdout",
       "text": [
        "\n",
        "pdfs/2paginas/INVERFIATC, S.A..pdf\n",
        "NICOLAS CORREA, S.A."
       ]
      },
      {
       "output_type": "stream",
       "stream": "stdout",
       "text": [
        "\n",
        "<pyPdf.pdf.PdfFileWriter object at 0x7ff41f209c50>"
       ]
      },
      {
       "output_type": "stream",
       "stream": "stdout",
       "text": [
        "\n",
        "pdfs/2paginas/NICOLAS CORREA, S.A..pdf\n",
        "ENDESA, S.A."
       ]
      },
      {
       "output_type": "stream",
       "stream": "stdout",
       "text": [
        "\n",
        "<pyPdf.pdf.PdfFileWriter object at 0x7ff41eb7f590>"
       ]
      },
      {
       "output_type": "stream",
       "stream": "stdout",
       "text": [
        "\n",
        "pdfs/2paginas/ENDESA, S.A..pdf\n",
        "TELEFONICA, S.A."
       ]
      },
      {
       "output_type": "stream",
       "stream": "stdout",
       "text": [
        "\n",
        "<pyPdf.pdf.PdfFileWriter object at 0x7ff41e47e0d0>"
       ]
      },
      {
       "output_type": "stream",
       "stream": "stdout",
       "text": [
        "\n",
        "pdfs/2paginas/TELEFONICA, S.A..pdf\n",
        "COMPA\u00d1IA LOGISTICA DE HIDROCARBUROS CLH, S.A."
       ]
      },
      {
       "output_type": "stream",
       "stream": "stdout",
       "text": [
        "\n",
        "<pyPdf.pdf.PdfFileWriter object at 0x7ff41eabec10>"
       ]
      },
      {
       "output_type": "stream",
       "stream": "stdout",
       "text": [
        "\n",
        "pdfs/2paginas/COMPA\u00d1IA LOGISTICA DE HIDROCARBUROS CLH, S.A..pdf\n",
        "COMPA\u00d1IA DE DISTRIBUCION INTEGRAL LOGISTA HOLDINGS, S.A."
       ]
      },
      {
       "output_type": "stream",
       "stream": "stdout",
       "text": [
        "\n",
        "<pyPdf.pdf.PdfFileWriter object at 0x7ff41ff6cf90>"
       ]
      },
      {
       "output_type": "stream",
       "stream": "stdout",
       "text": [
        "\n",
        "pdfs/2paginas/COMPA\u00d1IA DE DISTRIBUCION INTEGRAL LOGISTA HOLDINGS, S.A..pdf\n",
        "EBRO FOODS, S.A."
       ]
      },
      {
       "output_type": "stream",
       "stream": "stdout",
       "text": [
        "\n",
        "<pyPdf.pdf.PdfFileWriter object at 0x7ff41ff197d0>"
       ]
      },
      {
       "output_type": "stream",
       "stream": "stdout",
       "text": [
        "\n",
        "pdfs/2paginas/EBRO FOODS, S.A..pdf\n",
        "PRIM, S.A."
       ]
      },
      {
       "output_type": "stream",
       "stream": "stdout",
       "text": [
        "\n",
        "<pyPdf.pdf.PdfFileWriter object at 0x7ff41f2ce4d0>"
       ]
      },
      {
       "output_type": "stream",
       "stream": "stdout",
       "text": [
        "\n",
        "pdfs/2paginas/PRIM, S.A..pdf\n",
        "REALIA BUSINESS, S.A."
       ]
      },
      {
       "output_type": "stream",
       "stream": "stdout",
       "text": [
        "\n",
        "<pyPdf.pdf.PdfFileWriter object at 0x7ff41f1dee10>"
       ]
      },
      {
       "output_type": "stream",
       "stream": "stdout",
       "text": [
        "\n",
        "pdfs/2paginas/REALIA BUSINESS, S.A..pdf\n",
        "hola"
       ]
      },
      {
       "output_type": "stream",
       "stream": "stdout",
       "text": [
        "\n",
        "pdfs/total/document_29.pdf\n",
        "pdfs/total/document_29.pdf.old\n",
        "MAL\n",
        "pdf:  pdfs/total/document_29.pdf\n",
        "error: Text extraction is not allowed: <open file 'pdfs/total/document_29.pdf', mode 'rb' at 0x7ff41e56a300>\n",
        "DURO FELGUERA, S.A."
       ]
      },
      {
       "output_type": "stream",
       "stream": "stdout",
       "text": [
        "\n",
        "<pyPdf.pdf.PdfFileWriter object at 0x7ff41f1cf050>"
       ]
      },
      {
       "output_type": "stream",
       "stream": "stdout",
       "text": [
        "\n",
        "pdfs/2paginas/DURO FELGUERA, S.A..pdf\n",
        "FIN\n"
       ]
      }
     ],
     "prompt_number": 299
    },
    {
     "cell_type": "code",
     "collapsed": false,
     "input": [
      "olds = glob.glob('pdfs/total/*.old')\n",
      "\n",
      "#Vamos a ver si podemos hacer algo con los que han fallado. Pinto el comando que tengo que ejecutar en la consola\n",
      "for old in olds:\n",
      "    nombre_nuevo =  old + \".new.pdf\"        \n",
      "    print 'gs','-q', '-dNOPAUSE', '-dBATCH', '-sDEVICE=pdfwrite', '-sOutputFile=%stdout%' ,'-c', '.setpdfwrite', '-f', old ,'>', nombre_nuevo\n",
      "    \n",
      "    #error = gsProc.communicate()[0]\n",
      "\n",
      "    \n",
      "#copiar el resultado y pegarlo en la l\u00ednea de comandos, porque no he conseguido hacerlo desde aqu\u00ed"
     ],
     "language": "python",
     "metadata": {},
     "outputs": [
      {
       "output_type": "stream",
       "stream": "stdout",
       "text": [
        "gs -q -dNOPAUSE -dBATCH -sDEVICE=pdfwrite -sOutputFile=%stdout% -c .setpdfwrite -f pdfs/total/document_137.pdf.old > pdfs/total/document_137.pdf.old.new.pdf\n",
        "gs -q -dNOPAUSE -dBATCH -sDEVICE=pdfwrite -sOutputFile=%stdout% -c .setpdfwrite -f pdfs/total/document_239.pdf.old > pdfs/total/document_239.pdf.old.new.pdf\n",
        "gs -q -dNOPAUSE -dBATCH -sDEVICE=pdfwrite -sOutputFile=%stdout% -c .setpdfwrite -f pdfs/total/document_99.pdf.old > pdfs/total/document_99.pdf.old.new.pdf\n",
        "gs -q -dNOPAUSE -dBATCH -sDEVICE=pdfwrite -sOutputFile=%stdout% -c .setpdfwrite -f pdfs/total/document_143.pdf.old > pdfs/total/document_143.pdf.old.new.pdf\n",
        "gs -q -dNOPAUSE -dBATCH -sDEVICE=pdfwrite -sOutputFile=%stdout% -c .setpdfwrite -f pdfs/total/document_95.pdf.old > pdfs/total/document_95.pdf.old.new.pdf\n",
        "gs -q -dNOPAUSE -dBATCH -sDEVICE=pdfwrite -sOutputFile=%stdout% -c .setpdfwrite -f pdfs/total/document_183.pdf.old > pdfs/total/document_183.pdf.old.new.pdf\n",
        "gs -q -dNOPAUSE -dBATCH -sDEVICE=pdfwrite -sOutputFile=%stdout% -c .setpdfwrite -f pdfs/total/document_51.pdf.old > pdfs/total/document_51.pdf.old.new.pdf\n",
        "gs -q -dNOPAUSE -dBATCH -sDEVICE=pdfwrite -sOutputFile=%stdout% -c .setpdfwrite -f pdfs/total/document_151.pdf.old > pdfs/total/document_151.pdf.old.new.pdf\n",
        "gs -q -dNOPAUSE -dBATCH -sDEVICE=pdfwrite -sOutputFile=%stdout% -c .setpdfwrite -f pdfs/total/document_169.pdf.old > pdfs/total/document_169.pdf.old.new.pdf\n",
        "gs -q -dNOPAUSE -dBATCH -sDEVICE=pdfwrite -sOutputFile=%stdout% -c .setpdfwrite -f pdfs/total/document_35.pdf.old > pdfs/total/document_35.pdf.old.new.pdf\n",
        "gs -q -dNOPAUSE -dBATCH -sDEVICE=pdfwrite -sOutputFile=%stdout% -c .setpdfwrite -f pdfs/total/document_87.pdf.old > pdfs/total/document_87.pdf.old.new.pdf\n",
        "gs -q -dNOPAUSE -dBATCH -sDEVICE=pdfwrite -sOutputFile=%stdout% -c .setpdfwrite -f pdfs/total/document_53.pdf.old > pdfs/total/document_53.pdf.old.new.pdf\n",
        "gs -q -dNOPAUSE -dBATCH -sDEVICE=pdfwrite -sOutputFile=%stdout% -c .setpdfwrite -f pdfs/total/document_207.pdf.old > pdfs/total/document_207.pdf.old.new.pdf\n",
        "gs -q -dNOPAUSE -dBATCH -sDEVICE=pdfwrite -sOutputFile=%stdout% -c .setpdfwrite -f pdfs/total/document_29.pdf.old > pdfs/total/document_29.pdf.old.new.pdf\n",
        "gs -q -dNOPAUSE -dBATCH -sDEVICE=pdfwrite -sOutputFile=%stdout% -c .setpdfwrite -f pdfs/total/document_53.pdf.old.new.pdf.old > pdfs/total/document_53.pdf.old.new.pdf.old.new.pdf\n",
        "gs -q -dNOPAUSE -dBATCH -sDEVICE=pdfwrite -sOutputFile=%stdout% -c .setpdfwrite -f pdfs/total/document_55.pdf.old > pdfs/total/document_55.pdf.old.new.pdf\n"
       ]
      }
     ],
     "prompt_number": 9
    },
    {
     "cell_type": "code",
     "collapsed": false,
     "input": [
      "#Saco los que me dieron error y que he modificado sus permisos y repito el proceso\n",
      "pdfs = glob.glob('pdfs/total/*.old.new.pdf')\n",
      "\n",
      "##itero sobre los pdfs\n",
      "#pdfs = ['pdfs/total/document_193.pdf']\n",
      "\n",
      "for pdf in pdfs:\n",
      "\n",
      "    \n",
      "    try:\n",
      "        nombre_empresa = obtenNombreEmpresa(pdf)\n",
      "        print nombre_empresa\n",
      "\n",
      "        texto= obten_txt_total_retribuciones(pdf,nombre_empresa)\n",
      "        #print \"Bien:\", nombre_empresa\n",
      "        txt_guardar = 'pdfs/2paginas/' + nombre_empresa + \".txt\"\n",
      "        text_file = open(txt_guardar, \"wb\")\n",
      "        text_file.write(texto)\n",
      "        text_file.close()\n",
      "    except Exception,e:\n",
      "        #Dan error de lectura, as\u00ed que le cambio los permisos con un comando de linux\n",
      "        nombre_mover = pdf + \".old\"\n",
      "        mvcommand = ['mv', pdf, nombre_mover]\n",
      "        gsProc = subprocess.call(mvcommand)\n",
      "        print \"\"\n",
      "        print \"******\"\n",
      "        print \"MAL\"\n",
      "        print \"pdf: \", pdf\n",
      "        print \"error:\", str(e)\n",
      "        print \"*****\"\n",
      "        print \"\"\n",
      "        \n",
      "\n",
      "print \"FIN\"\n",
      "\n",
      "\n",
      "\n",
      "\n",
      "\n"
     ],
     "language": "python",
     "metadata": {},
     "outputs": [
      {
       "output_type": "stream",
       "stream": "stdout",
       "text": [
        "BANCO BILBAO VIZCAYA ARGENTARIA, S.A.\n",
        "<pyPdf.pdf.PdfFileWriter object at 0x7f5949e3bad0>"
       ]
      },
      {
       "output_type": "stream",
       "stream": "stdout",
       "text": [
        "\n",
        "pdfs/2paginas/BANCO BILBAO VIZCAYA ARGENTARIA, S.A..pdf\n",
        "INDRA SISTEMAS, S.A."
       ]
      },
      {
       "output_type": "stream",
       "stream": "stdout",
       "text": [
        "\n",
        "<pyPdf.pdf.PdfFileWriter object at 0x7f596b643910>"
       ]
      },
      {
       "output_type": "stream",
       "stream": "stdout",
       "text": [
        "\n",
        "pdfs/2paginas/INDRA SISTEMAS, S.A..pdf\n",
        "LIBERBANK, S.A."
       ]
      },
      {
       "output_type": "stream",
       "stream": "stdout",
       "text": [
        "\n",
        "<pyPdf.pdf.PdfFileWriter object at 0x7f5949b52190>"
       ]
      },
      {
       "output_type": "stream",
       "stream": "stdout",
       "text": [
        "\n",
        "pdfs/2paginas/LIBERBANK, S.A..pdf\n",
        "PROMOTORA DE INFORMACIONES, S.A."
       ]
      },
      {
       "output_type": "stream",
       "stream": "stdout",
       "text": [
        "\n",
        "<pyPdf.pdf.PdfFileWriter object at 0x7f5949bc3e90>"
       ]
      },
      {
       "output_type": "stream",
       "stream": "stdout",
       "text": [
        "\n",
        "pdfs/2paginas/PROMOTORA DE INFORMACIONES, S.A..pdf\n",
        "TECNICAS REUNIDAS, S.A."
       ]
      },
      {
       "output_type": "stream",
       "stream": "stdout",
       "text": [
        "\n",
        "<pyPdf.pdf.PdfFileWriter object at 0x7f59498c6490>"
       ]
      },
      {
       "output_type": "stream",
       "stream": "stdout",
       "text": [
        "\n",
        "pdfs/2paginas/TECNICAS REUNIDAS, S.A..pdf\n",
        "BANCO SANTANDER, S.A."
       ]
      },
      {
       "output_type": "stream",
       "stream": "stdout",
       "text": [
        "\n",
        "<pyPdf.pdf.PdfFileWriter object at 0x7f5949bc3410>"
       ]
      },
      {
       "output_type": "stream",
       "stream": "stdout",
       "text": [
        "\n",
        "pdfs/2paginas/BANCO SANTANDER, S.A..pdf\n",
        "ECOLUMBER, S.A."
       ]
      },
      {
       "output_type": "stream",
       "stream": "stdout",
       "text": [
        "\n",
        "<pyPdf.pdf.PdfFileWriter object at 0x7f5949c552d0>"
       ]
      },
      {
       "output_type": "stream",
       "stream": "stdout",
       "text": [
        "\n",
        "pdfs/2paginas/ECOLUMBER, S.A..pdf\n",
        "MERLIN PROPERTIES, SOCIMI, S.A."
       ]
      },
      {
       "output_type": "stream",
       "stream": "stdout",
       "text": [
        "\n",
        "<pyPdf.pdf.PdfFileWriter object at 0x7f5949a770d0>"
       ]
      },
      {
       "output_type": "stream",
       "stream": "stdout",
       "text": [
        "\n",
        "pdfs/2paginas/MERLIN PROPERTIES, SOCIMI, S.A..pdf\n",
        "IBERDROLA, S.A."
       ]
      },
      {
       "output_type": "stream",
       "stream": "stdout",
       "text": [
        "\n",
        "<pyPdf.pdf.PdfFileWriter object at 0x7f5949e3b5d0>"
       ]
      },
      {
       "output_type": "stream",
       "stream": "stdout",
       "text": [
        "\n",
        "pdfs/2paginas/IBERDROLA, S.A..pdf\n",
        "INTERNATIONAL CONSOLIDATED AIRLINES GROUP, S.A."
       ]
      },
      {
       "output_type": "stream",
       "stream": "stdout",
       "text": [
        "\n",
        "<pyPdf.pdf.PdfFileWriter object at 0x7f5968203790>"
       ]
      },
      {
       "output_type": "stream",
       "stream": "stdout",
       "text": [
        "\n",
        "pdfs/2paginas/INTERNATIONAL CONSOLIDATED AIRLINES GROUP, S.A..pdf\n",
        "CAIXABANK, S.A."
       ]
      },
      {
       "output_type": "stream",
       "stream": "stdout",
       "text": [
        "\n",
        "<pyPdf.pdf.PdfFileWriter object at 0x7f594949a650>"
       ]
      },
      {
       "output_type": "stream",
       "stream": "stdout",
       "text": [
        "\n",
        "pdfs/2paginas/CAIXABANK, S.A..pdf\n",
        "ENAGAS, S.A."
       ]
      },
      {
       "output_type": "stream",
       "stream": "stdout",
       "text": [
        "\n",
        "<pyPdf.pdf.PdfFileWriter object at 0x7f5949d691d0>"
       ]
      },
      {
       "output_type": "stream",
       "stream": "stdout",
       "text": [
        "\n",
        "pdfs/2paginas/ENAGAS, S.A..pdf\n",
        "DISTRIBUIDORA INTERNACIONAL DE ALIMENTACION, S.A."
       ]
      },
      {
       "output_type": "stream",
       "stream": "stdout",
       "text": [
        "\n",
        "<pyPdf.pdf.PdfFileWriter object at 0x7f5968203ad0>"
       ]
      },
      {
       "output_type": "stream",
       "stream": "stdout",
       "text": [
        "\n",
        "pdfs/2paginas/DISTRIBUIDORA INTERNACIONAL DE ALIMENTACION, S.A..pdf\n",
        "CARTERA INDUSTRIAL REA, S.A."
       ]
      },
      {
       "output_type": "stream",
       "stream": "stdout",
       "text": [
        "\n",
        "<pyPdf.pdf.PdfFileWriter object at 0x7f5949b4e450>"
       ]
      },
      {
       "output_type": "stream",
       "stream": "stdout",
       "text": [
        "\n",
        "pdfs/2paginas/CARTERA INDUSTRIAL REA, S.A..pdf\n",
        "FIN\n"
       ]
      }
     ],
     "prompt_number": 11
    },
    {
     "cell_type": "code",
     "collapsed": false,
     "input": [
      "#Voy a crearme los objetos que almacenar\u00e1n el contenido de las tablas\n",
      "nombre_empresa = []\n",
      "consejero = []\n",
      "sociedad_total_metalico = []\n",
      "sociedad_acciones_otorgadas =[]\n",
      "sociedad_acciones_ejecutadas = []\n",
      "sociedad_total = []\n",
      "otras_total_metalico = []\n",
      "otras_acciones_otorgadas =[]\n",
      "otras_acciones_ejecutadas = []\n",
      "otras_total = []\n",
      "total_2014=[]\n",
      "total_2013=[]\n",
      "aportaciones_ahorro=[]\n",
      "\n",
      "#Este dataframe ser\u00e1 la tabla final\n",
      "retribuciones2 = pd.DataFrame()\n",
      "\n",
      "#Itero sobre los txts que me he creado anteriormente\n",
      "txts = glob.glob('pdfs/2paginas/*.txt')\n",
      "print len(txts)\n",
      "for txt in txts:\n",
      "    start = False\n",
      "    infile = open(txt, 'r')\n",
      "    nombre = txt.split(\"/\")\n",
      "    empresa = nombre[2]\n",
      "    empresa = empresa[:len(empresa)-4]\n",
      "    print empresa\n",
      "    for line in infile.readlines():\n",
      "        \n",
      "        if start:\n",
      "            \n",
      "            mach1 = re.findall('^Nombre',line.strip())\n",
      "            mach2 = re.findall('^TOTAL', line.strip())\n",
      "            if len(mach2)>0 or len(mach1)>0:\n",
      "               \n",
      "                start = False\n",
      "            else:\n",
      "                if len(line.replace(\" \", \"\"))>10:\n",
      "                    campos = line.split(\"  \")\n",
      "                    campos = filter(None, campos)\n",
      "    \n",
      "                    for i in range(0, len(campos)):\n",
      "                        campos[i] = campos[i].strip()\n",
      "                    \n",
      "                    if len(campos)== 12:\n",
      "                        nombre_empresa.append(empresa)\n",
      "                        consejero.append(campos[0])\n",
      "                        sociedad_total_metalico.append(campos[1])\n",
      "                        sociedad_acciones_otorgadas.append(campos[2])\n",
      "                        sociedad_acciones_ejecutadas.append(campos[3])\n",
      "                        sociedad_total.append(campos[4])\n",
      "                        otras_total_metalico.append(campos[5])\n",
      "                        otras_acciones_otorgadas.append(campos[6])\n",
      "                        otras_acciones_ejecutadas.append(campos[7])\n",
      "                        otras_total.append(campos[8])\n",
      "                        total_2014.append(campos[9])\n",
      "                        total_2013.append(campos[10])\n",
      "                        aportaciones_ahorro.append(campos[11])\n",
      "                    else:\n",
      "                        if len(campos)== 11:\n",
      "                            nombre_empresa.append(empresa)\n",
      "                            consejero.append(campos[0])\n",
      "                            sociedad_total_metalico.append(campos[1])\n",
      "                            sociedad_acciones_otorgadas.append(campos[2])\n",
      "                            sociedad_acciones_ejecutadas.append(campos[3])\n",
      "                            sociedad_total.append(campos[4])\n",
      "                            otras_total_metalico.append(campos[5])\n",
      "                            otras_acciones_otorgadas.append(campos[6])\n",
      "                            otras_acciones_ejecutadas.append(campos[7])\n",
      "                            otras_total.append(campos[8])\n",
      "                            total_2014.append(campos[9])\n",
      "                            total_2013.append('0')\n",
      "                            aportaciones_ahorro.append(campos[10])                \n",
      "                        else:\n",
      "                            print \"este da error: \", empresa, \"->\", campos\n",
      "        else:\n",
      "            mach = re.findall('^ejercicio',line.strip())\n",
      "            if len(mach)>0:\n",
      "                start= True\n",
      "                #consejeros.append(mach)\n",
      "                #fila_c = fila\n",
      "retribuciones2[\"nombre_empresa\"] = nombre_empresa\n",
      "retribuciones2[\"consejero\"] = consejero\n",
      "retribuciones2[\"sociedad_total_metalico\"] = sociedad_total_metalico\n",
      "retribuciones2[\"sociedad_acciones_otorgadas\"] = sociedad_acciones_otorgadas\n",
      "retribuciones2[\"sociedad_acciones_ejecutadas\"] = sociedad_acciones_ejecutadas\n",
      "retribuciones2[\"sociedad_total\"] = sociedad_total\n",
      "retribuciones2[\"otras_total_metalico\"] = otras_total_metalico\n",
      "retribuciones2[\"otras_acciones_otorgadas\"] = otras_acciones_otorgadas\n",
      "retribuciones2[\"otras_acciones_ejecutadas\"] = otras_acciones_ejecutadas\n",
      "retribuciones2[\"otras_total\"] = otras_total\n",
      "retribuciones2[\"total_2014\"] = total_2014\n",
      "retribuciones2[\"total_2013\"] = total_2013\n",
      "retribuciones2[\"aportaciones_ahorro\"] = aportaciones_ahorro\n",
      "\n",
      "\n",
      "retribuciones2.to_csv(\"retribuciones_final_total.csv\")"
     ],
     "language": "python",
     "metadata": {},
     "outputs": [
      {
       "output_type": "stream",
       "stream": "stdout",
       "text": [
        "133\n",
        "RENTA 4 BANCO, S.A.\n",
        "RED ELECTRICA CORPORACION, S.A.\n",
        "ENCE ENERGIA Y CELULOSA, S.A."
       ]
      },
      {
       "output_type": "stream",
       "stream": "stdout",
       "text": [
        "\n",
        "este da error:  ENCE ENERGIA Y CELULOSA, S.A. -> ['respectivamente, 1,95 \\xe2\\x82\\xac y entre el 31/03/2014 y el 30/06/2015.']\n",
        "este da error:  ENCE ENERGIA Y CELULOSA, S.A. -> ['Este informe anual de remuneraciones ha sido aprobado por el consejo de administraci\\xc3\\xb3n']\n",
        "este da error:  ENCE ENERGIA Y CELULOSA, S.A. -> ['de la sociedad, en su sesi\\xc3\\xb3n de fecha 26/02/2015.']\n",
        "este da error:  ENCE ENERGIA Y CELULOSA, S.A. -> ['Indique si ha habido consejeros que hayan votado en contra o se hayan abstenido en']\n",
        "este da error:  ENCE ENERGIA Y CELULOSA, S.A. -> ['relaci\\xc3\\xb3n con la aprobaci\\xc3\\xb3n del presente Informe.']\n",
        "BANKIA, S.A\n",
        "TUBACEX, S.A."
       ]
      },
      {
       "output_type": "stream",
       "stream": "stdout",
       "text": [
        "\n",
        "DEOLEO, S.A.\n",
        "AYCO GRUPO INMOBILIARIO, S.A."
       ]
      },
      {
       "output_type": "stream",
       "stream": "stdout",
       "text": [
        "\n",
        "este da error:  AYCO GRUPO INMOBILIARIO, S.A. -> ['GESTION, S.A.']\n",
        "ERCROS, S.A.\n",
        "MERLIN PROPERTIES, SOCIMI, S.A."
       ]
      },
      {
       "output_type": "stream",
       "stream": "stdout",
       "text": [
        "\n",
        "UNION CATALANA DE VALORES, S.A.\n",
        "COMPA\u00d1IA DE DISTRIBUCION INTEGRAL LOGISTA HOLDINGS, S.A.\n",
        "GENERAL DE ALQUILER DE MAQUINARIA, S.A.\n",
        "NICOLAS CORREA, S.A."
       ]
      },
      {
       "output_type": "stream",
       "stream": "stdout",
       "text": [
        "\n",
        "IBERDROLA, S.A.\n",
        "TESTA INMUEBLES EN RENTA, S.A.\n",
        "SACYR, S.A.\n",
        "PROMOTORA DE INFORMACIONES, S.A.\n",
        "ABENGOA, S.A.\n",
        "URBAS GRUPO FINANCIERO, S.A.\n",
        "COMPA\u00d1IA DE INVERSIONES MOBILIARIAS BARCINO, S.A.\n",
        "MIQUEL Y COSTAS & MIQUEL, S.A.\n",
        "BODEGAS RIOJANAS, S.A.\n",
        "este da error:  BODEGAS RIOJANAS, S.A. -> ['En cuanto a la retribuci\\xc3\\xb3n variable a percibir por el Director General de la sociedad, el cual tiene la consideraci\\xc3\\xb3n de']\n",
        "este da error:  BODEGAS RIOJANAS, S.A. -> ['Alta Direcci\\xc3\\xb3n y es a su vez consejero de la sociedad, se fija en funci\\xc3\\xb3n de los resultados obtenidos por la sociedad,']\n",
        "este da error:  BODEGAS RIOJANAS, S.A. -> ['y la consecuci\\xc3\\xb3n de los objetivos marcados por el Consejo de Administraci\\xc3\\xb3n, por lo que pese a que se encuentra']\n",
        "este da error:  BODEGAS RIOJANAS, S.A. -> ['pendiente de determinar el variable en funci\\xc3\\xb3n de los resultados y objetivos alcanzados en este ejercicio 2015, como as\\xc3\\xad']\n",
        "este da error:  BODEGAS RIOJANAS, S.A. -> ['queda expuesto en el punto A.4 del presente informe, lo previsible es que su variaci\\xc3\\xb3n sea coherente con los resultados']\n",
        "este da error:  BODEGAS RIOJANAS, S.A. -> ['obtenidos en el ejercicio.']\n",
        "este da error:  BODEGAS RIOJANAS, S.A. -> ['D.3 Informe del resultado de la votaci\\xc3\\xb3n consultiva de la junta general al informe anual sobre']\n",
        "este da error:  BODEGAS RIOJANAS, S.A. -> ['remuneraciones del ejercicio anterior, indicando el n\\xc3\\xbamero de votos negativos que en su']\n",
        "este da error:  BODEGAS RIOJANAS, S.A. -> ['caso se hayan emitido:']\n",
        "este da error:  BODEGAS RIOJANAS, S.A. -> ['N\\xc3\\xbamero', '% sobre']\n",
        "este da error:  BODEGAS RIOJANAS, S.A. -> ['Votos emitidos', '4.083.262', '76,62%']\n",
        "este da error:  BODEGAS RIOJANAS, S.A. -> ['N\\xc3\\xbamero', '% sobre']\n",
        "este da error:  BODEGAS RIOJANAS, S.A. -> ['Votos negativos', '101.463', '1,90%']\n",
        "este da error:  BODEGAS RIOJANAS, S.A. -> ['Votos a favor', '3.979.799', '74,68%']\n",
        "este da error:  BODEGAS RIOJANAS, S.A. -> ['Abstenciones', '2.000', '0,04%']\n",
        "este da error:  BODEGAS RIOJANAS, S.A. -> ['E OTRAS INFORMACIONES DE INTER\\xc3\\x89S']\n",
        "este da error:  BODEGAS RIOJANAS, S.A. -> ['Si existe alg\\xc3\\xban aspecto relevante en materia de remuneraci\\xc3\\xb3n de los consejeros que no se']\n",
        "este da error:  BODEGAS RIOJANAS, S.A. -> ['haya podido recoger en el resto de apartados del presente informe, pero que sea necesario']\n",
        "este da error:  BODEGAS RIOJANAS, S.A. -> ['incluir para recoger una informaci\\xc3\\xb3n m\\xc3\\xa1s completa y razonada sobre la estructura y pr\\xc3\\xa1cticas']\n",
        "este da error:  BODEGAS RIOJANAS, S.A. -> ['retributivas de la sociedad en relaci\\xc3\\xb3n con sus consejeros, det\\xc3\\xa1llelos brevemente.']\n",
        "este da error:  BODEGAS RIOJANAS, S.A. -> ['Nada que indicar. Todos los conceptos necesarios han quedado recogidos en los puntos anteriores del presente informe.']\n",
        "este da error:  BODEGAS RIOJANAS, S.A. -> ['Este informe anual de remuneraciones ha sido aprobado por el consejo de administraci\\xc3\\xb3n']\n",
        "este da error:  BODEGAS RIOJANAS, S.A. -> ['de la sociedad, en su sesi\\xc3\\xb3n de fecha 23/03/2015.']\n",
        "este da error:  BODEGAS RIOJANAS, S.A. -> ['Indique si ha habido consejeros que hayan votado en contra o se hayan abstenido en']\n",
        "este da error:  BODEGAS RIOJANAS, S.A. -> ['relaci\\xc3\\xb3n con la aprobaci\\xc3\\xb3n del presente Informe.']\n",
        "MEDIASET ESPA\u00d1A COMUNICACION, S.A.\n",
        "GRUPO CATALANA OCCIDENTE, S.A.\n",
        "MINERALES Y PRODUCTOS DERIVADOS, S.A.\n",
        "AZKOYEN, S.A."
       ]
      },
      {
       "output_type": "stream",
       "stream": "stdout",
       "text": [
        "\n",
        "EBRO FOODS, S.A.\n",
        "este da error:  EBRO FOODS, S.A. -> ['VALENCIANAS, S.L.']\n",
        "BANCO DE SABADELL, S.A.\n",
        "LINGOTES ESPECIALES, S.A.\n",
        "INMOBILIARIA DEL SUR, S.A.\n",
        "este da error:  INMOBILIARIA DEL SUR, S.A. -> ['COMERCIALES, S.L.']\n",
        "DISTRIBUIDORA INTERNACIONAL DE ALIMENTACION, S.A.\n",
        "COMPA\u00d1IA ESPA\u00d1OLA DE VIVIENDAS EN ALQUILER, S.A.\n",
        "CARTERA INDUSTRIAL REA, S.A.\n",
        "PRIM, S.A.\n",
        "LIWE ESPA\u00d1OLA, S.A.\n",
        "ZARDOYA OTIS, S.A.\n",
        "CONSTRUCCIONES Y AUXILIAR DE FERROCARRILES, S.A\n",
        "GAMESA CORPORACION TECNOLOGICA, S.A.\n",
        "BIOSEARCH, S.A.\n",
        "CLINICA BAVIERA, S.A.\n",
        "CODERE, S.A.\n",
        "DOGI INTERNATIONAL FABRICS SA\n",
        "DURO FELGUERA, S.A.\n",
        "este da error:  DURO FELGUERA, S.A. -> ['NORTE\\xc3\\x91AS, S.L.']\n",
        "CORPORACION FINANCIERA ALBA, S.A.\n",
        "SOLARIA ENERGIA Y MEDIOAMBIENTE, S.A.\n",
        "ALMIRALL, S.A.\n",
        "GRIFOLS, S.A.\n",
        "ALZA REAL ESTATE, S.A.\n",
        "GRUPO EZENTIS, S.A.\n",
        "REYAL URBIS, S.A.\n",
        "ECOLUMBER, S.A.\n",
        "UNION EUROPEA DE INVERSIONES, S.A.\n",
        "URBAR INGENIEROS, S.A.\n",
        "FERROVIAL, S.A."
       ]
      },
      {
       "output_type": "stream",
       "stream": "stdout",
       "text": [
        "\n",
        "este da error:  FERROVIAL, S.A. -> ['El detalle y desglose de los importes abonados individualmente se encuentra en el apartado D.1 anterior.']\n",
        "este da error:  FERROVIAL, S.A. -> ['D.3 Informe del resultado de la votaci\\xc3\\xb3n consultiva de la junta general al informe anual sobre']\n",
        "este da error:  FERROVIAL, S.A. -> ['remuneraciones del ejercicio anterior, indicando el n\\xc3\\xbamero de votos negativos que en su']\n",
        "este da error:  FERROVIAL, S.A. -> ['caso se hayan emitido:']\n",
        "este da error:  FERROVIAL, S.A. -> ['N\\xc3\\xbamero', '% sobre']\n",
        "este da error:  FERROVIAL, S.A. -> ['Votos emitidos', '502.830.208', '68,55%']\n",
        "este da error:  FERROVIAL, S.A. -> ['N\\xc3\\xbamero', '% sobre']\n",
        "este da error:  FERROVIAL, S.A. -> ['Votos negativos', '3.128.948', '0,62%']\n",
        "este da error:  FERROVIAL, S.A. -> ['Votos a favor', '499.471.816', '99,32%']\n",
        "este da error:  FERROVIAL, S.A. -> ['Abstenciones', '229.444', '0,05%']\n",
        "este da error:  FERROVIAL, S.A. -> ['E OTRAS INFORMACIONES DE INTER\\xc3\\x89S']\n",
        "este da error:  FERROVIAL, S.A. -> ['Si existe alg\\xc3\\xban aspecto relevante en materia de remuneraci\\xc3\\xb3n de los consejeros que no se']\n",
        "este da error:  FERROVIAL, S.A. -> ['haya podido recoger en el resto de apartados del presente informe, pero que sea necesario']\n",
        "este da error:  FERROVIAL, S.A. -> ['incluir para recoger una informaci\\xc3\\xb3n m\\xc3\\xa1s completa y razonada sobre la estructura y pr\\xc3\\xa1cticas']\n",
        "este da error:  FERROVIAL, S.A. -> ['retributivas de la sociedad en relaci\\xc3\\xb3n con sus consejeros, det\\xc3\\xa1llelos brevemente.']\n",
        "este da error:  FERROVIAL, S.A. -> ['La Junta General de Accionistas de fecha 22 de octubre de 2009 estableci\\xc3\\xb3 una retribuci\\xc3\\xb3n fija anual, para el conjunto de']\n",
        "este da error:  FERROVIAL, S.A. -> ['los miembros que en ese momento formaban parte del Consejo de Administraci\\xc3\\xb3n, de 1.772.727\\xe2\\x82\\xac, ajustable en funci\\xc3\\xb3n']\n",
        "este da error:  FERROVIAL, S.A. -> ['de la variaciones que se produzcan en el n\\xc3\\xbamero de consejeros y en atenci\\xc3\\xb3n al tiempo de permanencia en el cargo']\n",
        "este da error:  FERROVIAL, S.A. -> ['de los consejeros entrantes y salientes. Adicionalmente, la Junta General de Accionistas determin\\xc3\\xb3 que, para ejercicios']\n",
        "este da error:  FERROVIAL, S.A. -> ['sucesivos, el importe establecido en 2009 se revisar\\xc3\\xa1 autom\\xc3\\xa1ticamente con arreglo a la variaci\\xc3\\xb3n que experimente la']\n",
        "este da error:  FERROVIAL, S.A. -> ['tasa interanual del mes de diciembre de cada ejercicio correspondiente al IPC que se publica por el Instituto Nacional de']\n",
        "este da error:  FERROVIAL, S.A. -> ['Estad\\xc3\\xadstica. En consecuencia, la cantidad fija anual y conjunta de los consejeros, determinada, por la Junta General de']\n",
        "este da error:  FERROVIAL, S.A. -> ['Accionistas de la Sociedad, toma como referencia el importe del ejercicio anterior, revisado conforme a la variaci\\xc3\\xb3n del']\n",
        "este da error:  FERROVIAL, S.A. -> ['IPC, y ajustado a las altas y bajas que se hayan producido en el ejercicio.']\n",
        "este da error:  FERROVIAL, S.A. -> ['D. Joaqu\\xc3\\xadn Ayuso Garc\\xc3\\xada ces\\xc3\\xb3 en sus funciones ejecutivas con fecha 29 de noviembre de 2012. Conserva opciones']\n",
        "este da error:  FERROVIAL, S.A. -> ['asignadas al amparo de los mencionados planes de opciones de 2008 (609.600 a 31.12.2014), con ocasi\\xc3\\xb3n del']\n",
        "este da error:  FERROVIAL, S.A. -> ['desempe\\xc3\\xb1o de funciones ejecutivas.']\n",
        "este da error:  FERROVIAL, S.A. -> ['En referencia a las retribuciones de los consejeros en su condici\\xc3\\xb3n de tales, si como consecuencia de un n\\xc3\\xbamero de']\n",
        "este da error:  FERROVIAL, S.A. -> ['reuniones superiores al inicialmente previsto o por otro motivo, el importe de las dietas sumado al de los componentes']\n",
        "este da error:  FERROVIAL, S.A. -> ['fijos fuera superior al importe m\\xc3\\xa1ximo total en concepto de remuneraci\\xc3\\xb3n por pertenencia al Consejo establecido para']\n",
        "este da error:  FERROVIAL, S.A. -> ['el a\\xc3\\xb1o en curso, la diferencia se deducir\\xc3\\xa1 del importe de la asignaci\\xc3\\xb3n fija complementaria proporcionalmente a cada']\n",
        "este da error:  FERROVIAL, S.A. -> ['Consejero seg\\xc3\\xban su condici\\xc3\\xb3n.']\n",
        "este da error:  FERROVIAL, S.A. -> ['Para el a\\xc3\\xb1o 2014 esta circunstancia se ha producido y, por lo tanto, se ha deducido la diferencia de la asignaci\\xc3\\xb3n fija']\n",
        "este da error:  FERROVIAL, S.A. -> ['complementaria, proporcionalmente seg\\xc3\\xban la condici\\xc3\\xb3n de cada consejero, siendo el c\\xc3\\xa1lculo final el siguiente:']\n",
        "SOTOGRANDE, S.A.\n",
        "ACCIONA, S.A.\n",
        "este da error:  ACCIONA, S.A. -> ['BERNALDO DE QUIR\\xc3\\x93S']\n",
        "FAES FARMA, S.A.\n",
        "este da error:  FAES FARMA, S.A. -> ['IRIBARNEGARAY']\n",
        "QUABIT INMOBILIARIA, S.A.\n",
        "ATRESMEDIA CORPORACION DE MEDIOS DE COMUNICACION, S.A.\n",
        "FERSA ENERGIAS RENOVABLES, S.A.\n",
        "MONTEBALITO, S.A.\n",
        "JAZZTEL, PLC.\n",
        "RENTA CORPORACION REAL ESTATE, S.A.\n",
        "PESCANOVA, S.A.\n",
        "este da error:  PESCANOVA, S.A. -> ['FERNANDO HERCE MEL\\xc3\\x89NDREZ)']\n",
        "TR HOTEL JARDIN DEL MAR, S.A.\n",
        "INVERFIATC, S.A.\n",
        "PROSEGUR COMPA\u00d1IA DE SEGURIDAD S.A\n",
        "VISCOFAN, S.A.\n",
        "FOMENTO DE CONSTRUCCIONES Y CONTRATAS, S.A.\n",
        "INDUSTRIA DE DISE\u00d1O TEXTIL, S.A.\n",
        "este da error:  INDUSTRIA DE DISE\u00d1O TEXTIL, S.A. -> ['BERNALDO DE QUIR\\xc3\\x93S']\n",
        "FINANZAS E INVERSIONES VALENCIANAS, S.A.\n",
        "INVERPYME, S.A.(EN LIQUIDACION)\n",
        "BANKINTER, S.A."
       ]
      },
      {
       "output_type": "stream",
       "stream": "stdout",
       "text": [
        "\n",
        "APPLUS SERVICES, S.A.\n",
        "este da error:  APPLUS SERVICES, S.A. -> ['D.3 Informe del resultado de la votaci\\xc3\\xb3n consultiva de la junta general al informe anual sobre']\n",
        "este da error:  APPLUS SERVICES, S.A. -> ['remuneraciones del ejercicio anterior, indicando el n\\xc3\\xbamero de votos negativos que en su']\n",
        "este da error:  APPLUS SERVICES, S.A. -> ['caso se hayan emitido:']\n",
        "este da error:  APPLUS SERVICES, S.A. -> ['N\\xc3\\xbamero', '% sobre']\n",
        "este da error:  APPLUS SERVICES, S.A. -> ['Votos emitidos', '0', '0,00%']\n",
        "este da error:  APPLUS SERVICES, S.A. -> ['N\\xc3\\xbamero', '% sobre']\n",
        "este da error:  APPLUS SERVICES, S.A. -> ['Votos negativos', '0', '0,00%']\n",
        "este da error:  APPLUS SERVICES, S.A. -> ['Votos a favor', '0', '0,00%']\n",
        "este da error:  APPLUS SERVICES, S.A. -> ['Abstenciones', '0', '0,00%']\n",
        "este da error:  APPLUS SERVICES, S.A. -> ['E OTRAS INFORMACIONES DE INTER\\xc3\\x89S']\n",
        "este da error:  APPLUS SERVICES, S.A. -> ['Si existe alg\\xc3\\xban aspecto relevante en materia de remuneraci\\xc3\\xb3n de los consejeros que no se']\n",
        "este da error:  APPLUS SERVICES, S.A. -> ['haya podido recoger en el resto de apartados del presente informe, pero que sea necesario']\n",
        "este da error:  APPLUS SERVICES, S.A. -> ['incluir para recoger una informaci\\xc3\\xb3n m\\xc3\\xa1s completa y razonada sobre la estructura y pr\\xc3\\xa1cticas']\n",
        "este da error:  APPLUS SERVICES, S.A. -> ['retributivas de la sociedad en relaci\\xc3\\xb3n con sus consejeros, det\\xc3\\xa1llelos brevemente.']\n",
        "este da error:  APPLUS SERVICES, S.A. -> ['En el apartado D.3 anterior no se ha incluido el resultado de la votaci\\xc3\\xb3n consultiva de la junta general al informe anual']\n",
        "este da error:  APPLUS SERVICES, S.A. -> ['sobre remuneraciones del ejercicio anterior, puesto que en dicho ejercicio la Sociedad no ten\\xc3\\xada la obligaci\\xc3\\xb3n de realizar el']\n",
        "este da error:  APPLUS SERVICES, S.A. -> ['mencionado informe.']\n",
        "este da error:  APPLUS SERVICES, S.A. -> ['Este informe anual de remuneraciones ha sido aprobado por el consejo de administraci\\xc3\\xb3n']\n",
        "este da error:  APPLUS SERVICES, S.A. -> ['de la sociedad, en su sesi\\xc3\\xb3n de fecha 24/02/2015.']\n",
        "este da error:  APPLUS SERVICES, S.A. -> ['Indique si ha habido consejeros que hayan votado en contra o se hayan abstenido en']\n",
        "este da error:  APPLUS SERVICES, S.A. -> ['relaci\\xc3\\xb3n con la aprobaci\\xc3\\xb3n del presente Informe.']\n",
        "TUBOS REUNIDOS, S.A.\n",
        "VOCENTO, S.A.\n",
        "este da error:  VOCENTO, S.A. -> ['Apartado 2 de la Ley 31/2014, de 3 de diciembre, se considerar\\xc3\\xa1 como la pol\\xc3\\xadtica de remuneraciones de los Consejeros']\n",
        "este da error:  VOCENTO, S.A. -> ['exigida por el art\\xc3\\xadculo 529 novodecies de la Ley de Sociedades de Capital.']\n",
        "este da error:  VOCENTO, S.A. -> ['Todos los consejeros de Vocento han votado a favor en relaci\\xc3\\xb3n con la aprobaci\\xc3\\xb3n del presente Informe.']\n",
        "este da error:  VOCENTO, S.A. -> ['OTRAS INFORMACIONES ADICIONALES DE SECCIONES ANTERIORES:']\n",
        "MAPFRE, S.A.\n",
        "AMADEUS IT HOLDING, S.A.\n",
        "INMOBILIARIA COLONIAL, S.A.\n",
        "ENAGAS, S.A.\n",
        "este da error:  ENAGAS, S.A. -> ['INDUSTRIALES (SEPI)']\n",
        "TECNOCOM, TELECOMUNICACIONES Y ENERGIA, S.A.\n",
        "ADVEO GROUP INTERNATIONAL, S.A.\n",
        "este da error:  ADVEO GROUP INTERNATIONAL, S.A. -> ['La base para determinar la retribuci\\xc3\\xb3n conjunta del Consejo de Administraci\\xc3\\xb3n se calcular\\xc3\\xa1 como la suma del Beneficio']\n",
        "este da error:  ADVEO GROUP INTERNATIONAL, S.A. -> ['antes de Impuestos (tomado de la Cuenta de Resultados Separada Consolidada) y el Total de Ingresos y Gastos']\n",
        "este da error:  ADVEO GROUP INTERNATIONAL, S.A. -> ['imputados directamente en el Patrimonio Neto (tomado del Estado de Resultados Global Consolidado).']\n",
        "este da error:  ADVEO GROUP INTERNATIONAL, S.A. -> ['Consecuencia de ello cualquier variaci\\xc3\\xb3n significativa en los resultados consolidados variar\\xc3\\xa1 la remuneraci\\xc3\\xb3n de los']\n",
        "este da error:  ADVEO GROUP INTERNATIONAL, S.A. -> ['Consejeros.']\n",
        "este da error:  ADVEO GROUP INTERNATIONAL, S.A. -> ['Debido a la ausencia de resultado en el ejercicio 2013, los Consejeros no Ejecutivos no han percibido en 2014 ninguna']\n",
        "este da error:  ADVEO GROUP INTERNATIONAL, S.A. -> ['retribuci\\xc3\\xb3n variable, habi\\xc3\\xa9ndose limitado su retribuci\\xc3\\xb3n a las dietas de asistencia a las reuniones del Consejo y sus']\n",
        "este da error:  ADVEO GROUP INTERNATIONAL, S.A. -> ['Comisiones, en los importes fijados por la Junta General de Accionistas de la Sociedad.']\n",
        "este da error:  ADVEO GROUP INTERNATIONAL, S.A. -> ['D.3 Informe del resultado de la votaci\\xc3\\xb3n consultiva de la junta general al informe anual sobre']\n",
        "este da error:  ADVEO GROUP INTERNATIONAL, S.A. -> ['remuneraciones del ejercicio anterior, indicando el n\\xc3\\xbamero de votos negativos que en su']\n",
        "este da error:  ADVEO GROUP INTERNATIONAL, S.A. -> ['caso se hayan emitido:']\n",
        "este da error:  ADVEO GROUP INTERNATIONAL, S.A. -> ['N\\xc3\\xbamero', '% sobre']\n",
        "este da error:  ADVEO GROUP INTERNATIONAL, S.A. -> ['Votos emitidos', '8.632.608', '100,00%']\n",
        "este da error:  ADVEO GROUP INTERNATIONAL, S.A. -> ['N\\xc3\\xbamero', '% sobre']\n",
        "este da error:  ADVEO GROUP INTERNATIONAL, S.A. -> ['Votos negativos', '0', '0,00%']\n",
        "este da error:  ADVEO GROUP INTERNATIONAL, S.A. -> ['Votos a favor', '8.632.608', '100,00%']\n",
        "este da error:  ADVEO GROUP INTERNATIONAL, S.A. -> ['Abstenciones', '0', '0,00%']\n",
        "este da error:  ADVEO GROUP INTERNATIONAL, S.A. -> ['E OTRAS INFORMACIONES DE INTER\\xc3\\x89S']\n",
        "este da error:  ADVEO GROUP INTERNATIONAL, S.A. -> ['Si existe alg\\xc3\\xban aspecto relevante en materia de remuneraci\\xc3\\xb3n de los consejeros que no se']\n",
        "este da error:  ADVEO GROUP INTERNATIONAL, S.A. -> ['haya podido recoger en el resto de apartados del presente informe, pero que sea necesario']\n",
        "este da error:  ADVEO GROUP INTERNATIONAL, S.A. -> ['incluir para recoger una informaci\\xc3\\xb3n m\\xc3\\xa1s completa y razonada sobre la estructura y pr\\xc3\\xa1cticas']\n",
        "este da error:  ADVEO GROUP INTERNATIONAL, S.A. -> ['retributivas de la sociedad en relaci\\xc3\\xb3n con sus consejeros, det\\xc3\\xa1llelos brevemente.']\n",
        "este da error:  ADVEO GROUP INTERNATIONAL, S.A. -> ['Este informe anual de remuneraciones ha sido aprobado por el consejo de administraci\\xc3\\xb3n']\n",
        "este da error:  ADVEO GROUP INTERNATIONAL, S.A. -> ['de la sociedad, en su sesi\\xc3\\xb3n de fecha 24/03/2014.']\n",
        "este da error:  ADVEO GROUP INTERNATIONAL, S.A. -> ['Indique si ha habido consejeros que hayan votado en contra o se hayan abstenido en']\n",
        "este da error:  ADVEO GROUP INTERNATIONAL, S.A. -> ['relaci\\xc3\\xb3n con la aprobaci\\xc3\\xb3n del presente Informe.']\n",
        "ACS, ACTIVIDADES DE CONSTRUCCION Y SERVICIOS, S.A.\n",
        "INDRA SISTEMAS, S.A.\n",
        "BANCO BILBAO VIZCAYA ARGENTARIA, S.A.\n",
        "COMPA\u00d1IA LOGISTICA DE HIDROCARBUROS CLH, S.A.\n",
        "FUNESPA\u00d1A, S.A.\n",
        "este da error:  FUNESPA\u00d1A, S.A. -> ['REASEGUROS, S.A.']\n",
        "este da error:  FUNESPA\u00d1A, S.A. -> ['REASEGUROS, S.A.']\n",
        "TECNICAS REUNIDAS, S.A.\n",
        "este da error:  TECNICAS REUNIDAS, S.A. -> ['y 4.499 millones de euros, respectivamente.']\n",
        "este da error:  TECNICAS REUNIDAS, S.A. -> ['Como consecuencia de estos resultados satisfactorios de la Sociedad, el importe global del dividendo anual repartido']\n",
        "este da error:  TECNICAS REUNIDAS, S.A. -> ['en cada uno de los \\xc3\\xbaltimos ejercicios asciende a 75 millones de euros, de conformidad con las mejores pr\\xc3\\xa1cticas y']\n",
        "este da error:  TECNICAS REUNIDAS, S.A. -> ['recomendaciones internacionales.']\n",
        "este da error:  TECNICAS REUNIDAS, S.A. -> ['D.3 Informe del resultado de la votaci\\xc3\\xb3n consultiva de la junta general al informe anual sobre']\n",
        "este da error:  TECNICAS REUNIDAS, S.A. -> ['remuneraciones del ejercicio anterior, indicando el n\\xc3\\xbamero de votos negativos que en su']\n",
        "este da error:  TECNICAS REUNIDAS, S.A. -> ['caso se hayan emitido:']\n",
        "este da error:  TECNICAS REUNIDAS, S.A. -> ['N\\xc3\\xbamero', '% sobre']\n",
        "este da error:  TECNICAS REUNIDAS, S.A. -> ['Votos emitidos', '35.890.475', '64,21%']\n",
        "este da error:  TECNICAS REUNIDAS, S.A. -> ['N\\xc3\\xbamero', '% sobre']\n",
        "este da error:  TECNICAS REUNIDAS, S.A. -> ['Votos negativos', '164.350', '0,46%']\n",
        "este da error:  TECNICAS REUNIDAS, S.A. -> ['Votos a favor', '34.682.367', '96,63%']\n",
        "este da error:  TECNICAS REUNIDAS, S.A. -> ['Abstenciones', '1.043.758', '2,91%']\n",
        "este da error:  TECNICAS REUNIDAS, S.A. -> ['E OTRAS INFORMACIONES DE INTER\\xc3\\x89S']\n",
        "este da error:  TECNICAS REUNIDAS, S.A. -> ['Si existe alg\\xc3\\xban aspecto relevante en materia de remuneraci\\xc3\\xb3n de los consejeros que no se']\n",
        "este da error:  TECNICAS REUNIDAS, S.A. -> ['haya podido recoger en el resto de apartados del presente informe, pero que sea necesario']\n",
        "este da error:  TECNICAS REUNIDAS, S.A. -> ['incluir para recoger una informaci\\xc3\\xb3n m\\xc3\\xa1s completa y razonada sobre la estructura y pr\\xc3\\xa1cticas']\n",
        "este da error:  TECNICAS REUNIDAS, S.A. -> ['retributivas de la sociedad en relaci\\xc3\\xb3n con sus consejeros, det\\xc3\\xa1llelos brevemente.']\n",
        "este da error:  TECNICAS REUNIDAS, S.A. -> ['Se adjunta documento referido al importe de las adjudicaciones y al volumen de la cartera de pedidos en los 3 \\xc3\\xbaltimos']\n",
        "este da error:  TECNICAS REUNIDAS, S.A. -> ['ejercicios de la Sociedad.']\n",
        "este da error:  TECNICAS REUNIDAS, S.A. -> ['Este informe anual de remuneraciones ha sido aprobado por el consejo de administraci\\xc3\\xb3n']\n",
        "este da error:  TECNICAS REUNIDAS, S.A. -> ['de la sociedad, en su sesi\\xc3\\xb3n de fecha 26/02/2015.']\n",
        "este da error:  TECNICAS REUNIDAS, S.A. -> ['Indique si ha habido consejeros que hayan votado en contra o se hayan abstenido en']\n",
        "este da error:  TECNICAS REUNIDAS, S.A. -> ['relaci\\xc3\\xb3n con la aprobaci\\xc3\\xb3n del presente Informe.']\n",
        "ELECNOR, S.A.\n",
        "REALIA BUSINESS, S.A.\n",
        "este da error:  REALIA BUSINESS, S.A. -> ['D.1.c) Las cantidades reflejadas en el apartado \\xe2\\x80\\x9cAportaciones a sistemas de ahorro durante el ejercicio\\xe2\\x80\\x9d comprenden las']\n",
        "este da error:  REALIA BUSINESS, S.A. -> ['aportaciones realizadas por la empresa a un Plan de Pensiones y a una P\\xc3\\xb3liza de excesos, conforme al siguiente detalle:']\n",
        "este da error:  REALIA BUSINESS, S.A. -> ['Consejero: D. Ignacio Bay\\xc3\\xb3n Marin\\xc3\\xa9.']\n",
        "este da error:  REALIA BUSINESS, S.A. -> ['Aportaci\\xc3\\xb3n al Plan de Pensiones: 12,5 miles de \\xe2\\x82\\xac.']\n",
        "este da error:  REALIA BUSINESS, S.A. -> ['Aportaci\\xc3\\xb3n a la P\\xc3\\xb3liza de excesos: 32,9 miles de \\xe2\\x82\\xac.']\n",
        "este da error:  REALIA BUSINESS, S.A. -> ['Consejero: D. I\\xc3\\xb1igo Aldaz Barrera.']\n",
        "este da error:  REALIA BUSINESS, S.A. -> ['Aportaci\\xc3\\xb3n al Plan de Pensiones: 12,5 miles de \\xe2\\x82\\xac.']\n",
        "este da error:  REALIA BUSINESS, S.A. -> ['Aportaci\\xc3\\xb3n a la P\\xc3\\xb3liza de excesos: 25,3 miles de \\xe2\\x82\\xac.']\n",
        "este da error:  REALIA BUSINESS, S.A. -> ['En relaci\\xc3\\xb3n con todos los datos econ\\xc3\\xb3micos reflejados en los cuadros del apartado D) pueden sufrir ciertas diferencias con']\n",
        "este da error:  REALIA BUSINESS, S.A. -> ['la realidad, ya que el programa no admite la inclusi\\xc3\\xb3n de decimales.']\n",
        "este da error:  REALIA BUSINESS, S.A. -> ['Este informe anual de remuneraciones ha sido aprobado por el consejo de administraci\\xc3\\xb3n']\n",
        "este da error:  REALIA BUSINESS, S.A. -> ['de la sociedad, en su sesi\\xc3\\xb3n de fecha 27/02/2015.']\n",
        "LA SEDA DE BARCELONA, S.A.(EN LIQUIDACION)\n",
        "LABORATORIOS FARMACEUTICOS ROVI, S.A.\n",
        "GAS NATURAL SDG, S.A.\n",
        "CIE AUTOMOTIVE, S.A.\n",
        "S.A. RONSA\n",
        "CAIXABANK, S.A.\n",
        "FLUIDRA, S.A.\n",
        "BODEGAS BILBAINAS, S.A.\n",
        "NATRACEUTICAL, S.A.\n",
        "CEMENTOS MOLINS, S.A.\n",
        "DESARROLLOS ESPECIALES DE SISTEMAS DE ANCLAJES, S.A.\n",
        "BANCO POPULAR ESPA\u00d1OL, S.A.\n",
        "este da error:  BANCO POPULAR ESPA\u00d1OL, S.A. -> ['ESPA\\xc3\\x91OL, S.A']\n",
        "LIBERBANK, S.A.\n",
        "URALITA, S.A.\n",
        "MOBILIARIA MONESA, S.A.\n",
        "AXIA REAL ESTATE SOCIMI, S.A.\n",
        "PAPELES Y CARTONES DE EUROPA, S.A.\n",
        "REPSOL, S.A\n",
        "VIDRALA, S.A.\n",
        "NYESA VALORES CORPORACION, S.A.\n",
        "ABERTIS INFRAESTRUCTURAS, S.A.\n",
        "LAR ESPA\u00d1A REAL ESTATE SOCIMI, S.A.\n",
        "ENDESA, S.A.\n",
        "HISPANIA ACTIVOS INMOBILIARIOS, S.A.\n",
        "IBERPAPEL GESTION, S.A.\n",
        "INTERNATIONAL CONSOLIDATED AIRLINES GROUP, S.A.\n",
        "MELIA HOTELS INTERNATIONAL S.A.\n",
        "BARON DE LEY, S.A.\n",
        "NH HOTEL GROUP S.A.\n",
        "GRUPO EMPRESARIAL SAN JOSE, S.A."
       ]
      },
      {
       "output_type": "stream",
       "stream": "stdout",
       "text": [
        "\n",
        "COMPA\u00d1IA LEVANTINA DE EDIFICACION Y OBRAS PUBLICAS, S.A.\n",
        "TELEFONICA, S.A.\n",
        "LIBERTAS 7, S.A.\n",
        "DINAMIA CAPITAL PRIVADO, S.A., SCR\n",
        "OBRASCON HUARTE LAIN, S.A.\n",
        "SNIACE, S.A.\n",
        "INYPSA INFORMES Y PROYECTOS, S.A.\n",
        "SOCIEDAD ANONIMA HULLERA VASCO-LEONESA\n",
        "ACERINOX, S.A.\n",
        "SAINT CROIX HOLDING IMMOBILIER, SOCIMI, S.A.\n",
        "BOLSAS Y MERCADOS ESPA\u00d1OLES, SDAD HOLDING DE MDOS Y\n",
        "BANCO SANTANDER, S.A.\n",
        "INDO INTERNACIONAL, S.A (EN LIQUIDACION)\n"
       ]
      }
     ],
     "prompt_number": 12
    },
    {
     "cell_type": "code",
     "collapsed": false,
     "input": [
      "print (retribuciones2.nombre_empresa.unique())"
     ],
     "language": "python",
     "metadata": {},
     "outputs": [
      {
       "output_type": "stream",
       "stream": "stdout",
       "text": [
        "['RENTA 4 BANCO, S.A.' 'RED ELECTRICA CORPORACION, S.A.'\n",
        " 'ENCE ENERGIA Y CELULOSA, S.A.' 'BANKIA, S.A' 'TUBACEX, S.A.'\n",
        " 'DEOLEO, S.A.' 'AYCO GRUPO INMOBILIARIO, S.A.' 'ERCROS, S.A.'\n",
        " 'MERLIN PROPERTIES, SOCIMI, S.A.' 'UNION CATALANA DE VALORES, S.A.'\n",
        " 'COMPA\\xc3\\x91IA DE DISTRIBUCION INTEGRAL LOGISTA HOLDINGS, S.A.'\n",
        " 'GENERAL DE ALQUILER DE MAQUINARIA, S.A.' 'NICOLAS CORREA, S.A.'\n",
        " 'IBERDROLA, S.A.' 'TESTA INMUEBLES EN RENTA, S.A.' 'SACYR, S.A.'\n",
        " 'PROMOTORA DE INFORMACIONES, S.A.' 'ABENGOA, S.A.'\n",
        " 'URBAS GRUPO FINANCIERO, S.A.'\n",
        " 'COMPA\\xc3\\x91IA DE INVERSIONES MOBILIARIAS BARCINO, S.A.'\n",
        " 'MIQUEL Y COSTAS & MIQUEL, S.A.' 'BODEGAS RIOJANAS, S.A.'\n",
        " 'MEDIASET ESPA\\xc3\\x91A COMUNICACION, S.A.'\n",
        " 'GRUPO CATALANA OCCIDENTE, S.A.' 'MINERALES Y PRODUCTOS DERIVADOS, S.A.'\n",
        " 'AZKOYEN, S.A.' 'EBRO FOODS, S.A.' 'BANCO DE SABADELL, S.A.'\n",
        " 'LINGOTES ESPECIALES, S.A.' 'INMOBILIARIA DEL SUR, S.A.'\n",
        " 'DISTRIBUIDORA INTERNACIONAL DE ALIMENTACION, S.A.'\n",
        " 'COMPA\\xc3\\x91IA ESPA\\xc3\\x91OLA DE VIVIENDAS EN ALQUILER, S.A.'\n",
        " 'CARTERA INDUSTRIAL REA, S.A.' 'PRIM, S.A.' 'LIWE ESPA\\xc3\\x91OLA, S.A.'\n",
        " 'ZARDOYA OTIS, S.A.' 'CONSTRUCCIONES Y AUXILIAR DE FERROCARRILES, S.A'\n",
        " 'GAMESA CORPORACION TECNOLOGICA, S.A.' 'BIOSEARCH, S.A.'\n",
        " 'CLINICA BAVIERA, S.A.' 'CODERE, S.A.' 'DOGI INTERNATIONAL FABRICS SA'\n",
        " 'DURO FELGUERA, S.A.' 'CORPORACION FINANCIERA ALBA, S.A.'\n",
        " 'SOLARIA ENERGIA Y MEDIOAMBIENTE, S.A.' 'ALMIRALL, S.A.' 'GRIFOLS, S.A.'\n",
        " 'ALZA REAL ESTATE, S.A.' 'GRUPO EZENTIS, S.A.' 'REYAL URBIS, S.A.'\n",
        " 'ECOLUMBER, S.A.' 'UNION EUROPEA DE INVERSIONES, S.A.'\n",
        " 'URBAR INGENIEROS, S.A.' 'FERROVIAL, S.A.' 'SOTOGRANDE, S.A.'\n",
        " 'ACCIONA, S.A.' 'FAES FARMA, S.A.' 'QUABIT INMOBILIARIA, S.A.'\n",
        " 'ATRESMEDIA CORPORACION DE MEDIOS DE COMUNICACION, S.A.'\n",
        " 'FERSA ENERGIAS RENOVABLES, S.A.' 'MONTEBALITO, S.A.' 'JAZZTEL, PLC.'\n",
        " 'RENTA CORPORACION REAL ESTATE, S.A.' 'PESCANOVA, S.A.'\n",
        " 'TR HOTEL JARDIN DEL MAR, S.A.' 'INVERFIATC, S.A.'\n",
        " 'PROSEGUR COMPA\\xc3\\x91IA DE SEGURIDAD S.A' 'VISCOFAN, S.A.'\n",
        " 'FOMENTO DE CONSTRUCCIONES Y CONTRATAS, S.A.'\n",
        " 'INDUSTRIA DE DISE\\xc3\\x91O TEXTIL, S.A.'\n",
        " 'FINANZAS E INVERSIONES VALENCIANAS, S.A.'\n",
        " 'INVERPYME, S.A.(EN LIQUIDACION)' 'BANKINTER, S.A.'\n",
        " 'APPLUS SERVICES, S.A.' 'TUBOS REUNIDOS, S.A.' 'VOCENTO, S.A.'\n",
        " 'MAPFRE, S.A.' 'AMADEUS IT HOLDING, S.A.' 'INMOBILIARIA COLONIAL, S.A.'\n",
        " 'ENAGAS, S.A.' 'TECNOCOM, TELECOMUNICACIONES Y ENERGIA, S.A.'\n",
        " 'ADVEO GROUP INTERNATIONAL, S.A.'\n",
        " 'ACS, ACTIVIDADES DE CONSTRUCCION Y SERVICIOS, S.A.'\n",
        " 'INDRA SISTEMAS, S.A.' 'BANCO BILBAO VIZCAYA ARGENTARIA, S.A.'\n",
        " 'COMPA\\xc3\\x91IA LOGISTICA DE HIDROCARBUROS CLH, S.A.'\n",
        " 'FUNESPA\\xc3\\x91A, S.A.' 'TECNICAS REUNIDAS, S.A.' 'ELECNOR, S.A.'\n",
        " 'REALIA BUSINESS, S.A.' 'LA SEDA DE BARCELONA, S.A.(EN LIQUIDACION)'\n",
        " 'LABORATORIOS FARMACEUTICOS ROVI, S.A.' 'GAS NATURAL SDG, S.A.'\n",
        " 'CIE AUTOMOTIVE, S.A.' 'S.A. RONSA' 'CAIXABANK, S.A.' 'FLUIDRA, S.A.'\n",
        " 'BODEGAS BILBAINAS, S.A.' 'NATRACEUTICAL, S.A.' 'CEMENTOS MOLINS, S.A.'\n",
        " 'DESARROLLOS ESPECIALES DE SISTEMAS DE ANCLAJES, S.A.'\n",
        " 'BANCO POPULAR ESPA\\xc3\\x91OL, S.A.' 'LIBERBANK, S.A.' 'URALITA, S.A.'\n",
        " 'MOBILIARIA MONESA, S.A.' 'AXIA REAL ESTATE SOCIMI, S.A.'\n",
        " 'PAPELES Y CARTONES DE EUROPA, S.A.' 'REPSOL, S.A' 'VIDRALA, S.A.'\n",
        " 'NYESA VALORES CORPORACION, S.A.' 'ABERTIS INFRAESTRUCTURAS, S.A.'\n",
        " 'LAR ESPA\\xc3\\x91A REAL ESTATE SOCIMI, S.A.' 'ENDESA, S.A.'\n",
        " 'HISPANIA ACTIVOS INMOBILIARIOS, S.A.' 'IBERPAPEL GESTION, S.A.'\n",
        " 'INTERNATIONAL CONSOLIDATED AIRLINES GROUP, S.A.'\n",
        " 'MELIA HOTELS INTERNATIONAL S.A.' 'BARON DE LEY, S.A.'\n",
        " 'NH HOTEL GROUP S.A.' 'GRUPO EMPRESARIAL SAN JOSE, S.A.'\n",
        " 'COMPA\\xc3\\x91IA LEVANTINA DE EDIFICACION Y OBRAS PUBLICAS, S.A.'\n",
        " 'TELEFONICA, S.A.' 'LIBERTAS 7, S.A.' 'DINAMIA CAPITAL PRIVADO, S.A., SCR'\n",
        " 'OBRASCON HUARTE LAIN, S.A.' 'SNIACE, S.A.'\n",
        " 'INYPSA INFORMES Y PROYECTOS, S.A.'\n",
        " 'SOCIEDAD ANONIMA HULLERA VASCO-LEONESA' 'ACERINOX, S.A.'\n",
        " 'SAINT CROIX HOLDING IMMOBILIER, SOCIMI, S.A.'\n",
        " 'BOLSAS Y MERCADOS ESPA\\xc3\\x91OLES, SDAD HOLDING DE MDOS Y'\n",
        " 'BANCO SANTANDER, S.A.' 'INDO INTERNACIONAL, S.A (EN LIQUIDACION)']\n"
       ]
      }
     ],
     "prompt_number": 13
    },
    {
     "cell_type": "code",
     "collapsed": false,
     "input": [
      "print retribuciones2[retribuciones2.nombre_empresa=='IBERDROLA, S.A.']"
     ],
     "language": "python",
     "metadata": {},
     "outputs": [
      {
       "output_type": "stream",
       "stream": "stdout",
       "text": [
        "      nombre_empresa                           consejero  \\\n",
        "138  IBERDROLA, S.A.         \u00c1NGEL JES\u00daS ACEBES PANIAGUA   \n",
        "139  IBERDROLA, S.A.        MAR\u00cdA HELENA ANTOL\u00cdN RAYBAUD   \n",
        "140  IBERDROLA, S.A.                  IN\u00c9S MACHO STADLER   \n",
        "141  IBERDROLA, S.A.  JOS\u00c9 LUIS SAN PEDRO GUERENABARRENA   \n",
        "142  IBERDROLA, S.A.              SANTIAGO MART\u00cdNEZ LAGE   \n",
        "143  IBERDROLA, S.A.               JULIO DE MIGUEL AYNAT   \n",
        "144  IBERDROLA, S.A.           V\u00cdCTOR DE URRUTIA VALLEJO   \n",
        "145  IBERDROLA, S.A.                BRAULIO MEDEL C\u00c1MARA   \n",
        "146  IBERDROLA, S.A.                     SAMANTHA BARBER   \n",
        "147  IBERDROLA, S.A.             XABIER DE IRALA EST\u00c9VEZ   \n",
        "148  IBERDROLA, S.A.        MANUEL LAGARES G\u00d3MEZ-ABASCAL   \n",
        "149  IBERDROLA, S.A.            SEBASTI\u00c1N BATTANER ARIAS   \n",
        "150  IBERDROLA, S.A.          JOS\u00c9 IGNACIO S\u00c1NCHEZ GAL\u00c1N   \n",
        "151  IBERDROLA, S.A.        I\u00d1IGO V\u00cdCTOR DE ORIOL IBARRA   \n",
        "152  IBERDROLA, S.A.            GEORGINA KESSEL MART\u00cdNEZ   \n",
        "153  IBERDROLA, S.A.                    DENISE MARY HOLT   \n",
        "\n",
        "    sociedad_total_metalico sociedad_acciones_otorgadas  \\\n",
        "138                     299                           0   \n",
        "139                     289                           0   \n",
        "140                     519                           0   \n",
        "141                   1.319                         500   \n",
        "142                     287                           0   \n",
        "143                     493                           0   \n",
        "144                       0                           0   \n",
        "145                     273                           0   \n",
        "146                     496                           0   \n",
        "147                     299                           0   \n",
        "148                      51                           0   \n",
        "149                     285                           0   \n",
        "150                   6.171                       2.957   \n",
        "151                     288                           0   \n",
        "152                     286                           0   \n",
        "153                     139                           0   \n",
        "\n",
        "    sociedad_acciones_ejecutadas sociedad_total otras_total_metalico  \\\n",
        "138                            0            299                    0   \n",
        "139                            0            289                    0   \n",
        "140                            0            519                    0   \n",
        "141                            0          1.819                    0   \n",
        "142                            0            287                    0   \n",
        "143                            0            493                    0   \n",
        "144                            0              0                    0   \n",
        "145                            0            273                    0   \n",
        "146                            0            496                    0   \n",
        "147                            0            299                    0   \n",
        "148                            0             51                    0   \n",
        "149                            0            285                    0   \n",
        "150                            0          9.128                    0   \n",
        "151                            0            288                    0   \n",
        "152                            0            286                    0   \n",
        "153                            0            139                    0   \n",
        "\n",
        "    otras_acciones_otorgadas otras_acciones_ejecutadas otras_total total_2014  \\\n",
        "138                        0                         0           0        299   \n",
        "139                        0                         0           0        289   \n",
        "140                        0                         0           0        519   \n",
        "141                        0                         0           0      1.819   \n",
        "142                        0                         0           0        287   \n",
        "143                        0                         0           0        493   \n",
        "144                        0                         0           0          0   \n",
        "145                        0                         0           0        273   \n",
        "146                        0                         0           0        496   \n",
        "147                        0                         0           0        299   \n",
        "148                        0                         0           0         51   \n",
        "149                        0                         0           0        285   \n",
        "150                        0                         0           0      9.128   \n",
        "151                        0                         0           0        288   \n",
        "152                        0                         0           0        286   \n",
        "153                        0                         0           0        139   \n",
        "\n",
        "    total_2013 aportaciones_ahorro  \n",
        "138        317                   0  \n",
        "139        307                   0  \n",
        "140        553                   0  \n",
        "141      2.315                   0  \n",
        "142        303                   0  \n",
        "143        525                   0  \n",
        "144        930                   0  \n",
        "145        299                   0  \n",
        "146        528                   0  \n",
        "147        325                   0  \n",
        "148        214                   0  \n",
        "149        309                   0  \n",
        "150      7.443                   0  \n",
        "151        304                   0  \n",
        "152        176                   0  \n",
        "153          0                   0  \n"
       ]
      }
     ],
     "prompt_number": 14
    },
    {
     "cell_type": "code",
     "collapsed": false,
     "input": [
      "#gs -q -dNOPAUSE -dBATCH -sDEVICE=pdfwrite -sOutputFile=%stdout% -c .setpdfwrite -f document_29.pdf > document_29_new.pdf\n",
      "#mv document_29.pdf document_29.old"
     ],
     "language": "python",
     "metadata": {},
     "outputs": [],
     "prompt_number": 305
    },
    {
     "cell_type": "code",
     "collapsed": false,
     "input": [
      "print len(retribuciones2.nombre_empresa.unique())"
     ],
     "language": "python",
     "metadata": {},
     "outputs": [
      {
       "output_type": "stream",
       "stream": "stdout",
       "text": [
        "133\n"
       ]
      }
     ],
     "prompt_number": 15
    },
    {
     "cell_type": "code",
     "collapsed": false,
     "input": [],
     "language": "python",
     "metadata": {},
     "outputs": []
    }
   ],
   "metadata": {}
  }
 ]
}