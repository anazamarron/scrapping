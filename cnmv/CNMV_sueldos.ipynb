{
 "metadata": {
  "name": "",
  "signature": "sha256:ca937721cd66ab9618edce8acda3a59f7ae944b7595f54cb91c40291a0003163"
 },
 "nbformat": 3,
 "nbformat_minor": 0,
 "worksheets": [
  {
   "cells": [
    {
     "cell_type": "heading",
     "level": 1,
     "metadata": {},
     "source": [
      "CNMV - Informaci\u00f3n sobre el salario de los consejeros de las empresas"
     ]
    },
    {
     "cell_type": "markdown",
     "metadata": {},
     "source": [
      "Esta informaci\u00f3n se extrae de una p\u00e1gina de la CNMV, los enlaces que se generan son din\u00e1micos y caducan con el tiempo por lo que hay que hacer el proceso de toda la navegaci\u00f3n para obtener los enlaces que serviran para cada descarga"
     ]
    },
    {
     "cell_type": "code",
     "collapsed": false,
     "input": [
      "import mechanize\n",
      "import cookielib\n",
      "import ssl\n",
      "import urllib\n",
      "import urllib2\n",
      "import tempfile\n",
      "from lxml import html,etree\n",
      "from bs4 import BeautifulSoup\n",
      "from cStringIO import StringIO\n",
      "from pdfminer.pdfinterp import PDFResourceManager, PDFPageInterpreter\n",
      "from pdfminer.converter import TextConverter\n",
      "from pdfminer.converter import HTMLConverter\n",
      "from pdfminer.converter import XMLConverter\n",
      "from pdfminer.layout import LAParams\n",
      "from pdfminer.pdfpage import PDFPage\n",
      "from pyPdf import PdfFileWriter, PdfFileReader\n",
      "import re\n",
      "import subprocess\n",
      "import glob\n",
      "import pandas as pd\n",
      "import numpy as np"
     ],
     "language": "python",
     "metadata": {},
     "outputs": [],
     "prompt_number": 1
    },
    {
     "cell_type": "heading",
     "level": 2,
     "metadata": {},
     "source": [
      "HOla caracola"
     ]
    },
    {
     "cell_type": "code",
     "collapsed": false,
     "input": [
      "\n",
      "if hasattr(ssl, '_create_unverified_context'):\n",
      "    ssl._create_default_https_context = ssl._create_unverified_context\n",
      "\n",
      "\n",
      "url_CNMV = \"https://www.cnmv.es/Portal/Consultas/EE/InformacionGobCorp.aspx?TipoInforme=6&pageIRC=\""
     ],
     "language": "python",
     "metadata": {},
     "outputs": [],
     "prompt_number": 2
    },
    {
     "cell_type": "code",
     "collapsed": false,
     "input": [
      "i=0\n",
      "for j in range(0,9):\n",
      "    browser = mechanize.Browser(factory=mechanize.RobustFactory())\n",
      "    browser.set_handle_robots(False)\n",
      "    browser.set_handle_equiv(False)\n",
      "    url_a_usar = url_CNMV + str(j)\n",
      "    page = browser.open(url_a_usar)\n",
      "    htmlcontent = page.read()\n",
      "    soup = BeautifulSoup(htmlcontent)\n",
      "\n",
      "    \n",
      "    for elm in  soup.find_all('table'):\n",
      "        for a_elm in elm.find_all(\"a\"):\n",
      "            if i%2!=0:\n",
      "                href = (a_elm.attrs[\"href\"])\n",
      "                url = \"https://www.cnmv.es/Portal/\" + href[6:len(href)]\n",
      "                print url\n",
      "                response = urllib2.urlopen(url)\n",
      "                nombre_fichero = \"document_\" + str(i) + \".pdf\"\n",
      "                file = open(\"pdfs/total/\" + nombre_fichero, 'wb')\n",
      "                file.write(response.read())\n",
      "                file.close()\n",
      "                print(\"Completed\")\n",
      "                \n",
      "            i+=1\n",
      "        "
     ],
     "language": "python",
     "metadata": {},
     "outputs": [
      {
       "output_type": "stream",
       "stream": "stdout",
       "text": [
        "https://www.cnmv.es/Portal/cionIAGC.aspx?numReg=2015024048&nif=A41002288 \n",
        "Completed"
       ]
      },
      {
       "output_type": "stream",
       "stream": "stdout",
       "text": [
        "\n",
        "https://www.cnmv.es/Portal/enerales.aspx?nif=A-08209769\n",
        "Completed"
       ]
      },
      {
       "output_type": "stream",
       "stream": "stdout",
       "text": [
        "\n",
        "https://www.cnmv.es/Portal/enerales.aspx?nif=A08001851 \n",
        "Completed"
       ]
      },
      {
       "output_type": "stream",
       "stream": "stdout",
       "text": [
        "\n",
        "https://www.cnmv.es/Portal/enerales.aspx?nif=A-28250777\n",
        "Completed"
       ]
      },
      {
       "output_type": "stream",
       "stream": "stdout",
       "text": [
        "\n",
        "https://www.cnmv.es/Portal/enerales.aspx?nif=A-28004885\n",
        "Completed"
       ]
      },
      {
       "output_type": "stream",
       "stream": "stdout",
       "text": [
        "\n",
        "https://www.cnmv.es/Portal/enerales.aspx?nif=A-32104226\n",
        "Completed"
       ]
      },
      {
       "output_type": "stream",
       "stream": "stdout",
       "text": [
        "\n",
        "https://www.cnmv.es/Portal/enerales.aspx?nif=A-28414811\n",
        "Completed"
       ]
      },
      {
       "output_type": "stream",
       "stream": "stdout",
       "text": [
        "\n",
        "https://www.cnmv.es/Portal/enerales.aspx?nif=A-58869389\n",
        "Completed"
       ]
      },
      {
       "output_type": "stream",
       "stream": "stdout",
       "text": [
        "\n",
        "https://www.cnmv.es/Portal/enerales.aspx?nif=A-07040223\n",
        "Completed"
       ]
      },
      {
       "output_type": "stream",
       "stream": "stdout",
       "text": [
        "\n",
        "https://www.cnmv.es/Portal/enerales.aspx?nif=A-84236934\n",
        "Completed"
       ]
      },
      {
       "output_type": "stream",
       "stream": "stdout",
       "text": [
        "\n",
        "https://www.cnmv.es/Portal/enerales.aspx?nif=A-28079226\n",
        "Completed"
       ]
      },
      {
       "output_type": "stream",
       "stream": "stdout",
       "text": [
        "\n",
        "https://www.cnmv.es/Portal/enerales.aspx?nif=A64622970 \n",
        "Completed"
       ]
      },
      {
       "output_type": "stream",
       "stream": "stdout",
       "text": [
        "\n",
        "https://www.cnmv.es/Portal/enerales.aspx?nif=A-78839271\n",
        "Completed"
       ]
      },
      {
       "output_type": "stream",
       "stream": "stdout",
       "text": [
        "\n",
        "https://www.cnmv.es/Portal/enerales.aspx?nif=A86971249 \n",
        "Completed"
       ]
      },
      {
       "output_type": "stream",
       "stream": "stdout",
       "text": [
        "\n",
        "https://www.cnmv.es/Portal/enerales.aspx?nif=A-28004240\n",
        "Completed"
       ]
      },
      {
       "output_type": "stream",
       "stream": "stdout",
       "text": [
        "\n",
        "https://www.cnmv.es/Portal/enerales.aspx?nif=A-31065618"
       ]
      },
      {
       "output_type": "stream",
       "stream": "stdout",
       "text": [
        "\n",
        "Completed"
       ]
      },
      {
       "output_type": "stream",
       "stream": "stdout",
       "text": [
        "\n",
        "https://www.cnmv.es/Portal/enerales.aspx?nif=A-48265169\n",
        "Completed"
       ]
      },
      {
       "output_type": "stream",
       "stream": "stdout",
       "text": [
        "\n",
        "https://www.cnmv.es/Portal/enerales.aspx?nif=A-08000143\n",
        "Completed"
       ]
      },
      {
       "output_type": "stream",
       "stream": "stdout",
       "text": [
        "\n",
        "https://www.cnmv.es/Portal/enerales.aspx?nif=A-28000727\n",
        "Completed"
       ]
      },
      {
       "output_type": "stream",
       "stream": "stdout",
       "text": [
        "\n",
        "https://www.cnmv.es/Portal/enerales.aspx?nif=A-39000013\n",
        "Completed"
       ]
      },
      {
       "output_type": "stream",
       "stream": "stdout",
       "text": [
        "\n",
        "https://www.cnmv.es/Portal/enerales.aspx?nif=A-14010342\n",
        "Completed"
       ]
      },
      {
       "output_type": "stream",
       "stream": "stdout",
       "text": [
        "\n",
        "https://www.cnmv.es/Portal/enerales.aspx?nif=A28157360 \n",
        "Completed"
       ]
      },
      {
       "output_type": "stream",
       "stream": "stdout",
       "text": [
        "\n",
        "https://www.cnmv.es/Portal/enerales.aspx?nif=A-31153703\n",
        "Completed"
       ]
      },
      {
       "output_type": "stream",
       "stream": "stdout",
       "text": [
        "\n",
        "https://www.cnmv.es/Portal/enerales.aspx?nif=A18550111 \n",
        "Completed"
       ]
      },
      {
       "output_type": "stream",
       "stream": "stdout",
       "text": [
        "\n",
        "https://www.cnmv.es/Portal/enerales.aspx?nif=A-48001721\n",
        "Completed"
       ]
      },
      {
       "output_type": "stream",
       "stream": "stdout",
       "text": [
        "\n",
        "https://www.cnmv.es/Portal/enerales.aspx?nif=A-26000398\n",
        "Completed"
       ]
      },
      {
       "output_type": "stream",
       "stream": "stdout",
       "text": [
        "\n",
        "https://www.cnmv.es/Portal/enerales.aspx?nif=A-83246314\n",
        "Completed"
       ]
      },
      {
       "output_type": "stream",
       "stream": "stdout",
       "text": [
        "\n",
        "https://www.cnmv.es/Portal/enerales.aspx?nif=A-08663619\n",
        "Completed"
       ]
      },
      {
       "output_type": "stream",
       "stream": "stdout",
       "text": [
        "\n",
        "https://www.cnmv.es/Portal/enerales.aspx?nif=G-46002796\n",
        "Completed"
       ]
      },
      {
       "output_type": "stream",
       "stream": "stdout",
       "text": [
        "\n",
        "https://www.cnmv.es/Portal/enerales.aspx?nif=A-28130938\n",
        "Completed"
       ]
      },
      {
       "output_type": "stream",
       "stream": "stdout",
       "text": [
        "\n",
        "https://www.cnmv.es/Portal/enerales.aspx?nif=A-08017535"
       ]
      },
      {
       "output_type": "stream",
       "stream": "stdout",
       "text": [
        "\n",
        "Completed"
       ]
      },
      {
       "output_type": "stream",
       "stream": "stdout",
       "text": [
        "\n",
        "https://www.cnmv.es/Portal/enerales.aspx?nif=A-31000268\n",
        "Completed"
       ]
      },
      {
       "output_type": "stream",
       "stream": "stdout",
       "text": [
        "\n",
        "https://www.cnmv.es/Portal/enerales.aspx?nif=A-20014452\n",
        "Completed"
       ]
      },
      {
       "output_type": "stream",
       "stream": "stdout",
       "text": [
        "\n",
        "https://www.cnmv.es/Portal/enerales.aspx?nif=A-80240427\n",
        "Completed"
       ]
      },
      {
       "output_type": "stream",
       "stream": "stdout",
       "text": [
        "\n",
        "https://www.cnmv.es/Portal/enerales.aspx?nif=A-82110453\n",
        "Completed"
       ]
      },
      {
       "output_type": "stream",
       "stream": "stdout",
       "text": [
        "\n",
        "https://www.cnmv.es/Portal/enerales.aspx?nif=G-07000045\n",
        "Completed"
       ]
      },
      {
       "output_type": "stream",
       "stream": "stdout",
       "text": [
        "\n",
        "https://www.cnmv.es/Portal/enerales.aspx?nif=A87008579 \n",
        "Completed"
       ]
      },
      {
       "output_type": "stream",
       "stream": "stdout",
       "text": [
        "\n",
        "https://www.cnmv.es/Portal/enerales.aspx?nif=A-08177305\n",
        "Completed"
       ]
      },
      {
       "output_type": "stream",
       "stream": "stdout",
       "text": [
        "\n",
        "https://www.cnmv.es/Portal/enerales.aspx?nif=A-28218543\n",
        "Completed"
       ]
      },
      {
       "output_type": "stream",
       "stream": "stdout",
       "text": [
        "\n",
        "https://www.cnmv.es/Portal/enerales.aspx?nif=A-46004131\n",
        "Completed"
       ]
      },
      {
       "output_type": "stream",
       "stream": "stdout",
       "text": [
        "\n",
        "https://www.cnmv.es/Portal/enerales.aspx?nif=A28018380 \n",
        "Completed"
       ]
      },
      {
       "output_type": "stream",
       "stream": "stdout",
       "text": [
        "\n",
        "https://www.cnmv.es/Portal/enerales.aspx?nif=A-48002893\n",
        "Completed"
       ]
      },
      {
       "output_type": "stream",
       "stream": "stdout",
       "text": [
        "\n",
        "https://www.cnmv.es/Portal/enerales.aspx?nif=A20001020 \n",
        "Completed"
       ]
      },
      {
       "output_type": "stream",
       "stream": "stdout",
       "text": [
        "\n",
        "https://www.cnmv.es/Portal/enerales.aspx?nif=A-28060903\n",
        "Completed"
       ]
      },
      {
       "output_type": "stream",
       "stream": "stdout",
       "text": [
        "\n",
        "https://www.cnmv.es/Portal/enerales.aspx?nif=A48012009 \n",
        "Completed"
       ]
      },
      {
       "output_type": "stream",
       "stream": "stdout",
       "text": [
        "\n",
        "https://www.cnmv.es/Portal/enerales.aspx?nif=A-58348038"
       ]
      },
      {
       "output_type": "stream",
       "stream": "stdout",
       "text": [
        "\n",
        "Completed"
       ]
      },
      {
       "output_type": "stream",
       "stream": "stdout",
       "text": [
        "\n",
        "https://www.cnmv.es/Portal/enerales.aspx?nif=A81862724 \n",
        "Completed"
       ]
      },
      {
       "output_type": "stream",
       "stream": "stdout",
       "text": [
        "\n",
        "https://www.cnmv.es/Portal/enerales.aspx?nif=A28164754 \n",
        "Completed"
       ]
      },
      {
       "output_type": "stream",
       "stream": "stdout",
       "text": [
        "\n",
        "https://www.cnmv.es/Portal/enerales.aspx?nif=A-08276651\n",
        "Completed"
       ]
      },
      {
       "output_type": "stream",
       "stream": "stdout",
       "text": [
        "\n",
        "https://www.cnmv.es/Portal/enerales.aspx?nif=A-28004026\n",
        "Completed"
       ]
      },
      {
       "output_type": "stream",
       "stream": "stdout",
       "text": [
        "\n",
        "https://www.cnmv.es/Portal/enerales.aspx?nif=A47412333 \n",
        "Completed"
       ]
      },
      {
       "output_type": "stream",
       "stream": "stdout",
       "text": [
        "\n",
        "https://www.cnmv.es/Portal/enerales.aspx?nif=A-43777119\n",
        "Completed"
       ]
      },
      {
       "output_type": "stream",
       "stream": "stdout",
       "text": [
        "\n",
        "https://www.cnmv.es/Portal/enerales.aspx?nif=N0183514I \n",
        "Completed"
       ]
      },
      {
       "output_type": "stream",
       "stream": "stdout",
       "text": [
        "\n",
        "https://www.cnmv.es/Portal/enerales.aspx?nif=A-48027056\n",
        "Completed"
       ]
      },
      {
       "output_type": "stream",
       "stream": "stdout",
       "text": [
        "\n",
        "https://www.cnmv.es/Portal/enerales.aspx?nif=A-28294726\n",
        "Completed"
       ]
      },
      {
       "output_type": "stream",
       "stream": "stdout",
       "text": [
        "\n",
        "https://www.cnmv.es/Portal/enerales.aspx?nif=A-28212264\n",
        "Completed"
       ]
      },
      {
       "output_type": "stream",
       "stream": "stdout",
       "text": [
        "\n",
        "https://www.cnmv.es/Portal/enerales.aspx?nif=A-28023430\n",
        "Completed"
       ]
      },
      {
       "output_type": "stream",
       "stream": "stdout",
       "text": [
        "\n",
        "https://www.cnmv.es/Portal/enerales.aspx?nif=A-08000630\n",
        "Completed"
       ]
      },
      {
       "output_type": "stream",
       "stream": "stdout",
       "text": [
        "\n",
        "https://www.cnmv.es/Portal/enerales.aspx?nif=A-48004360\n",
        "Completed"
       ]
      },
      {
       "output_type": "stream",
       "stream": "stdout",
       "text": [
        "\n",
        "https://www.cnmv.es/Portal/enerales.aspx?nif=A81939209 \n",
        "Completed"
       ]
      },
      {
       "output_type": "stream",
       "stream": "stdout",
       "text": [
        "\n",
        "https://www.cnmv.es/Portal/enerales.aspx?nif=A-62338827"
       ]
      },
      {
       "output_type": "stream",
       "stream": "stdout",
       "text": [
        "\n",
        "Completed"
       ]
      },
      {
       "output_type": "stream",
       "stream": "stdout",
       "text": [
        "\n",
        "https://www.cnmv.es/Portal/enerales.aspx?nif=A-46075255\n",
        "Completed"
       ]
      },
      {
       "output_type": "stream",
       "stream": "stdout",
       "text": [
        "\n",
        "https://www.cnmv.es/Portal/enerales.aspx?nif=A-17728593\n",
        "Completed"
       ]
      },
      {
       "output_type": "stream",
       "stream": "stdout",
       "text": [
        "\n",
        "https://www.cnmv.es/Portal/enerales.aspx?nif=A-28037224\n",
        "Completed"
       ]
      },
      {
       "output_type": "stream",
       "stream": "stdout",
       "text": [
        "\n",
        "https://www.cnmv.es/Portal/enerales.aspx?nif=A-04128732\n",
        "Completed"
       ]
      },
      {
       "output_type": "stream",
       "stream": "stdout",
       "text": [
        "\n",
        "https://www.cnmv.es/Portal/enerales.aspx?nif=A-01011253\n",
        "Completed"
       ]
      },
      {
       "output_type": "stream",
       "stream": "stdout",
       "text": [
        "\n",
        "https://www.cnmv.es/Portal/enerales.aspx?nif=A-08015497\n",
        "Completed"
       ]
      },
      {
       "output_type": "stream",
       "stream": "stdout",
       "text": [
        "\n",
        "https://www.cnmv.es/Portal/enerales.aspx?nif=A-83443556\n",
        "Completed"
       ]
      },
      {
       "output_type": "stream",
       "stream": "stdout",
       "text": [
        "\n",
        "https://www.cnmv.es/Portal/enerales.aspx?nif=A-58389123\n",
        "Completed"
       ]
      },
      {
       "output_type": "stream",
       "stream": "stdout",
       "text": [
        "\n",
        "https://www.cnmv.es/Portal/enerales.aspx?nif=A-08168064\n",
        "Completed"
       ]
      },
      {
       "output_type": "stream",
       "stream": "stdout",
       "text": [
        "\n",
        "https://www.cnmv.es/Portal/enerales.aspx?nif=A-36046993\n",
        "Completed"
       ]
      },
      {
       "output_type": "stream",
       "stream": "stdout",
       "text": [
        "\n",
        "https://www.cnmv.es/Portal/enerales.aspx?nif=A-28085207\n",
        "Completed"
       ]
      },
      {
       "output_type": "stream",
       "stream": "stdout",
       "text": [
        "\n",
        "https://www.cnmv.es/Portal/enerales.aspx?nif=A86919271 \n",
        "Completed"
       ]
      },
      {
       "output_type": "stream",
       "stream": "stdout",
       "text": [
        "\n",
        "https://www.cnmv.es/Portal/enerales.aspx?nif=A-48010615\n",
        "Completed"
       ]
      },
      {
       "output_type": "stream",
       "stream": "stdout",
       "text": [
        "\n",
        "https://www.cnmv.es/Portal/enerales.aspx?nif=A-21248893\n",
        "Completed"
       ]
      },
      {
       "output_type": "stream",
       "stream": "stdout",
       "text": [
        "\n",
        "https://www.cnmv.es/Portal/enerales.aspx?nif=A08266934 "
       ]
      },
      {
       "output_type": "stream",
       "stream": "stdout",
       "text": [
        "\n",
        "Completed"
       ]
      },
      {
       "output_type": "stream",
       "stream": "stdout",
       "text": [
        "\n",
        "https://www.cnmv.es/Portal/enerales.aspx?nif=A-28599033\n",
        "Completed"
       ]
      },
      {
       "output_type": "stream",
       "stream": "stdout",
       "text": [
        "\n",
        "https://www.cnmv.es/Portal/enerales.aspx?nif=A-15075062\n",
        "Completed"
       ]
      },
      {
       "output_type": "stream",
       "stream": "stdout",
       "text": [
        "\n",
        "https://www.cnmv.es/Portal/enerales.aspx?nif=A-28027399\n",
        "Completed"
       ]
      },
      {
       "output_type": "stream",
       "stream": "stdout",
       "text": [
        "\n",
        "https://www.cnmv.es/Portal/enerales.aspx?nif=A-41002205\n",
        "Completed"
       ]
      },
      {
       "output_type": "stream",
       "stream": "stdout",
       "text": [
        "\n",
        "https://www.cnmv.es/Portal/enerales.aspx?nif=A85845535 \n",
        "Completed"
       ]
      },
      {
       "output_type": "stream",
       "stream": "stdout",
       "text": [
        "\n",
        "https://www.cnmv.es/Portal/enerales.aspx?nif=A-58246810\n",
        "Completed"
       ]
      },
      {
       "output_type": "stream",
       "stream": "stdout",
       "text": [
        "\n",
        "https://www.cnmv.es/Portal/enerales.aspx?nif=A-08644601\n",
        "Completed"
       ]
      },
      {
       "output_type": "stream",
       "stream": "stdout",
       "text": [
        "\n",
        "https://www.cnmv.es/Portal/enerales.aspx?nif=A-28249977\n",
        "Completed"
       ]
      },
      {
       "output_type": "stream",
       "stream": "stdout",
       "text": [
        "\n",
        "https://www.cnmv.es/Portal/enerales.aspx?nif=N0067816I \n",
        "Completed"
       ]
      },
      {
       "output_type": "stream",
       "stream": "stdout",
       "text": [
        "\n",
        "https://www.cnmv.es/Portal/enerales.aspx?nif=A-08010571\n",
        "Completed"
       ]
      },
      {
       "output_type": "stream",
       "stream": "stdout",
       "text": [
        "\n",
        "https://www.cnmv.es/Portal/enerales.aspx?nif=A-96184882\n",
        "Completed"
       ]
      },
      {
       "output_type": "stream",
       "stream": "stdout",
       "text": [
        "\n",
        "https://www.cnmv.es/Portal/enerales.aspx?nif=A-28041283\n",
        "Completed"
       ]
      },
      {
       "output_type": "stream",
       "stream": "stdout",
       "text": [
        "\n",
        "https://www.cnmv.es/Portal/enerales.aspx?nif=A86918307 \n",
        "Completed"
       ]
      },
      {
       "output_type": "stream",
       "stream": "stdout",
       "text": [
        "\n",
        "https://www.cnmv.es/Portal/enerales.aspx?nif=A86201993 \n",
        "Completed"
       ]
      },
      {
       "output_type": "stream",
       "stream": "stdout",
       "text": [
        "\n",
        "https://www.cnmv.es/Portal/enerales.aspx?nif=A-46007449"
       ]
      },
      {
       "output_type": "stream",
       "stream": "stdout",
       "text": [
        "\n",
        "Completed"
       ]
      },
      {
       "output_type": "stream",
       "stream": "stdout",
       "text": [
        "\n",
        "https://www.cnmv.es/Portal/enerales.aspx?nif=A-47007109\n",
        "Completed"
       ]
      },
      {
       "output_type": "stream",
       "stream": "stdout",
       "text": [
        "\n",
        "https://www.cnmv.es/Portal/enerales.aspx?nif=A-30015382\n",
        "Completed"
       ]
      },
      {
       "output_type": "stream",
       "stream": "stdout",
       "text": [
        "\n",
        "https://www.cnmv.es/Portal/enerales.aspx?nif=A08055741 \n",
        "Completed"
       ]
      },
      {
       "output_type": "stream",
       "stream": "stdout",
       "text": [
        "\n",
        "https://www.cnmv.es/Portal/enerales.aspx?nif=A-79075438\n",
        "Completed"
       ]
      },
      {
       "output_type": "stream",
       "stream": "stdout",
       "text": [
        "\n",
        "https://www.cnmv.es/Portal/enerales.aspx?nif=A78304516 \n",
        "Completed"
       ]
      },
      {
       "output_type": "stream",
       "stream": "stdout",
       "text": [
        "\n",
        "https://www.cnmv.es/Portal/enerales.aspx?nif=A86977790 \n",
        "Completed"
       ]
      },
      {
       "output_type": "stream",
       "stream": "stdout",
       "text": [
        "\n",
        "https://www.cnmv.es/Portal/enerales.aspx?nif=A-48008502\n",
        "Completed"
       ]
      },
      {
       "output_type": "stream",
       "stream": "stdout",
       "text": [
        "\n",
        "https://www.cnmv.es/Portal/enerales.aspx?nif=A-08020729\n",
        "Completed"
       ]
      },
      {
       "output_type": "stream",
       "stream": "stdout",
       "text": [
        "\n",
        "https://www.cnmv.es/Portal/enerales.aspx?nif=A08348740 \n",
        "Completed"
       ]
      },
      {
       "output_type": "stream",
       "stream": "stdout",
       "text": [
        "\n",
        "https://www.cnmv.es/Portal/enerales.aspx?nif=A-28294700\n",
        "Completed"
       ]
      },
      {
       "output_type": "stream",
       "stream": "stdout",
       "text": [
        "\n",
        "https://www.cnmv.es/Portal/enerales.aspx?nif=A-46014528\n",
        "Completed"
       ]
      },
      {
       "output_type": "stream",
       "stream": "stdout",
       "text": [
        "\n",
        "https://www.cnmv.es/Portal/enerales.aspx?nif=A28027944 \n",
        "Completed"
       ]
      },
      {
       "output_type": "stream",
       "stream": "stdout",
       "text": [
        "\n",
        "https://www.cnmv.es/Portal/enerales.aspx?nif=A-28041317\n",
        "Completed"
       ]
      },
      {
       "output_type": "stream",
       "stream": "stdout",
       "text": [
        "\n",
        "https://www.cnmv.es/Portal/enerales.aspx?nif=A-08074320\n",
        "Completed"
       ]
      },
      {
       "output_type": "stream",
       "stream": "stdout",
       "text": [
        "\n",
        "https://www.cnmv.es/Portal/enerales.aspx?nif=A-48010573"
       ]
      },
      {
       "output_type": "stream",
       "stream": "stdout",
       "text": [
        "\n",
        "Completed"
       ]
      },
      {
       "output_type": "stream",
       "stream": "stdout",
       "text": [
        "\n",
        "https://www.cnmv.es/Portal/enerales.aspx?nif=A34158824 \n",
        "Completed"
       ]
      },
      {
       "output_type": "stream",
       "stream": "stdout",
       "text": [
        "\n",
        "https://www.cnmv.es/Portal/enerales.aspx?nif=A-36603587\n",
        "Completed"
       ]
      },
      {
       "output_type": "stream",
       "stream": "stdout",
       "text": [
        "\n",
        "https://www.cnmv.es/Portal/enerales.aspx?nif=A28165587 \n",
        "Completed"
       ]
      },
      {
       "output_type": "stream",
       "stream": "stdout",
       "text": [
        "\n",
        "https://www.cnmv.es/Portal/enerales.aspx?nif=A28297059 \n",
        "Completed"
       ]
      },
      {
       "output_type": "stream",
       "stream": "stdout",
       "text": [
        "\n",
        "https://www.cnmv.es/Portal/enerales.aspx?nif=A-28430882\n",
        "Completed"
       ]
      },
      {
       "output_type": "stream",
       "stream": "stdout",
       "text": [
        "\n",
        "https://www.cnmv.es/Portal/enerales.aspx?nif=A96911482 \n",
        "Completed"
       ]
      },
      {
       "output_type": "stream",
       "stream": "stdout",
       "text": [
        "\n",
        "https://www.cnmv.es/Portal/enerales.aspx?nif=A-81787889\n",
        "Completed"
       ]
      },
      {
       "output_type": "stream",
       "stream": "stdout",
       "text": [
        "\n",
        "https://www.cnmv.es/Portal/enerales.aspx?nif=A-78003662\n",
        "Completed"
       ]
      },
      {
       "output_type": "stream",
       "stream": "stdout",
       "text": [
        "\n",
        "https://www.cnmv.es/Portal/enerales.aspx?nif=A-82473018\n",
        "Completed"
       ]
      },
      {
       "output_type": "stream",
       "stream": "stdout",
       "text": [
        "\n",
        "https://www.cnmv.es/Portal/enerales.aspx?nif=A-62385729\n",
        "Completed"
       ]
      },
      {
       "output_type": "stream",
       "stream": "stdout",
       "text": [
        "\n",
        "https://www.cnmv.es/Portal/enerales.aspx?nif=A-78374725\n",
        "Completed"
       ]
      },
      {
       "output_type": "stream",
       "stream": "stdout",
       "text": [
        "\n",
        "https://www.cnmv.es/Portal/enerales.aspx?nif=A-28238988\n",
        "Completed"
       ]
      },
      {
       "output_type": "stream",
       "stream": "stdout",
       "text": [
        "\n",
        "https://www.cnmv.es/Portal/enerales.aspx?nif=A-28204063\n",
        "Completed"
       ]
      },
      {
       "output_type": "stream",
       "stream": "stdout",
       "text": [
        "\n",
        "https://www.cnmv.es/Portal/enerales.aspx?nif=A-28013811\n",
        "Completed"
       ]
      },
      {
       "output_type": "stream",
       "stream": "stdout",
       "text": [
        "\n",
        "https://www.cnmv.es/Portal/verDoc.axd?t={a3c15c9d-41d6-4035-a2f5-6678156f50d6}\n",
        "Completed"
       ]
      },
      {
       "output_type": "stream",
       "stream": "stdout",
       "text": [
        "\n",
        "https://www.cnmv.es/Portal/verDoc.axd?t={caa0665a-195f-4dc5-b5cd-664a6778d4f3}"
       ]
      },
      {
       "output_type": "stream",
       "stream": "stdout",
       "text": [
        "\n",
        "Completed"
       ]
      },
      {
       "output_type": "stream",
       "stream": "stdout",
       "text": [
        "\n",
        "https://www.cnmv.es/Portal/verDoc.axd?t={2b4b3634-fdb1-4ba4-8410-9935f3731022}\n",
        "Completed"
       ]
      },
      {
       "output_type": "stream",
       "stream": "stdout",
       "text": [
        "\n",
        "https://www.cnmv.es/Portal/verDoc.axd?t={00591a21-5b47-41c2-9085-2f5ff5f75088}\n",
        "Completed"
       ]
      },
      {
       "output_type": "stream",
       "stream": "stdout",
       "text": [
        "\n",
        "https://www.cnmv.es/Portal/verDoc.axd?t={f11dc572-4233-476e-b9de-da99bc97f744}\n",
        "Completed"
       ]
      },
      {
       "output_type": "stream",
       "stream": "stdout",
       "text": [
        "\n",
        "https://www.cnmv.es/Portal/verDoc.axd?t={a21e996b-446e-4bcf-8f50-2c47c7f5ad36}\n",
        "Completed"
       ]
      },
      {
       "output_type": "stream",
       "stream": "stdout",
       "text": [
        "\n",
        "https://www.cnmv.es/Portal/verDoc.axd?t={8aa98f8c-fabe-4a90-b870-7b05bfe1f7dc}\n",
        "Completed"
       ]
      },
      {
       "output_type": "stream",
       "stream": "stdout",
       "text": [
        "\n",
        "https://www.cnmv.es/Portal/verDoc.axd?t={2eeba8ff-e577-4f83-90c2-e7e258393a5e}\n",
        "Completed"
       ]
      },
      {
       "output_type": "stream",
       "stream": "stdout",
       "text": [
        "\n",
        "https://www.cnmv.es/Portal/cionIAGC.aspx?numReg=2015026735&nif=A-28191179\n",
        "Completed"
       ]
      },
      {
       "output_type": "stream",
       "stream": "stdout",
       "text": [
        "\n",
        "https://www.cnmv.es/Portal/enerales.aspx?nif=A-28015865\n",
        "Completed"
       ]
      },
      {
       "output_type": "stream",
       "stream": "stdout",
       "text": [
        "\n",
        "https://www.cnmv.es/Portal/enerales.aspx?nif=A08356727 \n",
        "Completed"
       ]
      },
      {
       "output_type": "stream",
       "stream": "stdout",
       "text": [
        "\n",
        "https://www.cnmv.es/Portal/enerales.aspx?nif=A84511567 \n",
        "Completed"
       ]
      },
      {
       "output_type": "stream",
       "stream": "stdout",
       "text": [
        "\n",
        "https://www.cnmv.es/Portal/enerales.aspx?nif=A-01003946\n",
        "Completed"
       ]
      },
      {
       "output_type": "stream",
       "stream": "stdout",
       "text": [
        "\n",
        "https://www.cnmv.es/Portal/enerales.aspx?nif=A-48011555\n",
        "Completed"
       ]
      },
      {
       "output_type": "stream",
       "stream": "stdout",
       "text": [
        "\n",
        "https://www.cnmv.es/Portal/enerales.aspx?nif=A-08483257\n",
        "Completed"
       ]
      },
      {
       "output_type": "stream",
       "stream": "stdout",
       "text": [
        "\n",
        "https://www.cnmv.es/Portal/enerales.aspx?nif=A-08149957\n",
        "Completed"
       ]
      },
      {
       "output_type": "stream",
       "stream": "stdout",
       "text": [
        "\n"
       ]
      }
     ],
     "prompt_number": 3
    },
    {
     "cell_type": "code",
     "collapsed": false,
     "input": [
      "def ConvertPDFToText(currentPDF):\n",
      "    pdfData = currentPDF.read()\n",
      "\n",
      "    tf = tempfile.NamedTemporaryFile()\n",
      "    tf.write(pdfData)\n",
      "    tf.seek(0)\n",
      "\n",
      "    outputTf = tempfile.NamedTemporaryFile()\n",
      "    \n",
      "\n",
      "    if (len(pdfData) > 0) :\n",
      "        out, err = subprocess.Popen([\"pdftotext\", \"-layout\", tf.name, outputTf.name ]).communicate()\n",
      "        return outputTf.read()\n",
      "    else :\n",
      "        return None"
     ],
     "language": "python",
     "metadata": {},
     "outputs": [],
     "prompt_number": 6
    },
    {
     "cell_type": "heading",
     "level": 4,
     "metadata": {},
     "source": [
      "Tabla de Retribuciones"
     ]
    },
    {
     "cell_type": "code",
     "collapsed": false,
     "input": [
      "def convert(fname, pages=None):\n",
      "    if not pages:\n",
      "        pagenums = set()\n",
      "    else:\n",
      "        pagenums = set(pages)\n",
      "\n",
      "    output = StringIO()\n",
      "    manager = PDFResourceManager()\n",
      "    converter = TextConverter(manager, output, laparams=LAParams())\n",
      "    interpreter = PDFPageInterpreter(manager, converter)\n",
      "\n",
      "    infile = open(fname, 'rb')\n",
      "    \n",
      "    for page in PDFPage.get_pages(infile, pagenums):\n",
      "        interpreter.process_page(page)\n",
      "    \n",
      "    infile.close()\n",
      "    converter.close()\n",
      "    text = output.getvalue()\n",
      "    output.close\n",
      "    return text\n"
     ],
     "language": "python",
     "metadata": {},
     "outputs": [],
     "prompt_number": 7
    },
    {
     "cell_type": "code",
     "collapsed": false,
     "input": [
      "def obtenNombreEmpresa(file_prueba):\n",
      "    inputpdf = PdfFileReader(open(file_prueba, \"rb\"))\n",
      "    encontrado1 = False\n",
      "    encontrado2 = False\n",
      "    salir = False\n",
      "    nombre_empresa= \"\"\n",
      "    for i in range (0,3):\n",
      "        texto = convert(file_prueba,[i])\n",
      "        texto = texto.split('\\n')\n",
      "        \n",
      "        for line in texto:\n",
      "            if encontrado1 and encontrado2:\n",
      "                nombre_empresa = line\n",
      "                \n",
      "                salir = True\n",
      "                break\n",
      "            if encontrado1:\n",
      "                encontrado2= True\n",
      "            if re.search('DENOMINACI(.)+N SOCIAL',line):\n",
      "                encontrado1 = True\n",
      "        if salir:\n",
      "            break\n",
      "    return nombre_empresa\n",
      "\n"
     ],
     "language": "python",
     "metadata": {},
     "outputs": [],
     "prompt_number": 8
    },
    {
     "cell_type": "code",
     "collapsed": false,
     "input": [
      "# Esta funci\u00f3n busca en el pdf la expresi\u00f3n regular que coincide con el inicio de la tabla\n",
      "# que necesitamos y crea un txt con la misma.\n",
      "\n",
      "def obten_txt_total_retribuciones(file_prueba,nombre_empresa):\n",
      "    \n",
      "    inputpdf = PdfFileReader(open(file_prueba, \"rb\"))\n",
      "    continua = False\n",
      "    \n",
      "    \n",
      "    num_pages = inputpdf.getNumPages()\n",
      "    \n",
      "    for i in range (7,num_pages-1):\n",
      "        texto = convert(file_prueba,[i])\n",
      "        \n",
      "        if re.search ('Resumen de las retribuciones \\(en miles de (.)+\\)',texto):\n",
      "            output = PdfFileWriter()\n",
      "\n",
      "            if(re.search('ejercicio',texto)):\n",
      "\n",
      "                output.addPage(inputpdf.getPage(i))\n",
      "                if not re.search('Sistemas de retribuci',texto):\n",
      "                    tabla =convert(file_prueba,[i+1])\n",
      "                    output.addPage(inputpdf.getPage(i+1))\n",
      "\n",
      "            else:\n",
      "                tabla =convert(file_prueba,[i+1])\n",
      "                output.addPage(inputpdf.getPage(i+1))\n",
      "\n",
      "                if not re.search('Sistemas de retribuci',texto):\n",
      "                    tabla =convert(file_prueba,[i+2])\n",
      "                    output.addPage(inputpdf.getPage(i+2))\n",
      "            \n",
      "                        \n",
      "            # creo un pdf con el contenido de la tabla que buscamos \u00fanicamente. \n",
      "            # En general guardo 2 p\u00e1ginas, por lo que he llamado 2paginas a la carpta\n",
      "            nombre_fichero = \"pdfs/2paginas/\" +  nombre_empresa + \".pdf\"\n",
      "            print output\n",
      "            print nombre_fichero\n",
      "            \n",
      "            with open(nombre_fichero, \"wb\") as outputStream:\n",
      "                output.write(outputStream)\n",
      "            \n",
      "            # ahora abro el documento que acabo de guardar, porque quiero crear un txt \n",
      "            # con el contenido\n",
      "            mi_pdf = open(nombre_fichero)    \n",
      "            mi_txt = ConvertPDFToText(mi_pdf)\n",
      "            mi_pdf.close()\n",
      "            #y lo devuelvo\n",
      "            return mi_txt\n",
      "            break\n",
      "       \n",
      "    \n",
      "\n"
     ],
     "language": "python",
     "metadata": {},
     "outputs": [],
     "prompt_number": 9
    },
    {
     "cell_type": "code",
     "collapsed": false,
     "input": [
      "pdfs = glob.glob('pdfs/total/*.pdf')\n",
      "\n",
      "##itero sobre los pdfs\n",
      "#pdfs = ['pdfs/total/document_193.pdf']\n",
      "\n",
      "for pdf in pdfs:\n",
      "\n",
      "    \n",
      "    try:\n",
      "        nombre_empresa = obtenNombreEmpresa(pdf)\n",
      "        print nombre_empresa\n",
      "        print pdf\n",
      "        texto= obten_txt_total_retribuciones(pdf,nombre_empresa)\n",
      "\n",
      "        #print \"Bien:\", nombre_empresa\n",
      "        txt_guardar = 'pdfs/2paginas/' + nombre_empresa + \".txt\"\n",
      "        text_file = open(txt_guardar, \"wb\")\n",
      "        text_file.write(texto)\n",
      "        text_file.close()\n",
      "    except Exception,e:\n",
      "        #Dan error de lectura, as\u00ed que le cambio los permisos con un comando de linux\n",
      "        nombre_mover = pdf + \".old\"\n",
      "        mvcommand = ['mv', pdf, nombre_mover]\n",
      "        gsProc = subprocess.call(mvcommand)\n",
      "        \n",
      "        print \"MAL\"\n",
      "        print \"pdf: \", pdf\n",
      "        print \"error:\", str(e)\n",
      "        \n",
      "\n",
      "print \"FIN\"\n",
      "\n"
     ],
     "language": "python",
     "metadata": {},
     "outputs": [
      {
       "output_type": "stream",
       "stream": "stdout",
       "text": [
        "MAL\n",
        "pdf:  pdfs/total/document_193.pdf\n",
        "error: EOF marker not found\n",
        "MAL\n",
        "pdf:  pdfs/total/document_1.pdf\n",
        "error: EOF marker not found\n",
        "MAL\n",
        "pdf:  pdfs/total/document_95.pdf\n",
        "error: EOF marker not found\n",
        "MAL\n",
        "pdf:  pdfs/total/document_259.pdf\n",
        "error: EOF marker not found\n",
        "MAL\n",
        "pdf:  pdfs/total/document_147.pdf\n",
        "error: EOF marker not found\n",
        "MAL\n",
        "pdf:  pdfs/total/document_71.pdf\n",
        "error: EOF marker not found\n",
        "MAL\n",
        "pdf:  pdfs/total/document_99.pdf\n",
        "error: EOF marker not found\n",
        "MAL\n",
        "pdf:  pdfs/total/document_21.pdf\n",
        "error: EOF marker not found\n",
        "MAL\n",
        "pdf:  pdfs/total/document_43.pdf\n",
        "error: EOF marker not found\n",
        "MAL\n",
        "pdf:  pdfs/total/document_157.pdf\n",
        "error: EOF marker not found\n",
        "MAL\n",
        "pdf:  pdfs/total/document_269.pdf\n",
        "error: EOF marker not found\n",
        "MAL\n",
        "pdf:  pdfs/total/document_97.pdf\n",
        "error: EOF marker not found\n",
        "MAL"
       ]
      },
      {
       "output_type": "stream",
       "stream": "stdout",
       "text": [
        "\n",
        "pdf:  pdfs/total/document_267.pdf\n",
        "error: EOF marker not found\n",
        "MAL\n",
        "pdf:  pdfs/total/document_25.pdf\n",
        "error: EOF marker not found\n",
        "MAL\n",
        "pdf:  pdfs/total/document_167.pdf\n",
        "error: EOF marker not found\n",
        "MAL\n",
        "pdf:  pdfs/total/document_45.pdf\n",
        "error: EOF marker not found\n",
        "MAL\n",
        "pdf:  pdfs/total/document_203.pdf\n",
        "error: EOF marker not found\n",
        "SOLARIA ENERGIA Y MEDIOAMBIENTE, S.A."
       ]
      },
      {
       "output_type": "stream",
       "stream": "stdout",
       "text": [
        "\n",
        "pdfs/total/document_251.pdf\n",
        "<pyPdf.pdf.PdfFileWriter object at 0x7f644616e7d0>"
       ]
      },
      {
       "output_type": "stream",
       "stream": "stdout",
       "text": [
        "\n",
        "pdfs/2paginas/SOLARIA ENERGIA Y MEDIOAMBIENTE, S.A..pdf\n",
        "MAL\n",
        "pdf:  pdfs/total/document_235.pdf\n",
        "error: EOF marker not found\n",
        "MAL\n",
        "pdf:  pdfs/total/document_145.pdf\n",
        "error: EOF marker not found\n",
        "MAL\n",
        "pdf:  pdfs/total/document_11.pdf\n",
        "error: EOF marker not found\n",
        "MAL"
       ]
      },
      {
       "output_type": "stream",
       "stream": "stdout",
       "text": [
        "\n",
        "pdf:  pdfs/total/document_77.pdf\n",
        "error: EOF marker not found\n",
        "MAL\n",
        "pdf:  pdfs/total/document_163.pdf\n",
        "error: EOF marker not found\n",
        "MAL\n",
        "pdf:  pdfs/total/document_219.pdf\n",
        "error: EOF marker not found\n",
        "MAL\n",
        "pdf:  pdfs/total/document_179.pdf\n",
        "error: EOF marker not found\n",
        "MAL\n",
        "pdf:  pdfs/total/document_59.pdf\n",
        "error: EOF marker not found\n",
        "MAL\n",
        "pdf:  pdfs/total/document_229.pdf\n",
        "error: EOF marker not found\n",
        "MAL"
       ]
      },
      {
       "output_type": "stream",
       "stream": "stdout",
       "text": [
        "\n",
        "pdf:  pdfs/total/document_255.pdf\n",
        "error: Text extraction is not allowed: <open file 'pdfs/total/document_255.pdf', mode 'rb' at 0x7f6445f89660>\n",
        "MAL\n",
        "pdf:  pdfs/total/document_177.pdf\n",
        "error: EOF marker not found\n",
        "MAL\n",
        "pdf:  pdfs/total/document_111.pdf\n",
        "error: EOF marker not found\n",
        "MAL\n",
        "pdf:  pdfs/total/document_5.pdf\n",
        "error: EOF marker not found\n",
        "MAL\n",
        "pdf:  pdfs/total/document_159.pdf\n",
        "error: EOF marker not found\n",
        "MAL\n",
        "pdf:  pdfs/total/document_85.pdf\n",
        "error: EOF marker not found\n",
        "SOCIEDAD ANONIMA HULLERA VASCO-LEONESA"
       ]
      },
      {
       "output_type": "stream",
       "stream": "stdout",
       "text": [
        "\n",
        "pdfs/total/document_249.pdf\n",
        "<pyPdf.pdf.PdfFileWriter object at 0x7f644618ed10>"
       ]
      },
      {
       "output_type": "stream",
       "stream": "stdout",
       "text": [
        "\n",
        "pdfs/2paginas/SOCIEDAD ANONIMA HULLERA VASCO-LEONESA.pdf\n",
        "MAL\n",
        "pdf:  pdfs/total/document_89.pdf\n",
        "error: EOF marker not found\n",
        "SOTOGRANDE, S.A."
       ]
      },
      {
       "output_type": "stream",
       "stream": "stdout",
       "text": [
        "\n",
        "pdfs/total/document_253.pdf\n",
        "<pyPdf.pdf.PdfFileWriter object at 0x7f64460aa790>"
       ]
      },
      {
       "output_type": "stream",
       "stream": "stdout",
       "text": [
        "\n",
        "pdfs/2paginas/SOTOGRANDE, S.A..pdf\n",
        "MAL\n",
        "pdf:  pdfs/total/document_109.pdf\n",
        "error: EOF marker not found\n",
        "MAL\n",
        "pdf:  pdfs/total/document_47.pdf\n",
        "error: EOF marker not found\n",
        "MAL\n",
        "pdf:  pdfs/total/document_23.pdf\n",
        "error: EOF marker not found\n",
        "MAL\n",
        "pdf:  pdfs/total/document_129.pdf\n",
        "error: EOF marker not found\n",
        "MAL\n",
        "pdf:  pdfs/total/document_63.pdf\n",
        "error: EOF marker not found\n",
        "MAL\n",
        "pdf:  pdfs/total/document_223.pdf\n",
        "error: EOF marker not found\n",
        "MAL"
       ]
      },
      {
       "output_type": "stream",
       "stream": "stdout",
       "text": [
        "\n",
        "pdf:  pdfs/total/document_261.pdf\n",
        "error: EOF marker not found\n",
        "MAL\n",
        "pdf:  pdfs/total/document_101.pdf\n",
        "error: EOF marker not found\n",
        "MAL\n",
        "pdf:  pdfs/total/document_257.pdf\n",
        "error: EOF marker not found\n",
        "MAL\n",
        "pdf:  pdfs/total/document_117.pdf\n",
        "error: EOF marker not found\n",
        "MAL\n",
        "pdf:  pdfs/total/document_197.pdf\n",
        "error: EOF marker not found\n",
        "MAL\n",
        "pdf:  pdfs/total/document_69.pdf\n",
        "error: EOF marker not found\n",
        "MAL\n",
        "pdf:  pdfs/total/document_215.pdf\n",
        "error: EOF marker not found\n",
        "MAL\n",
        "pdf:  pdfs/total/document_79.pdf\n",
        "error: EOF marker not found\n",
        "MAL\n",
        "pdf:  pdfs/total/document_61.pdf\n",
        "error: EOF marker not found\n",
        "MAL\n",
        "pdf:  pdfs/total/document_149.pdf\n",
        "error: EOF marker not found\n",
        "MAL"
       ]
      },
      {
       "output_type": "stream",
       "stream": "stdout",
       "text": [
        "\n",
        "pdf:  pdfs/total/document_51.pdf\n",
        "error: EOF marker not found\n",
        "MAL\n",
        "pdf:  pdfs/total/document_105.pdf\n",
        "error: EOF marker not found\n",
        "MAL\n",
        "pdf:  pdfs/total/document_171.pdf\n",
        "error: EOF marker not found\n",
        "MAL\n",
        "pdf:  pdfs/total/document_119.pdf\n",
        "error: EOF marker not found\n",
        "MAL\n",
        "pdf:  pdfs/total/document_55.pdf\n",
        "error: EOF marker not found\n",
        "MAL\n",
        "pdf:  pdfs/total/document_135.pdf\n",
        "error: EOF marker not found\n",
        "MAL\n",
        "pdf:  pdfs/total/document_165.pdf\n",
        "error: EOF marker not found\n",
        "MAL\n",
        "pdf:  pdfs/total/document_13.pdf\n",
        "error: EOF marker not found\n",
        "MAL\n",
        "pdf:  pdfs/total/document_137.pdf\n",
        "error: EOF marker not found\n",
        "MAL"
       ]
      },
      {
       "output_type": "stream",
       "stream": "stdout",
       "text": [
        "\n",
        "pdf:  pdfs/total/document_9.pdf\n",
        "error: EOF marker not found\n",
        "MAL\n",
        "pdf:  pdfs/total/document_127.pdf\n",
        "error: EOF marker not found\n",
        "MAL\n",
        "pdf:  pdfs/total/document_49.pdf\n",
        "error: EOF marker not found\n",
        "MAL\n",
        "pdf:  pdfs/total/document_41.pdf\n",
        "error: EOF marker not found\n",
        "MAL\n",
        "pdf:  pdfs/total/document_209.pdf\n",
        "error: EOF marker not found\n",
        "SNIACE, S.A."
       ]
      },
      {
       "output_type": "stream",
       "stream": "stdout",
       "text": [
        "\n",
        "pdfs/total/document_247.pdf\n",
        "<pyPdf.pdf.PdfFileWriter object at 0x7f6446e49ed0>"
       ]
      },
      {
       "output_type": "stream",
       "stream": "stdout",
       "text": [
        "\n",
        "pdfs/2paginas/SNIACE, S.A..pdf\n",
        "MAL\n",
        "pdf:  pdfs/total/document_155.pdf\n",
        "error: EOF marker not found\n",
        "MAL\n",
        "pdf:  pdfs/total/document_263.pdf\n",
        "error: EOF marker not found\n",
        "MAL\n",
        "pdf:  pdfs/total/document_175.pdf\n",
        "error: EOF marker not found\n",
        "MAL\n",
        "pdf:  pdfs/total/document_181.pdf\n",
        "error: EOF marker not found\n",
        "MAL\n",
        "pdf:  pdfs/total/document_233.pdf\n",
        "error: EOF marker not found\n",
        "MAL"
       ]
      },
      {
       "output_type": "stream",
       "stream": "stdout",
       "text": [
        "\n",
        "pdf:  pdfs/total/document_3.pdf\n",
        "error: EOF marker not found\n",
        "MAL\n",
        "pdf:  pdfs/total/document_53.pdf\n",
        "error: EOF marker not found\n",
        "MAL\n",
        "pdf:  pdfs/total/document_187.pdf\n",
        "error: EOF marker not found\n",
        "MAL\n",
        "pdf:  pdfs/total/document_37.pdf\n",
        "error: EOF marker not found\n",
        "MAL\n",
        "pdf:  pdfs/total/document_265.pdf\n",
        "error: EOF marker not found\n",
        "MAL\n",
        "pdf:  pdfs/total/document_123.pdf\n",
        "error: EOF marker not found\n",
        "MAL\n",
        "pdf:  pdfs/total/document_17.pdf\n",
        "error: EOF marker not found\n",
        "MAL\n",
        "pdf:  pdfs/total/document_113.pdf\n",
        "error: EOF marker not found\n",
        "MAL\n",
        "pdf:  pdfs/total/document_73.pdf\n",
        "error: EOF marker not found\n",
        "MAL\n",
        "pdf:  pdfs/total/document_237.pdf\n",
        "error: EOF marker not found\n",
        "MAL\n",
        "pdf:  pdfs/total/document_143.pdf\n",
        "error: EOF marker not found\n",
        "MAL"
       ]
      },
      {
       "output_type": "stream",
       "stream": "stdout",
       "text": [
        "\n",
        "pdf:  pdfs/total/document_133.pdf\n",
        "error: EOF marker not found\n",
        "MAL\n",
        "pdf:  pdfs/total/document_191.pdf\n",
        "error: EOF marker not found\n",
        "MAL\n",
        "pdf:  pdfs/total/document_201.pdf\n",
        "error: EOF marker not found\n",
        "MAL\n",
        "pdf:  pdfs/total/document_183.pdf\n",
        "error: EOF marker not found\n",
        "MAL\n",
        "pdf:  pdfs/total/document_121.pdf\n",
        "error: EOF marker not found\n",
        "MAL\n",
        "pdf:  pdfs/total/document_231.pdf\n",
        "error: EOF marker not found\n",
        "MAL\n",
        "pdf:  pdfs/total/document_39.pdf\n",
        "error: EOF marker not found\n",
        "MAL\n",
        "pdf:  pdfs/total/document_19.pdf\n",
        "error: EOF marker not found\n",
        "MAL"
       ]
      },
      {
       "output_type": "stream",
       "stream": "stdout",
       "text": [
        "\n",
        "pdf:  pdfs/total/document_65.pdf\n",
        "error: EOF marker not found\n",
        "MAL\n",
        "pdf:  pdfs/total/document_81.pdf\n",
        "error: EOF marker not found\n",
        "MAL\n",
        "pdf:  pdfs/total/document_221.pdf\n",
        "error: EOF marker not found\n",
        "MAL\n",
        "pdf:  pdfs/total/document_217.pdf\n",
        "error: EOF marker not found\n",
        "MAL\n",
        "pdf:  pdfs/total/document_211.pdf\n",
        "error: EOF marker not found\n",
        "MAL\n",
        "pdf:  pdfs/total/document_185.pdf\n",
        "error: EOF marker not found\n",
        "MAL\n",
        "pdf:  pdfs/total/document_27.pdf\n",
        "error: EOF marker not found\n",
        "MAL\n",
        "pdf:  pdfs/total/document_169.pdf\n",
        "error: EOF marker not found\n",
        "MAL\n",
        "pdf:  pdfs/total/document_239.pdf\n",
        "error: EOF marker not found\n",
        "MAL\n",
        "pdf:  pdfs/total/document_31.pdf\n",
        "error: EOF marker not found\n",
        "MAL"
       ]
      },
      {
       "output_type": "stream",
       "stream": "stdout",
       "text": [
        "\n",
        "pdf:  pdfs/total/document_173.pdf\n",
        "error: EOF marker not found\n",
        "SERVICE POINT SOLUTIONS, S.A.\n",
        "pdfs/total/document_245.pdf\n",
        "<pyPdf.pdf.PdfFileWriter object at 0x7f6445d9a150>"
       ]
      },
      {
       "output_type": "stream",
       "stream": "stdout",
       "text": [
        "\n",
        "pdfs/2paginas/SERVICE POINT SOLUTIONS, S.A..pdf\n",
        "MAL\n",
        "pdf:  pdfs/total/document_141.pdf\n",
        "error: EOF marker not found\n",
        "MAL\n",
        "pdf:  pdfs/total/document_207.pdf\n",
        "error: EOF marker not found\n",
        "MAL\n",
        "pdf:  pdfs/total/document_35.pdf\n",
        "error: EOF marker not found\n",
        "MAL\n",
        "pdf:  pdfs/total/document_199.pdf\n",
        "error: EOF marker not found\n",
        "SACYR, S.A."
       ]
      },
      {
       "output_type": "stream",
       "stream": "stdout",
       "text": [
        "\n",
        "pdfs/total/document_241.pdf\n",
        "<pyPdf.pdf.PdfFileWriter object at 0x7f6445b5e490>"
       ]
      },
      {
       "output_type": "stream",
       "stream": "stdout",
       "text": [
        "\n",
        "pdfs/2paginas/SACYR, S.A..pdf\n",
        "MAL\n",
        "pdf:  pdfs/total/document_57.pdf\n",
        "error: EOF marker not found\n",
        "MAL\n",
        "pdf:  pdfs/total/document_125.pdf\n",
        "error: EOF marker not found\n",
        "MAL\n",
        "pdf:  pdfs/total/document_225.pdf\n",
        "error: EOF marker not found\n",
        "MAL\n",
        "pdf:  pdfs/total/document_189.pdf\n",
        "error: EOF marker not found\n",
        "MAL\n",
        "pdf:  pdfs/total/document_151.pdf\n",
        "error: EOF marker not found\n",
        "MAL"
       ]
      },
      {
       "output_type": "stream",
       "stream": "stdout",
       "text": [
        "\n",
        "pdf:  pdfs/total/document_15.pdf\n",
        "error: EOF marker not found\n",
        "MAL\n",
        "pdf:  pdfs/total/document_33.pdf\n",
        "error: EOF marker not found\n",
        "MAL\n",
        "pdf:  pdfs/total/document_83.pdf\n",
        "error: EOF marker not found\n",
        "MAL\n",
        "pdf:  pdfs/total/document_227.pdf\n",
        "error: EOF marker not found\n",
        "MAL\n",
        "pdf:  pdfs/total/document_271.pdf\n",
        "error: EOF marker not found\n",
        "MAL\n",
        "pdf:  pdfs/total/document_87.pdf\n",
        "error: EOF marker not found\n",
        "MAL\n",
        "pdf:  pdfs/total/document_161.pdf\n",
        "error: EOF marker not found\n",
        "MAL\n",
        "pdf:  pdfs/total/document_107.pdf\n",
        "error: EOF marker not found\n",
        "MAL"
       ]
      },
      {
       "output_type": "stream",
       "stream": "stdout",
       "text": [
        "\n",
        "pdf:  pdfs/total/document_115.pdf\n",
        "error: EOF marker not found\n",
        "MAL\n",
        "pdf:  pdfs/total/document_7.pdf\n",
        "error: EOF marker not found\n",
        "MAL\n",
        "pdf:  pdfs/total/document_139.pdf\n",
        "error: EOF marker not found\n",
        "MAL\n",
        "pdf:  pdfs/total/document_131.pdf\n",
        "error: EOF marker not found\n",
        "MAL\n",
        "pdf:  pdfs/total/document_153.pdf\n",
        "error: EOF marker not found\n",
        "MAL\n",
        "pdf:  pdfs/total/document_195.pdf\n",
        "error: EOF marker not found\n",
        "MAL\n",
        "pdf:  pdfs/total/document_103.pdf\n",
        "error: EOF marker not found\n",
        "SAINT CROIX HOLDING IMMOBILIER, SOCIMI, S.A."
       ]
      },
      {
       "output_type": "stream",
       "stream": "stdout",
       "text": [
        "\n",
        "pdfs/total/document_243.pdf\n",
        "<pyPdf.pdf.PdfFileWriter object at 0x7f6470dbebd0>"
       ]
      },
      {
       "output_type": "stream",
       "stream": "stdout",
       "text": [
        "\n",
        "pdfs/2paginas/SAINT CROIX HOLDING IMMOBILIER, SOCIMI, S.A..pdf\n",
        "MAL\n",
        "pdf:  pdfs/total/document_75.pdf\n",
        "error: EOF marker not found\n",
        "MAL\n",
        "pdf:  pdfs/total/document_67.pdf\n",
        "error: EOF marker not found\n",
        "MAL\n",
        "pdf:  pdfs/total/document_93.pdf\n",
        "error: EOF marker not found\n",
        "MAL\n",
        "pdf:  pdfs/total/document_205.pdf\n",
        "error: EOF marker not found\n",
        "MAL\n",
        "pdf:  pdfs/total/document_213.pdf\n",
        "error: EOF marker not found\n",
        "MAL\n",
        "pdf:  pdfs/total/document_29.pdf\n",
        "error: EOF marker not found\n",
        "MAL"
       ]
      },
      {
       "output_type": "stream",
       "stream": "stdout",
       "text": [
        "\n",
        "pdf:  pdfs/total/document_91.pdf\n",
        "error: EOF marker not found\n",
        "FIN\n"
       ]
      }
     ],
     "prompt_number": 10
    },
    {
     "cell_type": "code",
     "collapsed": false,
     "input": [
      "olds = glob.glob('pdfs/total/*.old')\n",
      "\n",
      "#Vamos a ver si podemos hacer algo con los que han fallado. Pinto el comando que tengo que ejecutar en la consola\n",
      "for old in olds:\n",
      "    nombre_nuevo =  old + \".new.pdf\"        \n",
      "    print 'gs','-q', '-dNOPAUSE', '-dBATCH', '-sDEVICE=pdfwrite', '-sOutputFile=%stdout%' ,'-c', '.setpdfwrite', '-f', old ,'>', nombre_nuevo\n",
      "    \n",
      "    #error = gsProc.communicate()[0]\n",
      "\n",
      "    \n",
      "#copiar el resultado y pegarlo en la l\u00ednea de comandos, porque no he conseguido hacerlo desde aqu\u00ed"
     ],
     "language": "python",
     "metadata": {},
     "outputs": [
      {
       "output_type": "stream",
       "stream": "stdout",
       "text": [
        "gs -q -dNOPAUSE -dBATCH -sDEVICE=pdfwrite -sOutputFile=%stdout% -c .setpdfwrite -f pdfs/total/document_137.pdf.old > pdfs/total/document_137.pdf.old.new.pdf\n",
        "gs -q -dNOPAUSE -dBATCH -sDEVICE=pdfwrite -sOutputFile=%stdout% -c .setpdfwrite -f pdfs/total/document_239.pdf.old > pdfs/total/document_239.pdf.old.new.pdf\n",
        "gs -q -dNOPAUSE -dBATCH -sDEVICE=pdfwrite -sOutputFile=%stdout% -c .setpdfwrite -f pdfs/total/document_99.pdf.old > pdfs/total/document_99.pdf.old.new.pdf\n",
        "gs -q -dNOPAUSE -dBATCH -sDEVICE=pdfwrite -sOutputFile=%stdout% -c .setpdfwrite -f pdfs/total/document_143.pdf.old > pdfs/total/document_143.pdf.old.new.pdf\n",
        "gs -q -dNOPAUSE -dBATCH -sDEVICE=pdfwrite -sOutputFile=%stdout% -c .setpdfwrite -f pdfs/total/document_95.pdf.old > pdfs/total/document_95.pdf.old.new.pdf\n",
        "gs -q -dNOPAUSE -dBATCH -sDEVICE=pdfwrite -sOutputFile=%stdout% -c .setpdfwrite -f pdfs/total/document_183.pdf.old > pdfs/total/document_183.pdf.old.new.pdf\n",
        "gs -q -dNOPAUSE -dBATCH -sDEVICE=pdfwrite -sOutputFile=%stdout% -c .setpdfwrite -f pdfs/total/document_51.pdf.old > pdfs/total/document_51.pdf.old.new.pdf\n",
        "gs -q -dNOPAUSE -dBATCH -sDEVICE=pdfwrite -sOutputFile=%stdout% -c .setpdfwrite -f pdfs/total/document_151.pdf.old > pdfs/total/document_151.pdf.old.new.pdf\n",
        "gs -q -dNOPAUSE -dBATCH -sDEVICE=pdfwrite -sOutputFile=%stdout% -c .setpdfwrite -f pdfs/total/document_169.pdf.old > pdfs/total/document_169.pdf.old.new.pdf\n",
        "gs -q -dNOPAUSE -dBATCH -sDEVICE=pdfwrite -sOutputFile=%stdout% -c .setpdfwrite -f pdfs/total/document_35.pdf.old > pdfs/total/document_35.pdf.old.new.pdf\n",
        "gs -q -dNOPAUSE -dBATCH -sDEVICE=pdfwrite -sOutputFile=%stdout% -c .setpdfwrite -f pdfs/total/document_87.pdf.old > pdfs/total/document_87.pdf.old.new.pdf\n",
        "gs -q -dNOPAUSE -dBATCH -sDEVICE=pdfwrite -sOutputFile=%stdout% -c .setpdfwrite -f pdfs/total/document_53.pdf.old > pdfs/total/document_53.pdf.old.new.pdf\n",
        "gs -q -dNOPAUSE -dBATCH -sDEVICE=pdfwrite -sOutputFile=%stdout% -c .setpdfwrite -f pdfs/total/document_207.pdf.old > pdfs/total/document_207.pdf.old.new.pdf\n",
        "gs -q -dNOPAUSE -dBATCH -sDEVICE=pdfwrite -sOutputFile=%stdout% -c .setpdfwrite -f pdfs/total/document_29.pdf.old > pdfs/total/document_29.pdf.old.new.pdf\n",
        "gs -q -dNOPAUSE -dBATCH -sDEVICE=pdfwrite -sOutputFile=%stdout% -c .setpdfwrite -f pdfs/total/document_53.pdf.old.new.pdf.old > pdfs/total/document_53.pdf.old.new.pdf.old.new.pdf\n",
        "gs -q -dNOPAUSE -dBATCH -sDEVICE=pdfwrite -sOutputFile=%stdout% -c .setpdfwrite -f pdfs/total/document_55.pdf.old > pdfs/total/document_55.pdf.old.new.pdf\n"
       ]
      }
     ],
     "prompt_number": 9
    },
    {
     "cell_type": "code",
     "collapsed": false,
     "input": [
      "#Saco los que me dieron error y que he modificado sus permisos y repito el proceso\n",
      "pdfs = glob.glob('pdfs/total/*.old.new.pdf')\n",
      "\n",
      "##itero sobre los pdfs\n",
      "#pdfs = ['pdfs/total/document_193.pdf']\n",
      "\n",
      "for pdf in pdfs:\n",
      "\n",
      "    \n",
      "    try:\n",
      "        nombre_empresa = obtenNombreEmpresa(pdf)\n",
      "        print nombre_empresa\n",
      "\n",
      "        texto= obten_txt_total_retribuciones(pdf,nombre_empresa)\n",
      "        #print \"Bien:\", nombre_empresa\n",
      "        txt_guardar = 'pdfs/2paginas/' + nombre_empresa + \".txt\"\n",
      "        text_file = open(txt_guardar, \"wb\")\n",
      "        text_file.write(texto)\n",
      "        text_file.close()\n",
      "    except Exception,e:\n",
      "        #Dan error de lectura, as\u00ed que le cambio los permisos con un comando de linux\n",
      "        nombre_mover = pdf + \".old\"\n",
      "        mvcommand = ['mv', pdf, nombre_mover]\n",
      "        gsProc = subprocess.call(mvcommand)\n",
      "        print \"\"\n",
      "        print \"******\"\n",
      "        print \"MAL\"\n",
      "        print \"pdf: \", pdf\n",
      "        print \"error:\", str(e)\n",
      "        print \"*****\"\n",
      "        print \"\"\n",
      "        \n",
      "\n",
      "print \"FIN\"\n",
      "\n",
      "\n",
      "\n",
      "\n",
      "\n"
     ],
     "language": "python",
     "metadata": {},
     "outputs": [
      {
       "output_type": "stream",
       "stream": "stdout",
       "text": [
        "\n",
        "******\n",
        "MAL\n",
        "pdf:  pdfs/total/document_137.pdf.old.new.pdf\n",
        "error: \n",
        "*****\n",
        "\n",
        "FIN\n"
       ]
      }
     ],
     "prompt_number": 17
    },
    {
     "cell_type": "code",
     "collapsed": false,
     "input": [
      "#Voy a crearme los objetos que almacenar\u00e1n el contenido de las tablas\n",
      "nombre_empresa = []\n",
      "consejero = []\n",
      "sociedad_total_metalico = []\n",
      "sociedad_acciones_otorgadas =[]\n",
      "sociedad_acciones_ejecutadas = []\n",
      "sociedad_total = []\n",
      "otras_total_metalico = []\n",
      "otras_acciones_otorgadas =[]\n",
      "otras_acciones_ejecutadas = []\n",
      "otras_total = []\n",
      "total_2014=[]\n",
      "total_2013=[]\n",
      "aportaciones_ahorro=[]\n",
      "\n",
      "#Este dataframe ser\u00e1 la tabla final\n",
      "retribuciones2 = pd.DataFrame()\n",
      "\n",
      "#Itero sobre los txts que me he creado anteriormente\n",
      "txts = glob.glob('pdfs/2paginas/*.txt')\n",
      "print len(txts)\n",
      "for txt in txts:\n",
      "    start = False\n",
      "    infile = open(txt, 'r')\n",
      "    nombre = txt.split(\"/\")\n",
      "    empresa = nombre[2]\n",
      "    empresa = empresa[:len(empresa)-4]\n",
      "    print empresa\n",
      "    for line in infile.readlines():\n",
      "        \n",
      "        if start:\n",
      "            \n",
      "            mach1 = re.findall('^Nombre',line.strip())\n",
      "            mach2 = re.findall('^TOTAL', line.strip())\n",
      "            if len(mach2)>0 or len(mach1)>0:\n",
      "               \n",
      "                start = False\n",
      "            else:\n",
      "                if len(line.replace(\" \", \"\"))>10:\n",
      "                    campos = line.split(\"  \")\n",
      "                    campos = filter(None, campos)\n",
      "    \n",
      "                    for i in range(0, len(campos)):\n",
      "                        campos[i] = campos[i].strip()\n",
      "                    \n",
      "                    if len(campos)== 12:\n",
      "                        nombre_empresa.append(empresa)\n",
      "                        consejero.append(campos[0])\n",
      "                        sociedad_total_metalico.append(campos[1])\n",
      "                        sociedad_acciones_otorgadas.append(campos[2])\n",
      "                        sociedad_acciones_ejecutadas.append(campos[3])\n",
      "                        sociedad_total.append(campos[4])\n",
      "                        otras_total_metalico.append(campos[5])\n",
      "                        otras_acciones_otorgadas.append(campos[6])\n",
      "                        otras_acciones_ejecutadas.append(campos[7])\n",
      "                        otras_total.append(campos[8])\n",
      "                        total_2014.append(campos[9])\n",
      "                        total_2013.append(campos[10])\n",
      "                        aportaciones_ahorro.append(campos[11])\n",
      "                    else:\n",
      "                        if len(campos)== 11:\n",
      "                            nombre_empresa.append(empresa)\n",
      "                            consejero.append(campos[0])\n",
      "                            sociedad_total_metalico.append(campos[1])\n",
      "                            sociedad_acciones_otorgadas.append(campos[2])\n",
      "                            sociedad_acciones_ejecutadas.append(campos[3])\n",
      "                            sociedad_total.append(campos[4])\n",
      "                            otras_total_metalico.append(campos[5])\n",
      "                            otras_acciones_otorgadas.append(campos[6])\n",
      "                            otras_acciones_ejecutadas.append(campos[7])\n",
      "                            otras_total.append(campos[8])\n",
      "                            total_2014.append(campos[9])\n",
      "                            total_2013.append('0')\n",
      "                            aportaciones_ahorro.append(campos[10])                \n",
      "                        else:\n",
      "                            print \"este da error: \", empresa, \"->\", campos\n",
      "        else:\n",
      "            mach = re.findall('^ejercicio',line.strip())\n",
      "            if len(mach)>0:\n",
      "                start= True\n",
      "                #consejeros.append(mach)\n",
      "                #fila_c = fila\n",
      "retribuciones2[\"nombre_empresa\"] = nombre_empresa\n",
      "retribuciones2[\"consejero\"] = consejero\n",
      "retribuciones2[\"sociedad_total_metalico\"] = sociedad_total_metalico\n",
      "retribuciones2[\"sociedad_acciones_otorgadas\"] = sociedad_acciones_otorgadas\n",
      "retribuciones2[\"sociedad_acciones_ejecutadas\"] = sociedad_acciones_ejecutadas\n",
      "retribuciones2[\"sociedad_total\"] = sociedad_total\n",
      "retribuciones2[\"otras_total_metalico\"] = otras_total_metalico\n",
      "retribuciones2[\"otras_acciones_otorgadas\"] = otras_acciones_otorgadas\n",
      "retribuciones2[\"otras_acciones_ejecutadas\"] = otras_acciones_ejecutadas\n",
      "retribuciones2[\"otras_total\"] = otras_total\n",
      "retribuciones2[\"total_2014\"] = total_2014\n",
      "retribuciones2[\"total_2013\"] = total_2013\n",
      "retribuciones2[\"aportaciones_ahorro\"] = aportaciones_ahorro\n",
      "\n",
      "\n",
      "retribuciones2.to_csv(\"retribuciones_final_total.csv\")"
     ],
     "language": "python",
     "metadata": {},
     "outputs": [
      {
       "output_type": "stream",
       "stream": "stdout",
       "text": [
        "7\n",
        "SACYR, S.A.\n",
        "SERVICE POINT SOLUTIONS, S.A.\n",
        "SOLARIA ENERGIA Y MEDIOAMBIENTE, S.A.\n",
        "SOTOGRANDE, S.A.\n",
        "SNIACE, S.A.\n",
        "SOCIEDAD ANONIMA HULLERA VASCO-LEONESA\n",
        "SAINT CROIX HOLDING IMMOBILIER, SOCIMI, S.A.\n"
       ]
      }
     ],
     "prompt_number": 12
    },
    {
     "cell_type": "code",
     "collapsed": false,
     "input": [
      "print (retribuciones2.nombre_empresa.unique())"
     ],
     "language": "python",
     "metadata": {},
     "outputs": [
      {
       "output_type": "stream",
       "stream": "stdout",
       "text": [
        "['SACYR, S.A.' 'SERVICE POINT SOLUTIONS, S.A.'\n",
        " 'SOLARIA ENERGIA Y MEDIOAMBIENTE, S.A.' 'SOTOGRANDE, S.A.' 'SNIACE, S.A.'\n",
        " 'SOCIEDAD ANONIMA HULLERA VASCO-LEONESA'\n",
        " 'SAINT CROIX HOLDING IMMOBILIER, SOCIMI, S.A.']\n"
       ]
      }
     ],
     "prompt_number": 14
    },
    {
     "cell_type": "code",
     "collapsed": false,
     "input": [
      "print retribuciones2[retribuciones2.nombre_empresa=='SACYR, S.A.']"
     ],
     "language": "python",
     "metadata": {},
     "outputs": [
      {
       "output_type": "stream",
       "stream": "stdout",
       "text": [
        "   nombre_empresa                        consejero sociedad_total_metalico  \\\n",
        "0     SACYR, S.A.     DIOGO ALVES DINIZ VAZ GUEDES                      79   \n",
        "1     SACYR, S.A.          MATIAS CORT\u00c9S DOM\u00cdNGUEZ                      79   \n",
        "2     SACYR, S.A.            AUGUSTO DELKADER TEIG                      59   \n",
        "3     SACYR, S.A.             RAIMUNDO BAROJA RIEU                      59   \n",
        "4     SACYR, S.A.          MANUEL MANRIQUE CECILIA                   2.855   \n",
        "5     SACYR, S.A.          DEMETRIO CARCELLER ARCE                     118   \n",
        "6     SACYR, S.A.       JUAN MAR\u00cdA AGUIRRE GONZALO                      79   \n",
        "7     SACYR, S.A.  FRANCISCO JAVIER ADROHER BIOSCA                      59   \n",
        "8     SACYR, S.A.                    CYMOFAG, S.L.                      59   \n",
        "9     SACYR, S.A.  GRUPO SATOCAN DESARROLLOS, S.L.                      79   \n",
        "10    SACYR, S.A.  GRUPO CORPORATIVO FUERTES, S.L.                      79   \n",
        "11    SACYR, S.A.             BETA ASOCIADOS, S.L.                      59   \n",
        "12    SACYR, S.A.                     PRILOU, S.L.                     118   \n",
        "13    SACYR, S.A.                    PRILOMI, S.L.                      59   \n",
        "\n",
        "   sociedad_acciones_otorgadas sociedad_acciones_ejecutadas sociedad_total  \\\n",
        "0                            0                            0             79   \n",
        "1                            0                            0             79   \n",
        "2                            0                            0             59   \n",
        "3                            0                            0             59   \n",
        "4                            0                            0          2.855   \n",
        "5                            0                            0            118   \n",
        "6                            0                            0             79   \n",
        "7                            0                            0             59   \n",
        "8                            0                            0             59   \n",
        "9                            0                            0             79   \n",
        "10                           0                            0             79   \n",
        "11                           0                            0             59   \n",
        "12                           0                            0            118   \n",
        "13                           0                            0             59   \n",
        "\n",
        "   otras_total_metalico otras_acciones_otorgadas otras_acciones_ejecutadas  \\\n",
        "0                     0                        0                         0   \n",
        "1                     0                        0                         0   \n",
        "2                     0                        0                         0   \n",
        "3                     0                        0                         0   \n",
        "4                     0                        0                         0   \n",
        "5                     0                        0                         0   \n",
        "6                     0                        0                         0   \n",
        "7                     0                        0                         0   \n",
        "8                     0                        0                         0   \n",
        "9                     0                        0                         0   \n",
        "10                    0                        0                         0   \n",
        "11                    0                        0                         0   \n",
        "12                    0                        0                         0   \n",
        "13                    0                        0                         0   \n",
        "\n",
        "   otras_total total_2014 total_2013 aportaciones_ahorro  \n",
        "0            0         79         60                   0  \n",
        "1            0         79         48                   0  \n",
        "2            0         59         28                   0  \n",
        "3            0         59         28                   0  \n",
        "4            0      2.873      2.547               1.071  \n",
        "5            0        118         82                   0  \n",
        "6            0         79         35                   0  \n",
        "7            0         59         45                   0  \n",
        "8            0         59         45                   0  \n",
        "9            0         79         29                   0  \n",
        "10           0         79         52                   0  \n",
        "11           0         59         45                   0  \n",
        "12           0        118         82                   0  \n",
        "13           0         59         45                   0  \n"
       ]
      }
     ],
     "prompt_number": 16
    },
    {
     "cell_type": "code",
     "collapsed": false,
     "input": [
      "#gs -q -dNOPAUSE -dBATCH -sDEVICE=pdfwrite -sOutputFile=%stdout% -c .setpdfwrite -f document_29.pdf > document_29_new.pdf\n",
      "#mv document_29.pdf document_29.old"
     ],
     "language": "python",
     "metadata": {},
     "outputs": [],
     "prompt_number": 305
    },
    {
     "cell_type": "code",
     "collapsed": false,
     "input": [
      "print len(retribuciones2.nombre_empresa.unique())"
     ],
     "language": "python",
     "metadata": {},
     "outputs": [
      {
       "output_type": "stream",
       "stream": "stdout",
       "text": [
        "133\n"
       ]
      }
     ],
     "prompt_number": 15
    },
    {
     "cell_type": "code",
     "collapsed": false,
     "input": [],
     "language": "python",
     "metadata": {},
     "outputs": []
    }
   ],
   "metadata": {}
  }
 ]
}